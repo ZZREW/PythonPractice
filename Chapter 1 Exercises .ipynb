{
 "cells": [
  {
   "cell_type": "markdown",
   "id": "c773d078",
   "metadata": {},
   "source": [
    "# Chapter 1 Ex.\n",
    "\n",
    "Problems 1, 3, 4, 5, 6\n"
   ]
  },
  {
   "cell_type": "markdown",
   "id": "8307d508",
   "metadata": {},
   "source": [
    "## Ex 1"
   ]
  },
  {
   "cell_type": "code",
   "execution_count": 1,
   "id": "757b81fe",
   "metadata": {},
   "outputs": [
    {
     "name": "stdout",
     "output_type": "stream",
     "text": [
      "This is a test of the Python interpreter.\n"
     ]
    }
   ],
   "source": [
    "print('This is a test of the Python interpreter.')"
   ]
  },
  {
   "cell_type": "code",
   "execution_count": 2,
   "id": "392b05bf",
   "metadata": {
    "scrolled": false
   },
   "outputs": [
    {
     "name": "stdout",
     "output_type": "stream",
     "text": [
      "What is yout name?\n"
     ]
    }
   ],
   "source": [
    "print('What is yout name?')"
   ]
  },
  {
   "cell_type": "code",
   "execution_count": 3,
   "id": "89a3a39d",
   "metadata": {},
   "outputs": [
    {
     "name": "stdout",
     "output_type": "stream",
     "text": [
      "What is your dream car?\n"
     ]
    }
   ],
   "source": [
    "print('What is your dream car?')"
   ]
  },
  {
   "cell_type": "markdown",
   "id": "ef1f86c7",
   "metadata": {},
   "source": [
    "## Ex 3\n",
    "Use what you’ve learned about the binary numbering system in this chapter to convert the following decimal numbers to binary:\n",
    "\n",
    "11 = 00001011\n",
    "65 = 01000001\n",
    "100 = 01100100\n",
    "255 = 11111111"
   ]
  },
  {
   "cell_type": "markdown",
   "id": "b96f0495",
   "metadata": {},
   "source": [
    "## Ex 4\n",
    "\n",
    "Use what you’ve learned about the binary numbering system in this chapter to convert the following binary numbers to decimal:\n",
    "\n",
    "1101 = 13\n",
    "1000 = 8\n",
    "101011 = 43"
   ]
  },
  {
   "cell_type": "markdown",
   "id": "d407341e",
   "metadata": {},
   "source": [
    "## Ex 5\n",
    "\n",
    "Look at the ASCII chart in Appendix C and determine the codes for each letter of your first name.  \n",
    "\n",
    "A = 01000001\n",
    "N = 01001110\n",
    "D = 01000100\n",
    "R = 01010010\n",
    "E = 01000101\n",
    "W = 01010111\n",
    "\n",
    "W = 01010111\n",
    "A = 01000001\n",
    "L = 01001100\n",
    "K = 01001011\n",
    "E = 01000101\n",
    "R = 01010010"
   ]
  },
  {
   "cell_type": "markdown",
   "id": "35cb834f",
   "metadata": {},
   "source": [
    "## Ex 6\n",
    "\n",
    "Use the Internet to research the history of the Python programming language, and answer the following questions:\n",
    "Who was the creator of Python?\n",
    "- Guido van Rossum\n",
    "\n",
    "When was Python created?\n",
    "- February 1991 according to google\n",
    "\n",
    "In the Python programming community, the person who created Python is commonly referred to as the “BDFL.” What does this mean?\n",
    "- benevolent dictator for life according to wiki"
   ]
  },
  {
   "cell_type": "code",
   "execution_count": null,
   "id": "c60c3cf0",
   "metadata": {},
   "outputs": [],
   "source": []
  }
 ],
 "metadata": {
  "kernelspec": {
   "display_name": "Python 3 (ipykernel)",
   "language": "python",
   "name": "python3"
  },
  "language_info": {
   "codemirror_mode": {
    "name": "ipython",
    "version": 3
   },
   "file_extension": ".py",
   "mimetype": "text/x-python",
   "name": "python",
   "nbconvert_exporter": "python",
   "pygments_lexer": "ipython3",
   "version": "3.11.4"
  }
 },
 "nbformat": 4,
 "nbformat_minor": 5
}
