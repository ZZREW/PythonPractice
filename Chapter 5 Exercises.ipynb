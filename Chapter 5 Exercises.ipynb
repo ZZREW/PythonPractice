{
 "cells": [
  {
   "cell_type": "markdown",
   "id": "e22c9875",
   "metadata": {},
   "source": [
    "# Chapter 5 Exercises"
   ]
  },
  {
   "cell_type": "markdown",
   "id": "90336a81",
   "metadata": {},
   "source": [
    "### Algorithm Workbench"
   ]
  },
  {
   "cell_type": "markdown",
   "id": "626c8570",
   "metadata": {},
   "source": [
    "#### Question 1\n",
    "\n",
    "Write a function named times_ten. The function should accept an argument and display the product of its argument multiplied times 10."
   ]
  },
  {
   "cell_type": "code",
   "execution_count": null,
   "id": "bd46fc96",
   "metadata": {},
   "outputs": [],
   "source": [
    "# Write def function to start\n",
    "def times_ten():"
   ]
  },
  {
   "cell_type": "code",
   "execution_count": 2,
   "id": "035dd236",
   "metadata": {},
   "outputs": [],
   "source": [
    "# Write arguement for function\n",
    "def times_ten():\n",
    "    packets_of_flower = int(input('How many packets of flower do you have? '))"
   ]
  },
  {
   "cell_type": "markdown",
   "id": "c3cfdbf2",
   "metadata": {},
   "source": [
    "Created a variable for my argument statement i'm creating, variable name is packets of flower, the program will ask the user how many packets of flower they have. "
   ]
  },
  {
   "cell_type": "code",
   "execution_count": 3,
   "id": "d08f5781",
   "metadata": {},
   "outputs": [
    {
     "ename": "SyntaxError",
     "evalue": "cannot assign to expression here. Maybe you meant '==' instead of '='? (1259613776.py, line 4)",
     "output_type": "error",
     "traceback": [
      "\u001b[0;36m  Cell \u001b[0;32mIn[3], line 4\u001b[0;36m\u001b[0m\n\u001b[0;31m    packets_of_flower * 10 = cakes\u001b[0m\n\u001b[0m    ^\u001b[0m\n\u001b[0;31mSyntaxError\u001b[0m\u001b[0;31m:\u001b[0m cannot assign to expression here. Maybe you meant '==' instead of '='?\n"
     ]
    }
   ],
   "source": [
    "# Complete writing arguement for fuction\n",
    "def times_ten():\n",
    "    packets_of_flower = int(input('How many packets of flower do you have? '))\n",
    "    packets_of_flower * 10 = cakes"
   ]
  },
  {
   "cell_type": "code",
   "execution_count": 4,
   "id": "0a21b7b3",
   "metadata": {},
   "outputs": [],
   "source": [
    "# Fix code line 4 \n",
    "def times_ten():\n",
    "    packets_of_flower = int(input('How many packets of flower do you have? '))\n",
    "    packets_of_flower * 10 == cakes"
   ]
  },
  {
   "cell_type": "markdown",
   "id": "81e8d72c",
   "metadata": {},
   "source": [
    "Made a equation to display the product of a variables argument multipled times 10"
   ]
  },
  {
   "cell_type": "code",
   "execution_count": 5,
   "id": "f547356d",
   "metadata": {},
   "outputs": [],
   "source": [
    "# Add print statement\n",
    "def times_ten():\n",
    "    packets_of_flower = int(input('How many packets of flower do you have? '))\n",
    "    packets_of_flower * 10 == cakes\n",
    "    print(f'You can bake {cakes} cakes.')"
   ]
  },
  {
   "cell_type": "code",
   "execution_count": 6,
   "id": "afd9cc6a",
   "metadata": {},
   "outputs": [
    {
     "name": "stdout",
     "output_type": "stream",
     "text": [
      "How many packets of flower do you have? 3\n"
     ]
    },
    {
     "ename": "NameError",
     "evalue": "name 'cakes' is not defined",
     "output_type": "error",
     "traceback": [
      "\u001b[0;31m---------------------------------------------------------------------------\u001b[0m",
      "\u001b[0;31mNameError\u001b[0m                                 Traceback (most recent call last)",
      "Cell \u001b[0;32mIn[6], line 6\u001b[0m\n\u001b[1;32m      4\u001b[0m     packets_of_flower \u001b[38;5;241m*\u001b[39m \u001b[38;5;241m10\u001b[39m \u001b[38;5;241m==\u001b[39m cakes\n\u001b[1;32m      5\u001b[0m     \u001b[38;5;28mprint\u001b[39m(\u001b[38;5;124mf\u001b[39m\u001b[38;5;124m'\u001b[39m\u001b[38;5;124mYou can bake \u001b[39m\u001b[38;5;132;01m{\u001b[39;00mcakes\u001b[38;5;132;01m}\u001b[39;00m\u001b[38;5;124m cakes.\u001b[39m\u001b[38;5;124m'\u001b[39m)\n\u001b[0;32m----> 6\u001b[0m times_ten()\n",
      "Cell \u001b[0;32mIn[6], line 4\u001b[0m, in \u001b[0;36mtimes_ten\u001b[0;34m()\u001b[0m\n\u001b[1;32m      2\u001b[0m \u001b[38;5;28;01mdef\u001b[39;00m \u001b[38;5;21mtimes_ten\u001b[39m():\n\u001b[1;32m      3\u001b[0m     packets_of_flower \u001b[38;5;241m=\u001b[39m \u001b[38;5;28mint\u001b[39m(\u001b[38;5;28minput\u001b[39m(\u001b[38;5;124m'\u001b[39m\u001b[38;5;124mHow many packets of flower do you have? \u001b[39m\u001b[38;5;124m'\u001b[39m))\n\u001b[0;32m----> 4\u001b[0m     packets_of_flower \u001b[38;5;241m*\u001b[39m \u001b[38;5;241m10\u001b[39m \u001b[38;5;241m==\u001b[39m cakes\n\u001b[1;32m      5\u001b[0m     \u001b[38;5;28mprint\u001b[39m(\u001b[38;5;124mf\u001b[39m\u001b[38;5;124m'\u001b[39m\u001b[38;5;124mYou can bake \u001b[39m\u001b[38;5;132;01m{\u001b[39;00mcakes\u001b[38;5;132;01m}\u001b[39;00m\u001b[38;5;124m cakes.\u001b[39m\u001b[38;5;124m'\u001b[39m)\n",
      "\u001b[0;31mNameError\u001b[0m: name 'cakes' is not defined"
     ]
    }
   ],
   "source": [
    "# Call funtion now\n",
    "def times_ten():\n",
    "    packets_of_flower = int(input('How many packets of flower do you have? '))\n",
    "    packets_of_flower * 10 == cakes\n",
    "    print(f'You can bake {cakes} cakes.')\n",
    "times_ten()"
   ]
  },
  {
   "cell_type": "code",
   "execution_count": 7,
   "id": "a875e47f",
   "metadata": {},
   "outputs": [
    {
     "name": "stdout",
     "output_type": "stream",
     "text": [
      "How many packets of flower do you have? 3\n",
      "You can bake 30 cakes.\n"
     ]
    }
   ],
   "source": [
    "# Change == to =, and put cakes first\n",
    "def times_ten():\n",
    "    packets_of_flower = int(input('How many packets of flower do you have? '))\n",
    "    cakes = packets_of_flower * 10 \n",
    "    print(f'You can bake {cakes} cakes.')\n",
    "times_ten()"
   ]
  },
  {
   "cell_type": "code",
   "execution_count": 35,
   "id": "4f4f3717",
   "metadata": {},
   "outputs": [
    {
     "name": "stdout",
     "output_type": "stream",
     "text": [
      "How many packets of flower do you have? 14\n",
      "You can bake 140 cakes.\n"
     ]
    }
   ],
   "source": [
    "# Create function \n",
    "def times_ten():\n",
    "    # Create variable equal to user input\n",
    "    packets_of_flower = int(input('How many packets of flower do you have? '))\n",
    "    # Create variable equal to user input, times 10\n",
    "    cakes = packets_of_flower * 10 \n",
    "    # Display the results\n",
    "    print(f'You can bake {cakes} cakes.')\n",
    "# Call function\n",
    "times_ten()"
   ]
  },
  {
   "cell_type": "markdown",
   "id": "070c7820",
   "metadata": {},
   "source": [
    "Question is asking for the function to accept an argument, not for a user intput program"
   ]
  },
  {
   "cell_type": "code",
   "execution_count": 3,
   "id": "7c72497d",
   "metadata": {},
   "outputs": [
    {
     "name": "stdout",
     "output_type": "stream",
     "text": [
      "You can bake 50 cakes.\n"
     ]
    }
   ],
   "source": [
    "# Deleted line of code asking for user input, and placed variable (packets_of_flower) as argument\n",
    "def times_ten(packets_of_flower):\n",
    "    cakes = packets_of_flower * 10 \n",
    "    print(f'You can bake {cakes} cakes.')\n",
    "times_ten(5)"
   ]
  },
  {
   "cell_type": "code",
   "execution_count": 5,
   "id": "339ce1f6",
   "metadata": {},
   "outputs": [
    {
     "name": "stdout",
     "output_type": "stream",
     "text": [
      "You can bake 50 cakes with 5 packets of flower.\n"
     ]
    }
   ],
   "source": [
    "# Create function with argument\n",
    "def times_ten(packets_of_flower):\n",
    "    # Create variable equal to argument times 10\n",
    "    cakes = packets_of_flower * 10 \n",
    "    # Display result\n",
    "    print(f'You can bake {cakes} cakes with', packets_of_flower, 'packets of flower.')\n",
    "# Call function     \n",
    "times_ten(5)"
   ]
  },
  {
   "cell_type": "markdown",
   "id": "b6f07479",
   "metadata": {},
   "source": [
    "For this problem I started by creating a function as the question ask me to, named times_ten. Next the question tells us that the function should accept an argument, which I made packets_of_flower. We have to display the product of its argument times 10 so I create a equation; cakes = packets_of_flower * 10. With the equation im calculating how many cakes could be baked with how ever many packets of flower I have. After I had my equation set I just needed to display the results and call the fuction to run. "
   ]
  },
  {
   "cell_type": "markdown",
   "id": "dbb65966",
   "metadata": {},
   "source": [
    "#### Question 2\n",
    "Examine the following function header, then write a statement that calls the function, passing 12 as an argument. \n",
    "\n",
    "def show_value(quantity):"
   ]
  },
  {
   "cell_type": "code",
   "execution_count": null,
   "id": "e194e640",
   "metadata": {},
   "outputs": [],
   "source": [
    "# Copy down fucntion\n",
    "def show_value(quantity):"
   ]
  },
  {
   "cell_type": "code",
   "execution_count": 1,
   "id": "3c01a519",
   "metadata": {},
   "outputs": [],
   "source": [
    "# Write print statement in fuction\n",
    "def show_value(quantity):\n",
    "    print('Value is', quantity)"
   ]
  },
  {
   "cell_type": "code",
   "execution_count": 2,
   "id": "0e70fc13",
   "metadata": {},
   "outputs": [
    {
     "name": "stdout",
     "output_type": "stream",
     "text": [
      "Value is 12\n"
     ]
    }
   ],
   "source": [
    "# Call statement, and incorporate 12 as argument\n",
    "def show_value(quantity):\n",
    "    print('Value is', quantity)\n",
    "show_value(12)"
   ]
  },
  {
   "cell_type": "code",
   "execution_count": 6,
   "id": "4e726657",
   "metadata": {},
   "outputs": [
    {
     "name": "stdout",
     "output_type": "stream",
     "text": [
      "Value is 12\n"
     ]
    }
   ],
   "source": [
    "# Create function with argument quantity\n",
    "def show_value(quantity):\n",
    "    # Display argument \n",
    "    print('Value is', quantity)\n",
    "# Call function to run    \n",
    "show_value(12)"
   ]
  },
  {
   "cell_type": "markdown",
   "id": "f5e9d857",
   "metadata": {},
   "source": [
    "Doing the other questions helped me come back to this one, and further understand what I was doing. First I copy down the function that the question gives us. Next the question ask us to write a statement that calls the function passing 12 as the argument. I wrote a simple print statement to display (quantity). I then call the funtion and put 12 as the argument, and got back 12. "
   ]
  },
  {
   "cell_type": "markdown",
   "id": "09d47e9b",
   "metadata": {},
   "source": [
    "### Programming Exercises "
   ]
  },
  {
   "cell_type": "markdown",
   "id": "bf8cf162",
   "metadata": {},
   "source": [
    "#### Question 1\n",
    "\n",
    "Kilometer Converter\n",
    "\n",
    "Write a program that asks the user to enter a distance in kilometers, then uses a function to convert that distance to miles. The conversion formula is as follows:\n",
    "\n",
    "miles = kilometers * 0.6214"
   ]
  },
  {
   "cell_type": "code",
   "execution_count": 3,
   "id": "d7d3d29c",
   "metadata": {},
   "outputs": [
    {
     "name": "stdout",
     "output_type": "stream",
     "text": [
      "Enter your speed in Kilometer; 181\n"
     ]
    }
   ],
   "source": [
    "# Have program prompt user for km, new variable km\n",
    "Kilometers = float(input('Enter your speed in Kilometer; '))"
   ]
  },
  {
   "cell_type": "code",
   "execution_count": 4,
   "id": "4020cf7b",
   "metadata": {},
   "outputs": [],
   "source": [
    "# Create main function, add prompt for statement\n",
    "def main():\n",
    "    Kilometers = float(input('Enter your speed in Kilometer; '))"
   ]
  },
  {
   "cell_type": "code",
   "execution_count": 5,
   "id": "cc4623ec",
   "metadata": {},
   "outputs": [],
   "source": [
    "# Create secondary function for the equation\n",
    "def kilometer_converter():\n",
    "    miles = kilometers * 0.6214"
   ]
  },
  {
   "cell_type": "code",
   "execution_count": 6,
   "id": "24425a15",
   "metadata": {},
   "outputs": [],
   "source": [
    "# Add code together\n",
    "def main():\n",
    "    Kilometers = float(input('Enter your speed in Kilometer; '))\n",
    "def kilometer_converter():\n",
    "    miles = kilometers * 0.6214"
   ]
  },
  {
   "cell_type": "code",
   "execution_count": 7,
   "id": "14c57f7a",
   "metadata": {},
   "outputs": [
    {
     "ename": "SyntaxError",
     "evalue": "unterminated string literal (detected at line 6) (347148612.py, line 6)",
     "output_type": "error",
     "traceback": [
      "\u001b[0;36m  Cell \u001b[0;32mIn[7], line 6\u001b[0;36m\u001b[0m\n\u001b[0;31m    print(f'A speed of {kilometers} kilometers an hour is equal to traveling, {miles} miles an hour.)\u001b[0m\n\u001b[0m          ^\u001b[0m\n\u001b[0;31mSyntaxError\u001b[0m\u001b[0;31m:\u001b[0m unterminated string literal (detected at line 6)\n"
     ]
    }
   ],
   "source": [
    "# Add print statement to display code\n",
    "def main():\n",
    "    Kilometers = float(input('Enter your speed in Kilometer; '))\n",
    "def kilometer_converter():\n",
    "    miles = kilometers * 0.6214\n",
    "    print(f'A speed of {kilometers} kilometers an hour is equal to traveling, {miles} miles an hour.)"
   ]
  },
  {
   "cell_type": "code",
   "execution_count": 9,
   "id": "209b5d3b",
   "metadata": {},
   "outputs": [
    {
     "name": "stdout",
     "output_type": "stream",
     "text": [
      "Enter your speed in Kilometer; 181\n"
     ]
    },
    {
     "ename": "NameError",
     "evalue": "name 'kilometers' is not defined",
     "output_type": "error",
     "traceback": [
      "\u001b[0;31m---------------------------------------------------------------------------\u001b[0m",
      "\u001b[0;31mNameError\u001b[0m                                 Traceback (most recent call last)",
      "Cell \u001b[0;32mIn[9], line 8\u001b[0m\n\u001b[1;32m      6\u001b[0m     miles \u001b[38;5;241m=\u001b[39m kilometers \u001b[38;5;241m*\u001b[39m \u001b[38;5;241m0.6214\u001b[39m\n\u001b[1;32m      7\u001b[0m     \u001b[38;5;28mprint\u001b[39m(\u001b[38;5;124mf\u001b[39m\u001b[38;5;124m'\u001b[39m\u001b[38;5;124mA speed of \u001b[39m\u001b[38;5;132;01m{\u001b[39;00mkilometers\u001b[38;5;132;01m}\u001b[39;00m\u001b[38;5;124m kilometers an hour is equal to traveling, \u001b[39m\u001b[38;5;132;01m{\u001b[39;00mmiles\u001b[38;5;132;01m}\u001b[39;00m\u001b[38;5;124m miles an hour.\u001b[39m\u001b[38;5;124m'\u001b[39m)\n\u001b[0;32m----> 8\u001b[0m main()\n",
      "Cell \u001b[0;32mIn[9], line 4\u001b[0m, in \u001b[0;36mmain\u001b[0;34m()\u001b[0m\n\u001b[1;32m      2\u001b[0m \u001b[38;5;28;01mdef\u001b[39;00m \u001b[38;5;21mmain\u001b[39m():\n\u001b[1;32m      3\u001b[0m     Kilometers \u001b[38;5;241m=\u001b[39m \u001b[38;5;28mfloat\u001b[39m(\u001b[38;5;28minput\u001b[39m(\u001b[38;5;124m'\u001b[39m\u001b[38;5;124mEnter your speed in Kilometer; \u001b[39m\u001b[38;5;124m'\u001b[39m))\n\u001b[0;32m----> 4\u001b[0m     kilometer_converter(kilometers)\n",
      "\u001b[0;31mNameError\u001b[0m: name 'kilometers' is not defined"
     ]
    }
   ],
   "source": [
    "# Add kilometer_converter function to main function and call main function, add ' to the end of f'\n",
    "def main():\n",
    "    Kilometers = float(input('Enter your speed in Kilometer; '))\n",
    "    kilometer_converter(kilometers)\n",
    "def kilometer_converter():\n",
    "    miles = kilometers * 0.6214\n",
    "    print(f'A speed of {kilometers} kilometers an hour is equal to traveling, {miles} miles an hour.')\n",
    "main()"
   ]
  },
  {
   "cell_type": "markdown",
   "id": "c5d1bfe3",
   "metadata": {},
   "source": [
    "Kilometers isnt defined, Im going to delete from line 4 within parentheses, and rerun"
   ]
  },
  {
   "cell_type": "code",
   "execution_count": 10,
   "id": "e12d8407",
   "metadata": {},
   "outputs": [
    {
     "name": "stdout",
     "output_type": "stream",
     "text": [
      "Enter your speed in Kilometer; 187\n"
     ]
    },
    {
     "ename": "NameError",
     "evalue": "name 'kilometers' is not defined",
     "output_type": "error",
     "traceback": [
      "\u001b[0;31m---------------------------------------------------------------------------\u001b[0m",
      "\u001b[0;31mNameError\u001b[0m                                 Traceback (most recent call last)",
      "Cell \u001b[0;32mIn[10], line 7\u001b[0m\n\u001b[1;32m      5\u001b[0m     miles \u001b[38;5;241m=\u001b[39m kilometers \u001b[38;5;241m*\u001b[39m \u001b[38;5;241m0.6214\u001b[39m\n\u001b[1;32m      6\u001b[0m     \u001b[38;5;28mprint\u001b[39m(\u001b[38;5;124mf\u001b[39m\u001b[38;5;124m'\u001b[39m\u001b[38;5;124mA speed of \u001b[39m\u001b[38;5;132;01m{\u001b[39;00mkilometers\u001b[38;5;132;01m}\u001b[39;00m\u001b[38;5;124m kilometers an hour is equal to traveling, \u001b[39m\u001b[38;5;132;01m{\u001b[39;00mmiles\u001b[38;5;132;01m}\u001b[39;00m\u001b[38;5;124m miles an hour.\u001b[39m\u001b[38;5;124m'\u001b[39m)\n\u001b[0;32m----> 7\u001b[0m main()\n",
      "Cell \u001b[0;32mIn[10], line 3\u001b[0m, in \u001b[0;36mmain\u001b[0;34m()\u001b[0m\n\u001b[1;32m      1\u001b[0m \u001b[38;5;28;01mdef\u001b[39;00m \u001b[38;5;21mmain\u001b[39m():\n\u001b[1;32m      2\u001b[0m     Kilometers \u001b[38;5;241m=\u001b[39m \u001b[38;5;28mfloat\u001b[39m(\u001b[38;5;28minput\u001b[39m(\u001b[38;5;124m'\u001b[39m\u001b[38;5;124mEnter your speed in Kilometer; \u001b[39m\u001b[38;5;124m'\u001b[39m))\n\u001b[0;32m----> 3\u001b[0m     kilometer_converter()\n",
      "Cell \u001b[0;32mIn[10], line 5\u001b[0m, in \u001b[0;36mkilometer_converter\u001b[0;34m()\u001b[0m\n\u001b[1;32m      4\u001b[0m \u001b[38;5;28;01mdef\u001b[39;00m \u001b[38;5;21mkilometer_converter\u001b[39m():\n\u001b[0;32m----> 5\u001b[0m     miles \u001b[38;5;241m=\u001b[39m kilometers \u001b[38;5;241m*\u001b[39m \u001b[38;5;241m0.6214\u001b[39m\n\u001b[1;32m      6\u001b[0m     \u001b[38;5;28mprint\u001b[39m(\u001b[38;5;124mf\u001b[39m\u001b[38;5;124m'\u001b[39m\u001b[38;5;124mA speed of \u001b[39m\u001b[38;5;132;01m{\u001b[39;00mkilometers\u001b[38;5;132;01m}\u001b[39;00m\u001b[38;5;124m kilometers an hour is equal to traveling, \u001b[39m\u001b[38;5;132;01m{\u001b[39;00mmiles\u001b[38;5;132;01m}\u001b[39;00m\u001b[38;5;124m miles an hour.\u001b[39m\u001b[38;5;124m'\u001b[39m)\n",
      "\u001b[0;31mNameError\u001b[0m: name 'kilometers' is not defined"
     ]
    }
   ],
   "source": [
    "# Deleted kilometer out of line 4\n",
    "def main():\n",
    "    Kilometers = float(input('Enter your speed in Kilometer; '))\n",
    "    kilometer_converter()\n",
    "def kilometer_converter():\n",
    "    miles = kilometers * 0.6214\n",
    "    print(f'A speed of {kilometers} kilometers an hour is equal to traveling, {miles} miles an hour.')\n",
    "main()"
   ]
  },
  {
   "cell_type": "markdown",
   "id": "7bd99643",
   "metadata": {},
   "source": [
    "Going to review the textbook... and video note 5-4 to help me troubleshoot"
   ]
  },
  {
   "cell_type": "markdown",
   "id": "56ca009b",
   "metadata": {},
   "source": [
    "I believe I need a Global Variable, according to the textbook defnition (When a variable is created by an assignment statement that is written outside all the functions in a program file, the variable is global) I need my kilometer variable outside of the funtion."
   ]
  },
  {
   "cell_type": "code",
   "execution_count": 12,
   "id": "7e9290dc",
   "metadata": {},
   "outputs": [
    {
     "name": "stdout",
     "output_type": "stream",
     "text": [
      "Enter your speed in Kilometer: 187\n"
     ]
    },
    {
     "ename": "NameError",
     "evalue": "name 'kilometers' is not defined",
     "output_type": "error",
     "traceback": [
      "\u001b[0;31m---------------------------------------------------------------------------\u001b[0m",
      "\u001b[0;31mNameError\u001b[0m                                 Traceback (most recent call last)",
      "Cell \u001b[0;32mIn[12], line 8\u001b[0m\n\u001b[1;32m      6\u001b[0m     miles \u001b[38;5;241m=\u001b[39m kilometers \u001b[38;5;241m*\u001b[39m \u001b[38;5;241m0.6214\u001b[39m\n\u001b[1;32m      7\u001b[0m     \u001b[38;5;28mprint\u001b[39m(\u001b[38;5;124mf\u001b[39m\u001b[38;5;124m'\u001b[39m\u001b[38;5;124mA speed of \u001b[39m\u001b[38;5;132;01m{\u001b[39;00mkilometers\u001b[38;5;132;01m}\u001b[39;00m\u001b[38;5;124m kilometers an hour is equal to traveling, \u001b[39m\u001b[38;5;132;01m{\u001b[39;00mmiles\u001b[38;5;132;01m}\u001b[39;00m\u001b[38;5;124m miles an hour.\u001b[39m\u001b[38;5;124m'\u001b[39m)\n\u001b[0;32m----> 8\u001b[0m main()\n",
      "Cell \u001b[0;32mIn[12], line 4\u001b[0m, in \u001b[0;36mmain\u001b[0;34m()\u001b[0m\n\u001b[1;32m      3\u001b[0m \u001b[38;5;28;01mdef\u001b[39;00m \u001b[38;5;21mmain\u001b[39m():\n\u001b[0;32m----> 4\u001b[0m     kilometer_converter(kilometers)\n",
      "\u001b[0;31mNameError\u001b[0m: name 'kilometers' is not defined"
     ]
    }
   ],
   "source": [
    "# Made kilometers variable global\n",
    "Kilometers = float(input('Enter your speed in Kilometer: '))\n",
    "def main():\n",
    "    kilometer_converter(kilometers)\n",
    "def kilometer_converter(kilometers):\n",
    "    miles = kilometers * 0.6214\n",
    "    print(f'A speed of {kilometers} kilometers an hour is equal to traveling, {miles} miles an hour.')\n",
    "main()"
   ]
  },
  {
   "cell_type": "code",
   "execution_count": 13,
   "id": "8c4ed69e",
   "metadata": {},
   "outputs": [
    {
     "name": "stdout",
     "output_type": "stream",
     "text": [
      "Enter your speed in Kilometer: 187\n"
     ]
    },
    {
     "ename": "NameError",
     "evalue": "name 'kilometers' is not defined",
     "output_type": "error",
     "traceback": [
      "\u001b[0;31m---------------------------------------------------------------------------\u001b[0m",
      "\u001b[0;31mNameError\u001b[0m                                 Traceback (most recent call last)",
      "Cell \u001b[0;32mIn[13], line 2\u001b[0m\n\u001b[1;32m      1\u001b[0m Kilometers \u001b[38;5;241m=\u001b[39m \u001b[38;5;28mfloat\u001b[39m(\u001b[38;5;28minput\u001b[39m(\u001b[38;5;124m'\u001b[39m\u001b[38;5;124mEnter your speed in Kilometer: \u001b[39m\u001b[38;5;124m'\u001b[39m))\n\u001b[0;32m----> 2\u001b[0m miles \u001b[38;5;241m=\u001b[39m kilometers \u001b[38;5;241m*\u001b[39m \u001b[38;5;241m0.6214\u001b[39m\n\u001b[1;32m      3\u001b[0m \u001b[38;5;28mprint\u001b[39m(\u001b[38;5;124mf\u001b[39m\u001b[38;5;124m'\u001b[39m\u001b[38;5;124mA speed of \u001b[39m\u001b[38;5;132;01m{\u001b[39;00mkilometers\u001b[38;5;132;01m}\u001b[39;00m\u001b[38;5;124m kilometers an hour is equal to traveling, \u001b[39m\u001b[38;5;132;01m{\u001b[39;00mmiles\u001b[38;5;132;01m}\u001b[39;00m\u001b[38;5;124m miles an hour.\u001b[39m\u001b[38;5;124m'\u001b[39m)\n",
      "\u001b[0;31mNameError\u001b[0m: name 'kilometers' is not defined"
     ]
    }
   ],
   "source": [
    "Kilometers = float(input('Enter your speed in Kilometer: '))\n",
    "miles = kilometers * 0.6214\n",
    "print(f'A speed of {kilometers} kilometers an hour is equal to traveling, {miles} miles an hour.')"
   ]
  },
  {
   "cell_type": "code",
   "execution_count": 16,
   "id": "fbf554af",
   "metadata": {},
   "outputs": [
    {
     "name": "stdout",
     "output_type": "stream",
     "text": [
      "Enter your speed in Kilometer; 187\n"
     ]
    },
    {
     "ename": "NameError",
     "evalue": "name 'kilometers' is not defined",
     "output_type": "error",
     "traceback": [
      "\u001b[0;31m---------------------------------------------------------------------------\u001b[0m",
      "\u001b[0;31mNameError\u001b[0m                                 Traceback (most recent call last)",
      "Cell \u001b[0;32mIn[16], line 7\u001b[0m\n\u001b[1;32m      5\u001b[0m     miles \u001b[38;5;241m=\u001b[39m kilometers \u001b[38;5;241m*\u001b[39m \u001b[38;5;241m0.6214\u001b[39m\n\u001b[1;32m      6\u001b[0m     \u001b[38;5;28mprint\u001b[39m(\u001b[38;5;124m'\u001b[39m\u001b[38;5;124mA speed of\u001b[39m\u001b[38;5;124m'\u001b[39m, kilometers, \u001b[38;5;124m'\u001b[39m\u001b[38;5;124mkilometers an hour is equal to traveling\u001b[39m\u001b[38;5;124m'\u001b[39m, miles, \u001b[38;5;124m'\u001b[39m\u001b[38;5;124mmiles an hour.\u001b[39m\u001b[38;5;124m'\u001b[39m)\n\u001b[0;32m----> 7\u001b[0m main()\n",
      "Cell \u001b[0;32mIn[16], line 3\u001b[0m, in \u001b[0;36mmain\u001b[0;34m()\u001b[0m\n\u001b[1;32m      1\u001b[0m \u001b[38;5;28;01mdef\u001b[39;00m \u001b[38;5;21mmain\u001b[39m():\n\u001b[1;32m      2\u001b[0m     Kilometers \u001b[38;5;241m=\u001b[39m \u001b[38;5;28mfloat\u001b[39m(\u001b[38;5;28minput\u001b[39m(\u001b[38;5;124m'\u001b[39m\u001b[38;5;124mEnter your speed in Kilometer; \u001b[39m\u001b[38;5;124m'\u001b[39m))\n\u001b[0;32m----> 3\u001b[0m     kilometer_converter()\n",
      "Cell \u001b[0;32mIn[16], line 5\u001b[0m, in \u001b[0;36mkilometer_converter\u001b[0;34m()\u001b[0m\n\u001b[1;32m      4\u001b[0m \u001b[38;5;28;01mdef\u001b[39;00m \u001b[38;5;21mkilometer_converter\u001b[39m():\n\u001b[0;32m----> 5\u001b[0m     miles \u001b[38;5;241m=\u001b[39m kilometers \u001b[38;5;241m*\u001b[39m \u001b[38;5;241m0.6214\u001b[39m\n\u001b[1;32m      6\u001b[0m     \u001b[38;5;28mprint\u001b[39m(\u001b[38;5;124m'\u001b[39m\u001b[38;5;124mA speed of\u001b[39m\u001b[38;5;124m'\u001b[39m, kilometers, \u001b[38;5;124m'\u001b[39m\u001b[38;5;124mkilometers an hour is equal to traveling\u001b[39m\u001b[38;5;124m'\u001b[39m, miles, \u001b[38;5;124m'\u001b[39m\u001b[38;5;124mmiles an hour.\u001b[39m\u001b[38;5;124m'\u001b[39m)\n",
      "\u001b[0;31mNameError\u001b[0m: name 'kilometers' is not defined"
     ]
    }
   ],
   "source": [
    "def main():\n",
    "    Kilometers = float(input('Enter your speed in Kilometer; '))\n",
    "    kilometer_converter()\n",
    "def kilometer_converter():\n",
    "    miles = kilometers * 0.6214\n",
    "    print('A speed of', kilometers, 'kilometers an hour is equal to traveling', miles, 'miles an hour.')\n",
    "main()"
   ]
  },
  {
   "cell_type": "code",
   "execution_count": 19,
   "id": "45442de5",
   "metadata": {},
   "outputs": [
    {
     "name": "stdout",
     "output_type": "stream",
     "text": [
      "Enter your speed in Kilometer: 187\n",
      "A speed of 187.0 kilometers an hour is equal to traveling 116.20179999999999 miles an hour.\n"
     ]
    }
   ],
   "source": [
    "kilometers = float(input('Enter your speed in Kilometer: '))\n",
    "miles = kilometers * 0.6214\n",
    "print('A speed of', kilometers, 'kilometers an hour is equal to traveling', miles, 'miles an hour.')"
   ]
  },
  {
   "cell_type": "markdown",
   "id": "47b1d81a",
   "metadata": {},
   "source": [
    "So I went back to the basic's to try and figure this out, turns out I had a K in kilometers captialized this whole time. Maybe thats why my code isnt working"
   ]
  },
  {
   "cell_type": "code",
   "execution_count": 3,
   "id": "0f519d51",
   "metadata": {},
   "outputs": [
    {
     "name": "stdout",
     "output_type": "stream",
     "text": [
      "Enter your speed in Kilometers: 187\n",
      "A speed of 187.0 kilometers an hour is equal to traveling, 116.20179999999999 miles an hour.\n"
     ]
    }
   ],
   "source": [
    "# Made the K in kilometers lowercased \n",
    "def main():\n",
    "    kilometers = float(input('Enter your speed in Kilometers: '))\n",
    "    kilometer_converter(kilometers)\n",
    "def kilometer_converter(kilometers):\n",
    "    miles = kilometers * 0.6214\n",
    "    print(f'A speed of {kilometers} kilometers an hour is equal to traveling, {miles} miles an hour.')\n",
    "main()"
   ]
  },
  {
   "cell_type": "markdown",
   "id": "db4eb79e",
   "metadata": {},
   "source": [
    "Its very frustrating that I spend hours trying to figure this code out just to realize that the code was good, I just had to make 1 letter lowercase. "
   ]
  },
  {
   "cell_type": "code",
   "execution_count": 7,
   "id": "006b6cdb",
   "metadata": {},
   "outputs": [
    {
     "name": "stdout",
     "output_type": "stream",
     "text": [
      "Enter your speed in Kilometers: 57.3\n",
      "A speed of 57.3 kilometers an hour is equal to traveling, 35.60621999999999 miles an hour.\n"
     ]
    }
   ],
   "source": [
    "# Create function\n",
    "def main():\n",
    "    # Variable (kilometers) set equal to user input\n",
    "    kilometers = float(input('Enter your speed in Kilometers: '))\n",
    "    # Call function with variable as argument\n",
    "    kilometer_converter(kilometers)\n",
    "# Create function\n",
    "def kilometer_converter(kilometers):\n",
    "    # Input equation from question\n",
    "    miles = kilometers * 0.6214\n",
    "    # Display Result\n",
    "    print(f'A speed of {kilometers} kilometers an hour is equal to traveling, {miles} miles an hour.')\n",
    "# Call function to run\n",
    "main()"
   ]
  },
  {
   "cell_type": "markdown",
   "id": "ce1c3147",
   "metadata": {},
   "source": [
    "I dont believe I struggled with this question, if I was watching carefully what I was doing I couldve negated a simple mistake along the way. I first started by creating a variable (kilometers) set equal to the user input. Next I created the main function and the kilometer converter function each with its own task. Main function to ask for user's intput and call on kilometer converter function. Kilometer converter function to hold and run the equation then to display results. "
   ]
  },
  {
   "cell_type": "markdown",
   "id": "bbf7d8cf",
   "metadata": {},
   "source": [
    "I believe I could even set this up to where I would need the program to ask for the users input, and just put kilometers as the arugment to shorting things up. \n",
    "\n",
    "Below is different way to write code"
   ]
  },
  {
   "cell_type": "code",
   "execution_count": 8,
   "id": "de86fab7",
   "metadata": {},
   "outputs": [
    {
     "name": "stdout",
     "output_type": "stream",
     "text": [
      "A speed of 57.3 kilometers an hour is equal to traveling, 35.60621999999999 miles an hour.\n"
     ]
    }
   ],
   "source": [
    "# Deleted main function\n",
    "# Created function, with kilometers as argument\n",
    "def kilometer_converter(kilometers):\n",
    "    # Create equation to convert km into miles\n",
    "    miles = kilometers * 0.6214\n",
    "    # Display results\n",
    "    print(f'A speed of {kilometers} kilometers an hour is equal to traveling, {miles} miles an hour.')\n",
    "# Call function to run, input 57.3 as arugment\n",
    "kilometer_converter(57.3)"
   ]
  },
  {
   "cell_type": "markdown",
   "id": "39bd9590",
   "metadata": {},
   "source": [
    "#### Question 16\n",
    "\n",
    "Prime Numbers\n",
    "\n",
    "A prime number is a number that is only evenly divisible by itself and 1. For example, the number 5 is prime because it can only be evenly divided by 1 and 5. The number 6, however, is not prime because it can be divided evenly by 1, 2, 3, and 6.\n",
    "\n",
    "\n",
    "Write a Boolean function named is_prime which takes an integer as an argument and returns true if the argument is a prime number, or false otherwise. Use the function in a program that prompts the user to enter a number then displays a message indicating whether the number is prime."
   ]
  },
  {
   "cell_type": "code",
   "execution_count": 4,
   "id": "73d53ee4",
   "metadata": {},
   "outputs": [
    {
     "ename": "SyntaxError",
     "evalue": "incomplete input (3118517664.py, line 2)",
     "output_type": "error",
     "traceback": [
      "\u001b[0;36m  Cell \u001b[0;32mIn[4], line 2\u001b[0;36m\u001b[0m\n\u001b[0;31m    def is_prime():\u001b[0m\n\u001b[0m                   ^\u001b[0m\n\u001b[0;31mSyntaxError\u001b[0m\u001b[0;31m:\u001b[0m incomplete input\n"
     ]
    }
   ],
   "source": [
    "# Create function named is_prime\n",
    "def is_prime():"
   ]
  },
  {
   "cell_type": "code",
   "execution_count": 5,
   "id": "24297f8c",
   "metadata": {},
   "outputs": [
    {
     "name": "stdout",
     "output_type": "stream",
     "text": [
      "Enter in a number: 5\n"
     ]
    },
    {
     "data": {
      "text/plain": [
       "5"
      ]
     },
     "execution_count": 5,
     "metadata": {},
     "output_type": "execute_result"
    }
   ],
   "source": [
    "# Create program that prompts user\n",
    "integer = int(input('Enter in a number: '))"
   ]
  },
  {
   "cell_type": "code",
   "execution_count": 6,
   "id": "0de17233",
   "metadata": {},
   "outputs": [
    {
     "ename": "SyntaxError",
     "evalue": "incomplete input (1585987971.py, line 3)",
     "output_type": "error",
     "traceback": [
      "\u001b[0;36m  Cell \u001b[0;32mIn[6], line 3\u001b[0;36m\u001b[0m\n\u001b[0;31m    for num in range(0, integer):\u001b[0m\n\u001b[0m                                 ^\u001b[0m\n\u001b[0;31mSyntaxError\u001b[0m\u001b[0;31m:\u001b[0m incomplete input\n"
     ]
    }
   ],
   "source": [
    "# Take integer as an argument \n",
    "def is_prime(integer):\n",
    "    for num in range(1, integer):"
   ]
  },
  {
   "cell_type": "code",
   "execution_count": 7,
   "id": "5c88e374",
   "metadata": {},
   "outputs": [
    {
     "ename": "SyntaxError",
     "evalue": "'return' outside function (2954521181.py, line 3)",
     "output_type": "error",
     "traceback": [
      "\u001b[0;36m  Cell \u001b[0;32mIn[7], line 3\u001b[0;36m\u001b[0m\n\u001b[0;31m    return False\u001b[0m\n\u001b[0m    ^\u001b[0m\n\u001b[0;31mSyntaxError\u001b[0m\u001b[0;31m:\u001b[0m 'return' outside function\n"
     ]
    }
   ],
   "source": [
    "# Create if statement to test prime number\n",
    "if integer % num == 0:\n",
    "    return False \n",
    "else:\n",
    "    return True"
   ]
  },
  {
   "cell_type": "code",
   "execution_count": 8,
   "id": "500070d2",
   "metadata": {},
   "outputs": [],
   "source": [
    "# Incorporate together\n",
    "def is_prime(integer):\n",
    "    for num in range(1, integer):\n",
    "        if integer % num == 0:\n",
    "            return False \n",
    "        else:\n",
    "            return True"
   ]
  },
  {
   "cell_type": "code",
   "execution_count": 9,
   "id": "c0e35c70",
   "metadata": {},
   "outputs": [
    {
     "data": {
      "text/plain": [
       "False"
      ]
     },
     "execution_count": 9,
     "metadata": {},
     "output_type": "execute_result"
    }
   ],
   "source": [
    "is_prime(5)"
   ]
  },
  {
   "cell_type": "code",
   "execution_count": 10,
   "id": "b11fb69f",
   "metadata": {},
   "outputs": [],
   "source": [
    "# Change num in range to start with 2\n",
    "def is_prime(integer):\n",
    "    for num in range(2, integer):\n",
    "        if integer % num == 0:\n",
    "            return False \n",
    "        else:\n",
    "            return True"
   ]
  },
  {
   "cell_type": "code",
   "execution_count": 11,
   "id": "90df3f4f",
   "metadata": {},
   "outputs": [
    {
     "data": {
      "text/plain": [
       "True"
      ]
     },
     "execution_count": 11,
     "metadata": {},
     "output_type": "execute_result"
    }
   ],
   "source": [
    "is_prime(5)"
   ]
  },
  {
   "cell_type": "code",
   "execution_count": 12,
   "id": "bc65466a",
   "metadata": {},
   "outputs": [
    {
     "name": "stdout",
     "output_type": "stream",
     "text": [
      "Enter in a number: 5\n"
     ]
    }
   ],
   "source": [
    "# Use the function is a program\n",
    "def main():\n",
    "    integer = int(input('Enter in a number: '))\n",
    "    is_prime(integer)    \n",
    "def is_prime(integer):\n",
    "    for num in range(2, integer):\n",
    "        if integer % num == 0:\n",
    "            return False \n",
    "        else:\n",
    "            return True\n",
    "main()"
   ]
  },
  {
   "cell_type": "code",
   "execution_count": 13,
   "id": "8d064149",
   "metadata": {},
   "outputs": [
    {
     "name": "stdout",
     "output_type": "stream",
     "text": [
      "Enter in a number: 5\n",
      "Number is prime\n"
     ]
    }
   ],
   "source": [
    "# Create for statement to print if 5 is prime\n",
    "def main():\n",
    "    integer = int(input('Enter in a number: '))\n",
    "    if is_prime(integer):\n",
    "        print('Number is prime')\n",
    "    else: \n",
    "        print('Number isnt prime')\n",
    "        \n",
    "def is_prime(integer):\n",
    "    for num in range(2, integer):\n",
    "        if integer % num == 0:\n",
    "            return False \n",
    "        else:\n",
    "            return True\n",
    "main()"
   ]
  },
  {
   "cell_type": "code",
   "execution_count": 10,
   "id": "ed907939",
   "metadata": {},
   "outputs": [
    {
     "name": "stdout",
     "output_type": "stream",
     "text": [
      "Enter in a number: 5\n",
      "Number is prime\n"
     ]
    }
   ],
   "source": [
    "# Create funtion\n",
    "def main():\n",
    "    # Variable set equal to user input\n",
    "    integer = int(input('Enter in a number: '))\n",
    "    # Display statement if prime number\n",
    "    if is_prime(integer):\n",
    "        print('Number is prime')\n",
    "    # Display statement if not a prime number    \n",
    "    else: \n",
    "        print('Number isnt prime')\n",
    "        \n",
    "# Create function with variable (integer) as argument        \n",
    "def is_prime(integer):\n",
    "    # Run through range of numbers\n",
    "    for num in range(2, integer):\n",
    "        # If not divisible by num, false\n",
    "        if integer % num == 0:\n",
    "            return False \n",
    "        # If divisible by num, true\n",
    "        else:\n",
    "            return True\n",
    "# Call on funtion to run        \n",
    "main()"
   ]
  },
  {
   "cell_type": "markdown",
   "id": "853dd5fa",
   "metadata": {},
   "source": [
    "For this problem the walkthrough video helped me set everything up. Started by creating a function name (is prime) that the question gives us. It wants the function to take an integer as an argument and return true if a prime number and false if its not a prime number. I made a variable (integer) set equal to an users input. Next I made a range statement so the program known which numbers to use in the equation, made an equation for the program to see if the user's integer is divisible by 2 and itself. Had the program to return fasle if its not divisible and ture if it is divisble."
   ]
  },
  {
   "cell_type": "markdown",
   "id": "70b5d211",
   "metadata": {},
   "source": [
    "#### Question 17"
   ]
  },
  {
   "cell_type": "markdown",
   "id": "e3011238",
   "metadata": {},
   "source": [
    "Prime Number List\n",
    "\n",
    "This exercise assumes that you have already written the is_prime function in Programming Exercise 16. Write another program that displays all of the prime numbers from 1 to 100. The program should have a loop that calls the is_prime function."
   ]
  },
  {
   "cell_type": "code",
   "execution_count": 14,
   "id": "819d8ff6",
   "metadata": {},
   "outputs": [
    {
     "ename": "SyntaxError",
     "evalue": "incomplete input (1008104080.py, line 2)",
     "output_type": "error",
     "traceback": [
      "\u001b[0;36m  Cell \u001b[0;32mIn[14], line 2\u001b[0;36m\u001b[0m\n\u001b[0;31m    for integer in range(1, 101):\u001b[0m\n\u001b[0m                                 ^\u001b[0m\n\u001b[0;31mSyntaxError\u001b[0m\u001b[0;31m:\u001b[0m incomplete input\n"
     ]
    }
   ],
   "source": [
    "# Write loop for numbers 1 - 100\n",
    "for integer in range(1, 101):"
   ]
  },
  {
   "cell_type": "code",
   "execution_count": 15,
   "id": "9d85ab0d",
   "metadata": {},
   "outputs": [],
   "source": [
    "# Set integer varible == 0\n",
    "integer = 0"
   ]
  },
  {
   "cell_type": "code",
   "execution_count": 20,
   "id": "6693754b",
   "metadata": {},
   "outputs": [
    {
     "name": "stdout",
     "output_type": "stream",
     "text": [
      "1\n",
      "2\n",
      "3\n",
      "4\n",
      "5\n",
      "6\n",
      "7\n",
      "8\n",
      "9\n",
      "10\n",
      "11\n",
      "12\n",
      "13\n",
      "14\n",
      "15\n",
      "16\n",
      "17\n",
      "18\n",
      "19\n",
      "20\n",
      "21\n",
      "22\n",
      "23\n",
      "24\n",
      "25\n",
      "26\n",
      "27\n",
      "28\n",
      "29\n",
      "30\n",
      "31\n",
      "32\n",
      "33\n",
      "34\n",
      "35\n",
      "36\n",
      "37\n",
      "38\n",
      "39\n",
      "40\n",
      "41\n",
      "42\n",
      "43\n",
      "44\n",
      "45\n",
      "46\n",
      "47\n",
      "48\n",
      "49\n",
      "50\n",
      "51\n",
      "52\n",
      "53\n",
      "54\n",
      "55\n",
      "56\n",
      "57\n",
      "58\n",
      "59\n",
      "60\n",
      "61\n",
      "62\n",
      "63\n",
      "64\n",
      "65\n",
      "66\n",
      "67\n",
      "68\n",
      "69\n",
      "70\n",
      "71\n",
      "72\n",
      "73\n",
      "74\n",
      "75\n",
      "76\n",
      "77\n",
      "78\n",
      "79\n",
      "80\n",
      "81\n",
      "82\n",
      "83\n",
      "84\n",
      "85\n",
      "86\n",
      "87\n",
      "88\n",
      "89\n",
      "90\n",
      "91\n",
      "92\n",
      "93\n",
      "94\n",
      "95\n",
      "96\n",
      "97\n",
      "98\n",
      "99\n",
      "100\n"
     ]
    }
   ],
   "source": [
    "# Call function \n",
    "integer = 0\n",
    "for integer in range(1, 101):\n",
    "    is_prime(integer)\n",
    "    print(integer)"
   ]
  },
  {
   "cell_type": "code",
   "execution_count": 21,
   "id": "0a6ac896",
   "metadata": {},
   "outputs": [
    {
     "name": "stdout",
     "output_type": "stream",
     "text": [
      "Number isnt prime\n",
      "Number isnt prime\n",
      "Number is prime\n",
      "Number isnt prime\n",
      "Number is prime\n",
      "Number isnt prime\n",
      "Number is prime\n",
      "Number isnt prime\n",
      "Number is prime\n",
      "Number isnt prime\n",
      "Number is prime\n",
      "Number isnt prime\n",
      "Number is prime\n",
      "Number isnt prime\n",
      "Number is prime\n",
      "Number isnt prime\n",
      "Number is prime\n",
      "Number isnt prime\n",
      "Number is prime\n",
      "Number isnt prime\n",
      "Number is prime\n",
      "Number isnt prime\n",
      "Number is prime\n",
      "Number isnt prime\n",
      "Number is prime\n",
      "Number isnt prime\n",
      "Number is prime\n",
      "Number isnt prime\n",
      "Number is prime\n",
      "Number isnt prime\n",
      "Number is prime\n",
      "Number isnt prime\n",
      "Number is prime\n",
      "Number isnt prime\n",
      "Number is prime\n",
      "Number isnt prime\n",
      "Number is prime\n",
      "Number isnt prime\n",
      "Number is prime\n",
      "Number isnt prime\n",
      "Number is prime\n",
      "Number isnt prime\n",
      "Number is prime\n",
      "Number isnt prime\n",
      "Number is prime\n",
      "Number isnt prime\n",
      "Number is prime\n",
      "Number isnt prime\n",
      "Number is prime\n",
      "Number isnt prime\n",
      "Number is prime\n",
      "Number isnt prime\n",
      "Number is prime\n",
      "Number isnt prime\n",
      "Number is prime\n",
      "Number isnt prime\n",
      "Number is prime\n",
      "Number isnt prime\n",
      "Number is prime\n",
      "Number isnt prime\n",
      "Number is prime\n",
      "Number isnt prime\n",
      "Number is prime\n",
      "Number isnt prime\n",
      "Number is prime\n",
      "Number isnt prime\n",
      "Number is prime\n",
      "Number isnt prime\n",
      "Number is prime\n",
      "Number isnt prime\n",
      "Number is prime\n",
      "Number isnt prime\n",
      "Number is prime\n",
      "Number isnt prime\n",
      "Number is prime\n",
      "Number isnt prime\n",
      "Number is prime\n",
      "Number isnt prime\n",
      "Number is prime\n",
      "Number isnt prime\n",
      "Number is prime\n",
      "Number isnt prime\n",
      "Number is prime\n",
      "Number isnt prime\n",
      "Number is prime\n",
      "Number isnt prime\n",
      "Number is prime\n",
      "Number isnt prime\n",
      "Number is prime\n",
      "Number isnt prime\n",
      "Number is prime\n",
      "Number isnt prime\n",
      "Number is prime\n",
      "Number isnt prime\n",
      "Number is prime\n",
      "Number isnt prime\n",
      "Number is prime\n",
      "Number isnt prime\n",
      "Number is prime\n",
      "Number isnt prime\n"
     ]
    }
   ],
   "source": [
    "# Copy if statement from question 16\n",
    "integer = 0\n",
    "for integer in range(1, 101):\n",
    "    if is_prime(integer):\n",
    "        print('Number is prime')\n",
    "    else: \n",
    "        print('Number isnt prime')"
   ]
  },
  {
   "cell_type": "code",
   "execution_count": 22,
   "id": "028b1a0b",
   "metadata": {},
   "outputs": [
    {
     "name": "stdout",
     "output_type": "stream",
     "text": [
      "1 Number isnt prime\n",
      "2 Number isnt prime\n",
      "3 Number is prime\n",
      "4 Number isnt prime\n",
      "5 Number is prime\n",
      "6 Number isnt prime\n",
      "7 Number is prime\n",
      "8 Number isnt prime\n",
      "9 Number is prime\n",
      "10 Number isnt prime\n",
      "11 Number is prime\n",
      "12 Number isnt prime\n",
      "13 Number is prime\n",
      "14 Number isnt prime\n",
      "15 Number is prime\n",
      "16 Number isnt prime\n",
      "17 Number is prime\n",
      "18 Number isnt prime\n",
      "19 Number is prime\n",
      "20 Number isnt prime\n",
      "21 Number is prime\n",
      "22 Number isnt prime\n",
      "23 Number is prime\n",
      "24 Number isnt prime\n",
      "25 Number is prime\n",
      "26 Number isnt prime\n",
      "27 Number is prime\n",
      "28 Number isnt prime\n",
      "29 Number is prime\n",
      "30 Number isnt prime\n",
      "31 Number is prime\n",
      "32 Number isnt prime\n",
      "33 Number is prime\n",
      "34 Number isnt prime\n",
      "35 Number is prime\n",
      "36 Number isnt prime\n",
      "37 Number is prime\n",
      "38 Number isnt prime\n",
      "39 Number is prime\n",
      "40 Number isnt prime\n",
      "41 Number is prime\n",
      "42 Number isnt prime\n",
      "43 Number is prime\n",
      "44 Number isnt prime\n",
      "45 Number is prime\n",
      "46 Number isnt prime\n",
      "47 Number is prime\n",
      "48 Number isnt prime\n",
      "49 Number is prime\n",
      "50 Number isnt prime\n",
      "51 Number is prime\n",
      "52 Number isnt prime\n",
      "53 Number is prime\n",
      "54 Number isnt prime\n",
      "55 Number is prime\n",
      "56 Number isnt prime\n",
      "57 Number is prime\n",
      "58 Number isnt prime\n",
      "59 Number is prime\n",
      "60 Number isnt prime\n",
      "61 Number is prime\n",
      "62 Number isnt prime\n",
      "63 Number is prime\n",
      "64 Number isnt prime\n",
      "65 Number is prime\n",
      "66 Number isnt prime\n",
      "67 Number is prime\n",
      "68 Number isnt prime\n",
      "69 Number is prime\n",
      "70 Number isnt prime\n",
      "71 Number is prime\n",
      "72 Number isnt prime\n",
      "73 Number is prime\n",
      "74 Number isnt prime\n",
      "75 Number is prime\n",
      "76 Number isnt prime\n",
      "77 Number is prime\n",
      "78 Number isnt prime\n",
      "79 Number is prime\n",
      "80 Number isnt prime\n",
      "81 Number is prime\n",
      "82 Number isnt prime\n",
      "83 Number is prime\n",
      "84 Number isnt prime\n",
      "85 Number is prime\n",
      "86 Number isnt prime\n",
      "87 Number is prime\n",
      "88 Number isnt prime\n",
      "89 Number is prime\n",
      "90 Number isnt prime\n",
      "91 Number is prime\n",
      "92 Number isnt prime\n",
      "93 Number is prime\n",
      "94 Number isnt prime\n",
      "95 Number is prime\n",
      "96 Number isnt prime\n",
      "97 Number is prime\n",
      "98 Number isnt prime\n",
      "99 Number is prime\n",
      "100 Number isnt prime\n"
     ]
    }
   ],
   "source": [
    "# Rewrite to show number then print statement \n",
    "integer = 0\n",
    "for integer in range(1, 101):\n",
    "    if is_prime(integer):\n",
    "        print(integer, 'Number is prime')\n",
    "    else: \n",
    "        print(integer, 'Number isnt prime')"
   ]
  },
  {
   "cell_type": "code",
   "execution_count": 11,
   "id": "2733e263",
   "metadata": {},
   "outputs": [
    {
     "name": "stdout",
     "output_type": "stream",
     "text": [
      "1 Number isnt prime\n",
      "2 Number isnt prime\n",
      "3 Number is prime\n",
      "4 Number isnt prime\n",
      "5 Number is prime\n",
      "6 Number isnt prime\n",
      "7 Number is prime\n",
      "8 Number isnt prime\n",
      "9 Number is prime\n",
      "10 Number isnt prime\n",
      "11 Number is prime\n",
      "12 Number isnt prime\n",
      "13 Number is prime\n",
      "14 Number isnt prime\n",
      "15 Number is prime\n",
      "16 Number isnt prime\n",
      "17 Number is prime\n",
      "18 Number isnt prime\n",
      "19 Number is prime\n",
      "20 Number isnt prime\n",
      "21 Number is prime\n",
      "22 Number isnt prime\n",
      "23 Number is prime\n",
      "24 Number isnt prime\n",
      "25 Number is prime\n",
      "26 Number isnt prime\n",
      "27 Number is prime\n",
      "28 Number isnt prime\n",
      "29 Number is prime\n",
      "30 Number isnt prime\n",
      "31 Number is prime\n",
      "32 Number isnt prime\n",
      "33 Number is prime\n",
      "34 Number isnt prime\n",
      "35 Number is prime\n",
      "36 Number isnt prime\n",
      "37 Number is prime\n",
      "38 Number isnt prime\n",
      "39 Number is prime\n",
      "40 Number isnt prime\n",
      "41 Number is prime\n",
      "42 Number isnt prime\n",
      "43 Number is prime\n",
      "44 Number isnt prime\n",
      "45 Number is prime\n",
      "46 Number isnt prime\n",
      "47 Number is prime\n",
      "48 Number isnt prime\n",
      "49 Number is prime\n",
      "50 Number isnt prime\n",
      "51 Number is prime\n",
      "52 Number isnt prime\n",
      "53 Number is prime\n",
      "54 Number isnt prime\n",
      "55 Number is prime\n",
      "56 Number isnt prime\n",
      "57 Number is prime\n",
      "58 Number isnt prime\n",
      "59 Number is prime\n",
      "60 Number isnt prime\n",
      "61 Number is prime\n",
      "62 Number isnt prime\n",
      "63 Number is prime\n",
      "64 Number isnt prime\n",
      "65 Number is prime\n",
      "66 Number isnt prime\n",
      "67 Number is prime\n",
      "68 Number isnt prime\n",
      "69 Number is prime\n",
      "70 Number isnt prime\n",
      "71 Number is prime\n",
      "72 Number isnt prime\n",
      "73 Number is prime\n",
      "74 Number isnt prime\n",
      "75 Number is prime\n",
      "76 Number isnt prime\n",
      "77 Number is prime\n",
      "78 Number isnt prime\n",
      "79 Number is prime\n",
      "80 Number isnt prime\n",
      "81 Number is prime\n",
      "82 Number isnt prime\n",
      "83 Number is prime\n",
      "84 Number isnt prime\n",
      "85 Number is prime\n",
      "86 Number isnt prime\n",
      "87 Number is prime\n",
      "88 Number isnt prime\n",
      "89 Number is prime\n",
      "90 Number isnt prime\n",
      "91 Number is prime\n",
      "92 Number isnt prime\n",
      "93 Number is prime\n",
      "94 Number isnt prime\n",
      "95 Number is prime\n",
      "96 Number isnt prime\n",
      "97 Number is prime\n",
      "98 Number isnt prime\n",
      "99 Number is prime\n",
      "100 Number isnt prime\n"
     ]
    }
   ],
   "source": [
    "# Variable (integer) set equal to 0\n",
    "integer = 0\n",
    "# Search thru range of 1 to 100\n",
    "for integer in range(1, 101):\n",
    "    # Display variable and statement\n",
    "    if is_prime(integer):\n",
    "        print(integer, 'Number is prime')\n",
    "    # Display Variable and statement\n",
    "    else: \n",
    "        print(integer, 'Number isnt prime')"
   ]
  },
  {
   "cell_type": "markdown",
   "id": "c50eded4",
   "metadata": {},
   "source": [
    "For this problem I went back to my Chapter 4 Exercises to remind me of how to create a range for the program to run through. I start by setting my integer variable equal to 0 to start out with. Then I made a for statement for the program to run through a range of numbers. Next I copied over my function from the previous question is_prime(integer) and the print statements which was all I needed. The varible integer will be 1-100 and the program will run all those numbers while following the formula to determined if theyre prime or not."
   ]
  },
  {
   "cell_type": "markdown",
   "id": "352c3739",
   "metadata": {},
   "source": [
    "Another way to write the code is below."
   ]
  },
  {
   "cell_type": "code",
   "execution_count": 12,
   "id": "bed111a3",
   "metadata": {},
   "outputs": [
    {
     "name": "stdout",
     "output_type": "stream",
     "text": [
      "1 Number isnt prime\n",
      "2 Number isnt prime\n",
      "3 Number is prime\n",
      "4 Number isnt prime\n",
      "5 Number is prime\n",
      "6 Number isnt prime\n",
      "7 Number is prime\n",
      "8 Number isnt prime\n",
      "9 Number is prime\n",
      "10 Number isnt prime\n",
      "11 Number is prime\n",
      "12 Number isnt prime\n",
      "13 Number is prime\n",
      "14 Number isnt prime\n",
      "15 Number is prime\n",
      "16 Number isnt prime\n",
      "17 Number is prime\n",
      "18 Number isnt prime\n",
      "19 Number is prime\n",
      "20 Number isnt prime\n",
      "21 Number is prime\n",
      "22 Number isnt prime\n",
      "23 Number is prime\n",
      "24 Number isnt prime\n",
      "25 Number is prime\n",
      "26 Number isnt prime\n",
      "27 Number is prime\n",
      "28 Number isnt prime\n",
      "29 Number is prime\n",
      "30 Number isnt prime\n",
      "31 Number is prime\n",
      "32 Number isnt prime\n",
      "33 Number is prime\n",
      "34 Number isnt prime\n",
      "35 Number is prime\n",
      "36 Number isnt prime\n",
      "37 Number is prime\n",
      "38 Number isnt prime\n",
      "39 Number is prime\n",
      "40 Number isnt prime\n",
      "41 Number is prime\n",
      "42 Number isnt prime\n",
      "43 Number is prime\n",
      "44 Number isnt prime\n",
      "45 Number is prime\n",
      "46 Number isnt prime\n",
      "47 Number is prime\n",
      "48 Number isnt prime\n",
      "49 Number is prime\n",
      "50 Number isnt prime\n",
      "51 Number is prime\n",
      "52 Number isnt prime\n",
      "53 Number is prime\n",
      "54 Number isnt prime\n",
      "55 Number is prime\n",
      "56 Number isnt prime\n",
      "57 Number is prime\n",
      "58 Number isnt prime\n",
      "59 Number is prime\n",
      "60 Number isnt prime\n",
      "61 Number is prime\n",
      "62 Number isnt prime\n",
      "63 Number is prime\n",
      "64 Number isnt prime\n",
      "65 Number is prime\n",
      "66 Number isnt prime\n",
      "67 Number is prime\n",
      "68 Number isnt prime\n",
      "69 Number is prime\n",
      "70 Number isnt prime\n",
      "71 Number is prime\n",
      "72 Number isnt prime\n",
      "73 Number is prime\n",
      "74 Number isnt prime\n",
      "75 Number is prime\n",
      "76 Number isnt prime\n",
      "77 Number is prime\n",
      "78 Number isnt prime\n",
      "79 Number is prime\n",
      "80 Number isnt prime\n",
      "81 Number is prime\n",
      "82 Number isnt prime\n",
      "83 Number is prime\n",
      "84 Number isnt prime\n",
      "85 Number is prime\n",
      "86 Number isnt prime\n",
      "87 Number is prime\n",
      "88 Number isnt prime\n",
      "89 Number is prime\n",
      "90 Number isnt prime\n",
      "91 Number is prime\n",
      "92 Number isnt prime\n",
      "93 Number is prime\n",
      "94 Number isnt prime\n",
      "95 Number is prime\n",
      "96 Number isnt prime\n",
      "97 Number is prime\n",
      "98 Number isnt prime\n",
      "99 Number is prime\n",
      "100 Number isnt prime\n"
     ]
    }
   ],
   "source": [
    "# Variable (integer) set equal to 0\n",
    "integer = 0\n",
    "# Search thru range of 1 to 100\n",
    "for integer in range(1, 101):\n",
    "    # Display variable and statement\n",
    "    if is_prime(integer):\n",
    "        print(integer, 'Number is prime')\n",
    "    # Display Variable and statement\n",
    "    else: \n",
    "        print(integer, 'Number isnt prime')\n",
    "# Create function with variable (integer) as argument        \n",
    "def is_prime(integer):\n",
    "    # Run through range of numbers\n",
    "    for num in range(2, integer):\n",
    "        # If not divisible by num, false\n",
    "        if integer % num == 0:\n",
    "            return False \n",
    "        # If divisible by num, true\n",
    "        else:\n",
    "            return True"
   ]
  },
  {
   "cell_type": "markdown",
   "id": "7953dc80",
   "metadata": {},
   "source": [
    "#### Question 4\n",
    "\n",
    "Automobile Costs\n",
    "\n",
    "Write a program that asks the user to enter the monthly costs for the following expenses incurred from operating their automobile: loan payment, insurance, gas, oil, tires, and maintenance. The program should then display the total monthly cost of these expenses, and the total annual cost of these expenses."
   ]
  },
  {
   "cell_type": "code",
   "execution_count": 23,
   "id": "8adc3ec4",
   "metadata": {},
   "outputs": [
    {
     "name": "stdout",
     "output_type": "stream",
     "text": [
      "How much is your car loan? 360\n",
      "How much is your car insurance? 212\n",
      "How much do you pay for gas monthly? 200\n",
      "How much do you pay for an oil change? 97\n",
      "How much do you pay for tires? 1000\n",
      "How much do you pay for mainteance monthly? 50\n"
     ]
    }
   ],
   "source": [
    "# Have program prompt the user for their automobile expenses \n",
    "loan_payment = float(input('How much is your car loan? '))\n",
    "insurance = float(input('How much is your car insurance? '))\n",
    "gas = float(input('How much do you pay for gas monthly? '))\n",
    "oil = float(input('How much do you pay for an oil change? '))\n",
    "tires = float(input('How much do you pay for tires? '))\n",
    "maintenance = float(input('How much do you pay for mainteance monthly? '))"
   ]
  },
  {
   "cell_type": "code",
   "execution_count": 24,
   "id": "3ee829e7",
   "metadata": {},
   "outputs": [],
   "source": [
    "# Program should display total monthly cost of expenses\n",
    "monthly_cost = loan_payment + insurance + gas + oil + tires + maintenance"
   ]
  },
  {
   "cell_type": "code",
   "execution_count": 25,
   "id": "eb3028a0",
   "metadata": {},
   "outputs": [
    {
     "ename": "NameError",
     "evalue": "name 'monthly_pmt' is not defined",
     "output_type": "error",
     "traceback": [
      "\u001b[0;31m---------------------------------------------------------------------------\u001b[0m",
      "\u001b[0;31mNameError\u001b[0m                                 Traceback (most recent call last)",
      "Cell \u001b[0;32mIn[25], line 2\u001b[0m\n\u001b[1;32m      1\u001b[0m \u001b[38;5;66;03m# Program should display total annual cost\u001b[39;00m\n\u001b[0;32m----> 2\u001b[0m annual_cost \u001b[38;5;241m=\u001b[39m monthly_pmt \u001b[38;5;241m*\u001b[39m \u001b[38;5;241m12\u001b[39m\n",
      "\u001b[0;31mNameError\u001b[0m: name 'monthly_pmt' is not defined"
     ]
    }
   ],
   "source": [
    "# Program should display total annual cost\n",
    "annual_cost = monthly_pmt * 12"
   ]
  },
  {
   "cell_type": "code",
   "execution_count": 26,
   "id": "365d4e19",
   "metadata": {},
   "outputs": [
    {
     "name": "stdout",
     "output_type": "stream",
     "text": [
      "How much is your car loan? 360\n",
      "How much is your car insurance? 212\n",
      "How much do you pay for gas monthly? 200\n",
      "How much do you pay for an oil change? 97\n",
      "How much do you pay for tires? 50\n",
      "How much do you pay for mainteance monthly? 50\n"
     ]
    },
    {
     "ename": "NameError",
     "evalue": "name 'monthly_pmt' is not defined",
     "output_type": "error",
     "traceback": [
      "\u001b[0;31m---------------------------------------------------------------------------\u001b[0m",
      "\u001b[0;31mNameError\u001b[0m                                 Traceback (most recent call last)",
      "Cell \u001b[0;32mIn[26], line 9\u001b[0m\n\u001b[1;32m      7\u001b[0m maintenance \u001b[38;5;241m=\u001b[39m \u001b[38;5;28mfloat\u001b[39m(\u001b[38;5;28minput\u001b[39m(\u001b[38;5;124m'\u001b[39m\u001b[38;5;124mHow much do you pay for mainteance monthly? \u001b[39m\u001b[38;5;124m'\u001b[39m))\n\u001b[1;32m      8\u001b[0m monthly_cost \u001b[38;5;241m=\u001b[39m loan_payment \u001b[38;5;241m+\u001b[39m insurance \u001b[38;5;241m+\u001b[39m gas \u001b[38;5;241m+\u001b[39m oil \u001b[38;5;241m+\u001b[39m tires \u001b[38;5;241m+\u001b[39m maintenance\n\u001b[0;32m----> 9\u001b[0m annual_cost \u001b[38;5;241m=\u001b[39m monthly_pmt \u001b[38;5;241m*\u001b[39m \u001b[38;5;241m12\u001b[39m\n\u001b[1;32m     10\u001b[0m \u001b[38;5;28mprint\u001b[39m(\u001b[38;5;124m'\u001b[39m\u001b[38;5;124mYour monthly cost for your vehicle is\u001b[39m\u001b[38;5;124m'\u001b[39m, monthly_cost)\n\u001b[1;32m     11\u001b[0m \u001b[38;5;28mprint\u001b[39m(\u001b[38;5;124m'\u001b[39m\u001b[38;5;124mYour yearly cost for your vehicle is\u001b[39m\u001b[38;5;124m'\u001b[39m, annual_cost)\n",
      "\u001b[0;31mNameError\u001b[0m: name 'monthly_pmt' is not defined"
     ]
    }
   ],
   "source": [
    "# Incorporate together \n",
    "loan_payment = float(input('How much is your car loan? '))\n",
    "insurance = float(input('How much is your car insurance? '))\n",
    "gas = float(input('How much do you pay for gas monthly? '))\n",
    "oil = float(input('How much do you pay for an oil change? '))\n",
    "tires = float(input('How much do you pay for tires? '))\n",
    "maintenance = float(input('How much do you pay for mainteance monthly? '))\n",
    "monthly_cost = loan_payment + insurance + gas + oil + tires + maintenance\n",
    "annual_cost = monthly_pmt * 12\n",
    "print('Your monthly cost for your vehicle is', monthly_cost)\n",
    "print('Your yearly cost for your vehicle is', annual_cost)\n"
   ]
  },
  {
   "cell_type": "code",
   "execution_count": 27,
   "id": "c3c34337",
   "metadata": {},
   "outputs": [
    {
     "name": "stdout",
     "output_type": "stream",
     "text": [
      "How much is your car loan? 360\n",
      "How much is your car insurance? 212\n",
      "How much do you pay for gas monthly? 200\n",
      "How much do you pay for an oil change? 97\n",
      "How much do you pay for tires? 50\n",
      "How much do you pay for mainteance monthly? 50\n",
      "Your monthly cost for your vehicle is 969.0\n",
      "Your yearly cost for your vehicle is 11628.0\n"
     ]
    }
   ],
   "source": [
    "# Change monthly_pmt to monthly_cost\n",
    "loan_payment = float(input('How much is your car loan? '))\n",
    "insurance = float(input('How much is your car insurance? '))\n",
    "gas = float(input('How much do you pay for gas monthly? '))\n",
    "oil = float(input('How much do you pay for an oil change? '))\n",
    "tires = float(input('How much do you pay for tires? '))\n",
    "maintenance = float(input('How much do you pay for mainteance monthly? '))\n",
    "monthly_cost = loan_payment + insurance + gas + oil + tires + maintenance\n",
    "annual_cost = monthly_cost * 12\n",
    "print('Your monthly cost for your vehicle is', monthly_cost)\n",
    "print('Your yearly cost for your vehicle is', annual_cost)"
   ]
  },
  {
   "cell_type": "code",
   "execution_count": 18,
   "id": "d76ca016",
   "metadata": {},
   "outputs": [
    {
     "name": "stdout",
     "output_type": "stream",
     "text": [
      "How much is your car loan? 580\n",
      "How much is your car insurance? 325\n",
      "How much do you pay for gas monthly? 300\n",
      "How much do you pay for an oil change? 142\n",
      "How much do you pay for tires? 50\n",
      "How much do you pay for mainteance monthly? 50\n",
      "Your monthly cost for your vehicle is 1447.0\n",
      "Your yearly cost for your vehicle is 17364.0\n"
     ]
    }
   ],
   "source": [
    "# Variables set to user input\n",
    "loan_payment = float(input('How much is your car loan? '))\n",
    "insurance = float(input('How much is your car insurance? '))\n",
    "gas = float(input('How much do you pay for gas monthly? '))\n",
    "oil = float(input('How much do you pay for an oil change? '))\n",
    "tires = float(input('How much do you pay for tires? '))\n",
    "maintenance = float(input('How much do you pay for mainteance monthly? '))\n",
    "# Variable set equal to sum of all user inputs\n",
    "monthly_cost = loan_payment + insurance + gas + oil + tires + maintenance\n",
    "# Variable set eqaul to product of monthly cost times 12 months\n",
    "annual_cost = monthly_cost * 12\n",
    "# Display results\n",
    "print('Your monthly cost for your vehicle is', monthly_cost)\n",
    "# Display results \n",
    "print('Your yearly cost for your vehicle is', annual_cost)"
   ]
  },
  {
   "cell_type": "markdown",
   "id": "6fcd391a",
   "metadata": {},
   "source": [
    "Start by creating variables according to question, set equal to user inputs. Next I made a monthly cost variable set equal to the sum of every variable added together. I then made a annual cost variable set equal to the product of the monthly cost times 12 for a year. In the end I had the program display the result. I believe I was to do this problem by making a function, I tried but go no where."
   ]
  },
  {
   "cell_type": "markdown",
   "id": "f72d5e98",
   "metadata": {},
   "source": [
    "I asked Chat GPT this question and this is what it gave back. "
   ]
  },
  {
   "cell_type": "code",
   "execution_count": 3,
   "id": "7e09d59f",
   "metadata": {},
   "outputs": [
    {
     "name": "stdout",
     "output_type": "stream",
     "text": [
      "Enter the monthly loan payment: $580\n",
      "Enter the monthly insurance cost: $325\n",
      "Enter the monthly gas cost: $300\n",
      "Enter the monthly oil cost: $142\n",
      "Enter the monthly tire cost: $50\n",
      "Enter the monthly maintenance cost: $50\n",
      "\n",
      "Total Monthly Cost: $1447.00\n",
      "Total Annual Cost: $17364.00\n"
     ]
    }
   ],
   "source": [
    "def calculate_expense_total(expenses):\n",
    "    return sum(expenses)\n",
    "def calculate_annual_total(monthly_total):\n",
    "    return monthly_total * 12 \n",
    "def main():\n",
    "    loan_payment = float(input('Enter the monthly loan payment: $'))\n",
    "    insurance = float(input('Enter the monthly insurance cost: $'))\n",
    "    gas = float(input('Enter the monthly gas cost: $'))\n",
    "    oil = float(input('Enter the monthly oil cost: $'))\n",
    "    tires = float(input('Enter the monthly tire cost: $'))\n",
    "    maintenance = float(input('Enter the monthly maintenance cost: $'))\n",
    "    \n",
    "    monthly_expenses = (loan_payment, insurance, gas, oil, tires, maintenance)\n",
    "    total_monthly_cost = calculate_expense_total(monthly_expenses)\n",
    "    \n",
    "    total_annual_cost = calculate_annual_total(total_monthly_cost)\n",
    "    \n",
    "    print(f'\\nTotal Monthly Cost: ${total_monthly_cost:.2f}')\n",
    "    print(f'Total Annual Cost: ${total_annual_cost:.2f}')\n",
    "    \n",
    "if __name__ == '__main__':\n",
    "    main()"
   ]
  },
  {
   "cell_type": "markdown",
   "id": "e69c9388",
   "metadata": {},
   "source": [
    "I understand somewhat of what it did but, all the variables are throwing me off, it looks too complex, and I dont understand what its done with the if statement at the end. "
   ]
  },
  {
   "cell_type": "code",
   "execution_count": null,
   "id": "d23d0f4b",
   "metadata": {},
   "outputs": [],
   "source": []
  }
 ],
 "metadata": {
  "kernelspec": {
   "display_name": "Python 3 (ipykernel)",
   "language": "python",
   "name": "python3"
  },
  "language_info": {
   "codemirror_mode": {
    "name": "ipython",
    "version": 3
   },
   "file_extension": ".py",
   "mimetype": "text/x-python",
   "name": "python",
   "nbconvert_exporter": "python",
   "pygments_lexer": "ipython3",
   "version": "3.11.4"
  }
 },
 "nbformat": 4,
 "nbformat_minor": 5
}
