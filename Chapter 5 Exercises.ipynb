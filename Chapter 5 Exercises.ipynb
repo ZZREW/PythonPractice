{
 "cells": [
  {
   "cell_type": "markdown",
   "id": "cdee3f09",
   "metadata": {},
   "source": [
    "# Chapter 5 Exercises"
   ]
  },
  {
   "cell_type": "markdown",
   "id": "d557753a",
   "metadata": {},
   "source": [
    "### Algorithm Workbench"
   ]
  },
  {
   "cell_type": "markdown",
   "id": "48b98353",
   "metadata": {},
   "source": [
    "#### Question 1\n",
    "\n",
    "Write a function named times_ten. The function should accept an argument and display the product of its argument multiplied times 10."
   ]
  },
  {
   "cell_type": "code",
   "execution_count": 1,
   "id": "c6f68adc",
   "metadata": {},
   "outputs": [
    {
     "ename": "SyntaxError",
     "evalue": "incomplete input (1805008165.py, line 2)",
     "output_type": "error",
     "traceback": [
      "\u001b[0;36m  Cell \u001b[0;32mIn[1], line 2\u001b[0;36m\u001b[0m\n\u001b[0;31m    def times_ten():\u001b[0m\n\u001b[0m                    ^\u001b[0m\n\u001b[0;31mSyntaxError\u001b[0m\u001b[0;31m:\u001b[0m incomplete input\n"
     ]
    }
   ],
   "source": [
    "# Write def to start function\n",
    "def times_ten():"
   ]
  },
  {
   "cell_type": "code",
   "execution_count": 2,
   "id": "c80538af",
   "metadata": {},
   "outputs": [],
   "source": [
    "# Write arguement for function\n",
    "def times_ten():\n",
    "    packets_of_flower = int(input('How many packets of flower do you have? '))"
   ]
  },
  {
   "cell_type": "markdown",
   "id": "222ec418",
   "metadata": {},
   "source": [
    "Created a variable for my argument statement i'm creating, variable name is packets of flower, the program will ask the user how many packets of flower they have. "
   ]
  },
  {
   "cell_type": "code",
   "execution_count": 3,
   "id": "71d18c7f",
   "metadata": {},
   "outputs": [
    {
     "ename": "SyntaxError",
     "evalue": "cannot assign to expression here. Maybe you meant '==' instead of '='? (1259613776.py, line 4)",
     "output_type": "error",
     "traceback": [
      "\u001b[0;36m  Cell \u001b[0;32mIn[3], line 4\u001b[0;36m\u001b[0m\n\u001b[0;31m    packets_of_flower * 10 = cakes\u001b[0m\n\u001b[0m    ^\u001b[0m\n\u001b[0;31mSyntaxError\u001b[0m\u001b[0;31m:\u001b[0m cannot assign to expression here. Maybe you meant '==' instead of '='?\n"
     ]
    }
   ],
   "source": [
    "# Complete writing arguement for fuction\n",
    "def times_ten():\n",
    "    packets_of_flower = int(input('How many packets of flower do you have? '))\n",
    "    packets_of_flower * 10 = cakes"
   ]
  },
  {
   "cell_type": "code",
   "execution_count": 4,
   "id": "50d9c07c",
   "metadata": {},
   "outputs": [],
   "source": [
    "# Fix code line 4 \n",
    "def times_ten():\n",
    "    packets_of_flower = int(input('How many packets of flower do you have? '))\n",
    "    packets_of_flower * 10 == cakes"
   ]
  },
  {
   "cell_type": "markdown",
   "id": "426cdd80",
   "metadata": {},
   "source": [
    "Made a equation to display the product of a variables argument multipled times 10"
   ]
  },
  {
   "cell_type": "code",
   "execution_count": 5,
   "id": "2bfa7f1a",
   "metadata": {},
   "outputs": [],
   "source": [
    "# Add print statement\n",
    "def times_ten():\n",
    "    packets_of_flower = int(input('How many packets of flower do you have? '))\n",
    "    packets_of_flower * 10 == cakes\n",
    "    print(f'You can bake {cakes} cakes.')"
   ]
  },
  {
   "cell_type": "code",
   "execution_count": 6,
   "id": "49f1563f",
   "metadata": {},
   "outputs": [
    {
     "name": "stdout",
     "output_type": "stream",
     "text": [
      "How many packets of flower do you have? 3\n"
     ]
    },
    {
     "ename": "NameError",
     "evalue": "name 'cakes' is not defined",
     "output_type": "error",
     "traceback": [
      "\u001b[0;31m---------------------------------------------------------------------------\u001b[0m",
      "\u001b[0;31mNameError\u001b[0m                                 Traceback (most recent call last)",
      "Cell \u001b[0;32mIn[6], line 6\u001b[0m\n\u001b[1;32m      4\u001b[0m     packets_of_flower \u001b[38;5;241m*\u001b[39m \u001b[38;5;241m10\u001b[39m \u001b[38;5;241m==\u001b[39m cakes\n\u001b[1;32m      5\u001b[0m     \u001b[38;5;28mprint\u001b[39m(\u001b[38;5;124mf\u001b[39m\u001b[38;5;124m'\u001b[39m\u001b[38;5;124mYou can bake \u001b[39m\u001b[38;5;132;01m{\u001b[39;00mcakes\u001b[38;5;132;01m}\u001b[39;00m\u001b[38;5;124m cakes.\u001b[39m\u001b[38;5;124m'\u001b[39m)\n\u001b[0;32m----> 6\u001b[0m times_ten()\n",
      "Cell \u001b[0;32mIn[6], line 4\u001b[0m, in \u001b[0;36mtimes_ten\u001b[0;34m()\u001b[0m\n\u001b[1;32m      2\u001b[0m \u001b[38;5;28;01mdef\u001b[39;00m \u001b[38;5;21mtimes_ten\u001b[39m():\n\u001b[1;32m      3\u001b[0m     packets_of_flower \u001b[38;5;241m=\u001b[39m \u001b[38;5;28mint\u001b[39m(\u001b[38;5;28minput\u001b[39m(\u001b[38;5;124m'\u001b[39m\u001b[38;5;124mHow many packets of flower do you have? \u001b[39m\u001b[38;5;124m'\u001b[39m))\n\u001b[0;32m----> 4\u001b[0m     packets_of_flower \u001b[38;5;241m*\u001b[39m \u001b[38;5;241m10\u001b[39m \u001b[38;5;241m==\u001b[39m cakes\n\u001b[1;32m      5\u001b[0m     \u001b[38;5;28mprint\u001b[39m(\u001b[38;5;124mf\u001b[39m\u001b[38;5;124m'\u001b[39m\u001b[38;5;124mYou can bake \u001b[39m\u001b[38;5;132;01m{\u001b[39;00mcakes\u001b[38;5;132;01m}\u001b[39;00m\u001b[38;5;124m cakes.\u001b[39m\u001b[38;5;124m'\u001b[39m)\n",
      "\u001b[0;31mNameError\u001b[0m: name 'cakes' is not defined"
     ]
    }
   ],
   "source": [
    "# Call funtion now\n",
    "def times_ten():\n",
    "    packets_of_flower = int(input('How many packets of flower do you have? '))\n",
    "    packets_of_flower * 10 == cakes\n",
    "    print(f'You can bake {cakes} cakes.')\n",
    "times_ten()"
   ]
  },
  {
   "cell_type": "code",
   "execution_count": 7,
   "id": "c67f5bd2",
   "metadata": {},
   "outputs": [
    {
     "name": "stdout",
     "output_type": "stream",
     "text": [
      "How many packets of flower do you have? 3\n",
      "You can bake 30 cakes.\n"
     ]
    }
   ],
   "source": [
    "# Change == to =, and put cakes first\n",
    "def times_ten():\n",
    "    packets_of_flower = int(input('How many packets of flower do you have? '))\n",
    "    cakes = packets_of_flower * 10 \n",
    "    print(f'You can bake {cakes} cakes.')\n",
    "times_ten()"
   ]
  },
  {
   "cell_type": "markdown",
   "id": "cdbb66e6",
   "metadata": {},
   "source": [
    "#### Question 2\n",
    "Examine the following function header, then write a statement that calls the function, passing 12 as an argument. \n",
    "\n",
    "def show_value(quantity):"
   ]
  },
  {
   "cell_type": "code",
   "execution_count": null,
   "id": "572a9131",
   "metadata": {},
   "outputs": [],
   "source": [
    "# Copy down fucntion\n",
    "def show_value(quantity):"
   ]
  },
  {
   "cell_type": "code",
   "execution_count": 1,
   "id": "bea1c267",
   "metadata": {},
   "outputs": [],
   "source": [
    "# Write print statement in fuction\n",
    "def show_value(quantity):\n",
    "    print('Value is', quantity)"
   ]
  },
  {
   "cell_type": "code",
   "execution_count": 2,
   "id": "f2a9457d",
   "metadata": {},
   "outputs": [
    {
     "name": "stdout",
     "output_type": "stream",
     "text": [
      "Value is 12\n"
     ]
    }
   ],
   "source": [
    "# Call statement, and incorporate 12 for parameter\n",
    "def show_value(quantity):\n",
    "    print('Value is', quantity)\n",
    "show_value(12)"
   ]
  },
  {
   "cell_type": "markdown",
   "id": "5c54da75",
   "metadata": {},
   "source": [
    "Watched video footnote 5-2 within our textbook to help me under this problem. It was quite simple, that is if ive done it correctly. I simply added a print statement to the given function. I wanted it to display 12 as the question stated, so I have the program to print; Value is 12. So when I call the function, within the parameters ill put 12."
   ]
  },
  {
   "cell_type": "markdown",
   "id": "ac34142e",
   "metadata": {},
   "source": [
    "### Programming Exercises "
   ]
  },
  {
   "cell_type": "markdown",
   "id": "4d21cb32",
   "metadata": {},
   "source": [
    "#### Question 1\n",
    "\n",
    "Kilometer Converter\n",
    "\n",
    "Write a program that asks the user to enter a distance in kilometers, then uses a function to convert that distance to miles. The conversion formula is as follows:\n",
    "\n",
    "miles = kilometers * 0.6214"
   ]
  },
  {
   "cell_type": "code",
   "execution_count": 3,
   "id": "e2a957d9",
   "metadata": {},
   "outputs": [
    {
     "name": "stdout",
     "output_type": "stream",
     "text": [
      "Enter your speed in Kilometer; 181\n"
     ]
    }
   ],
   "source": [
    "# Have program prompt user for km, new variable km\n",
    "Kilometers = float(input('Enter your speed in Kilometer; '))"
   ]
  },
  {
   "cell_type": "code",
   "execution_count": 4,
   "id": "6eef3931",
   "metadata": {},
   "outputs": [],
   "source": [
    "# Create main function, add prompt for statement\n",
    "def main():\n",
    "    Kilometers = float(input('Enter your speed in Kilometer; '))"
   ]
  },
  {
   "cell_type": "code",
   "execution_count": 5,
   "id": "d99f98c0",
   "metadata": {},
   "outputs": [],
   "source": [
    "# Create secondary function for the equation\n",
    "def kilometer_converter():\n",
    "    miles = kilometers * 0.6214"
   ]
  },
  {
   "cell_type": "code",
   "execution_count": 6,
   "id": "b8735c3b",
   "metadata": {},
   "outputs": [],
   "source": [
    "# Add code together\n",
    "def main():\n",
    "    Kilometers = float(input('Enter your speed in Kilometer; '))\n",
    "def kilometer_converter():\n",
    "    miles = kilometers * 0.6214"
   ]
  },
  {
   "cell_type": "code",
   "execution_count": 7,
   "id": "9de2096a",
   "metadata": {},
   "outputs": [
    {
     "ename": "SyntaxError",
     "evalue": "unterminated string literal (detected at line 6) (347148612.py, line 6)",
     "output_type": "error",
     "traceback": [
      "\u001b[0;36m  Cell \u001b[0;32mIn[7], line 6\u001b[0;36m\u001b[0m\n\u001b[0;31m    print(f'A speed of {kilometers} kilometers an hour is equal to traveling, {miles} miles an hour.)\u001b[0m\n\u001b[0m          ^\u001b[0m\n\u001b[0;31mSyntaxError\u001b[0m\u001b[0;31m:\u001b[0m unterminated string literal (detected at line 6)\n"
     ]
    }
   ],
   "source": [
    "# Add print statement to display code\n",
    "def main():\n",
    "    Kilometers = float(input('Enter your speed in Kilometer; '))\n",
    "def kilometer_converter():\n",
    "    miles = kilometers * 0.6214\n",
    "    print(f'A speed of {kilometers} kilometers an hour is equal to traveling, {miles} miles an hour.)"
   ]
  },
  {
   "cell_type": "code",
   "execution_count": 9,
   "id": "a93bf46c",
   "metadata": {},
   "outputs": [
    {
     "name": "stdout",
     "output_type": "stream",
     "text": [
      "Enter your speed in Kilometer; 181\n"
     ]
    },
    {
     "ename": "NameError",
     "evalue": "name 'kilometers' is not defined",
     "output_type": "error",
     "traceback": [
      "\u001b[0;31m---------------------------------------------------------------------------\u001b[0m",
      "\u001b[0;31mNameError\u001b[0m                                 Traceback (most recent call last)",
      "Cell \u001b[0;32mIn[9], line 8\u001b[0m\n\u001b[1;32m      6\u001b[0m     miles \u001b[38;5;241m=\u001b[39m kilometers \u001b[38;5;241m*\u001b[39m \u001b[38;5;241m0.6214\u001b[39m\n\u001b[1;32m      7\u001b[0m     \u001b[38;5;28mprint\u001b[39m(\u001b[38;5;124mf\u001b[39m\u001b[38;5;124m'\u001b[39m\u001b[38;5;124mA speed of \u001b[39m\u001b[38;5;132;01m{\u001b[39;00mkilometers\u001b[38;5;132;01m}\u001b[39;00m\u001b[38;5;124m kilometers an hour is equal to traveling, \u001b[39m\u001b[38;5;132;01m{\u001b[39;00mmiles\u001b[38;5;132;01m}\u001b[39;00m\u001b[38;5;124m miles an hour.\u001b[39m\u001b[38;5;124m'\u001b[39m)\n\u001b[0;32m----> 8\u001b[0m main()\n",
      "Cell \u001b[0;32mIn[9], line 4\u001b[0m, in \u001b[0;36mmain\u001b[0;34m()\u001b[0m\n\u001b[1;32m      2\u001b[0m \u001b[38;5;28;01mdef\u001b[39;00m \u001b[38;5;21mmain\u001b[39m():\n\u001b[1;32m      3\u001b[0m     Kilometers \u001b[38;5;241m=\u001b[39m \u001b[38;5;28mfloat\u001b[39m(\u001b[38;5;28minput\u001b[39m(\u001b[38;5;124m'\u001b[39m\u001b[38;5;124mEnter your speed in Kilometer; \u001b[39m\u001b[38;5;124m'\u001b[39m))\n\u001b[0;32m----> 4\u001b[0m     kilometer_converter(kilometers)\n",
      "\u001b[0;31mNameError\u001b[0m: name 'kilometers' is not defined"
     ]
    }
   ],
   "source": [
    "# Add kilometer_converter function to main function and call main function, add ' to the end of f'\n",
    "def main():\n",
    "    Kilometers = float(input('Enter your speed in Kilometer; '))\n",
    "    kilometer_converter(kilometers)\n",
    "def kilometer_converter():\n",
    "    miles = kilometers * 0.6214\n",
    "    print(f'A speed of {kilometers} kilometers an hour is equal to traveling, {miles} miles an hour.')\n",
    "main()"
   ]
  },
  {
   "cell_type": "markdown",
   "id": "1dfd6f77",
   "metadata": {},
   "source": [
    "Kilometers isnt defined, Im going to delete from line 4 within parentheses, and rerun"
   ]
  },
  {
   "cell_type": "code",
   "execution_count": 10,
   "id": "02833233",
   "metadata": {},
   "outputs": [
    {
     "name": "stdout",
     "output_type": "stream",
     "text": [
      "Enter your speed in Kilometer; 187\n"
     ]
    },
    {
     "ename": "NameError",
     "evalue": "name 'kilometers' is not defined",
     "output_type": "error",
     "traceback": [
      "\u001b[0;31m---------------------------------------------------------------------------\u001b[0m",
      "\u001b[0;31mNameError\u001b[0m                                 Traceback (most recent call last)",
      "Cell \u001b[0;32mIn[10], line 7\u001b[0m\n\u001b[1;32m      5\u001b[0m     miles \u001b[38;5;241m=\u001b[39m kilometers \u001b[38;5;241m*\u001b[39m \u001b[38;5;241m0.6214\u001b[39m\n\u001b[1;32m      6\u001b[0m     \u001b[38;5;28mprint\u001b[39m(\u001b[38;5;124mf\u001b[39m\u001b[38;5;124m'\u001b[39m\u001b[38;5;124mA speed of \u001b[39m\u001b[38;5;132;01m{\u001b[39;00mkilometers\u001b[38;5;132;01m}\u001b[39;00m\u001b[38;5;124m kilometers an hour is equal to traveling, \u001b[39m\u001b[38;5;132;01m{\u001b[39;00mmiles\u001b[38;5;132;01m}\u001b[39;00m\u001b[38;5;124m miles an hour.\u001b[39m\u001b[38;5;124m'\u001b[39m)\n\u001b[0;32m----> 7\u001b[0m main()\n",
      "Cell \u001b[0;32mIn[10], line 3\u001b[0m, in \u001b[0;36mmain\u001b[0;34m()\u001b[0m\n\u001b[1;32m      1\u001b[0m \u001b[38;5;28;01mdef\u001b[39;00m \u001b[38;5;21mmain\u001b[39m():\n\u001b[1;32m      2\u001b[0m     Kilometers \u001b[38;5;241m=\u001b[39m \u001b[38;5;28mfloat\u001b[39m(\u001b[38;5;28minput\u001b[39m(\u001b[38;5;124m'\u001b[39m\u001b[38;5;124mEnter your speed in Kilometer; \u001b[39m\u001b[38;5;124m'\u001b[39m))\n\u001b[0;32m----> 3\u001b[0m     kilometer_converter()\n",
      "Cell \u001b[0;32mIn[10], line 5\u001b[0m, in \u001b[0;36mkilometer_converter\u001b[0;34m()\u001b[0m\n\u001b[1;32m      4\u001b[0m \u001b[38;5;28;01mdef\u001b[39;00m \u001b[38;5;21mkilometer_converter\u001b[39m():\n\u001b[0;32m----> 5\u001b[0m     miles \u001b[38;5;241m=\u001b[39m kilometers \u001b[38;5;241m*\u001b[39m \u001b[38;5;241m0.6214\u001b[39m\n\u001b[1;32m      6\u001b[0m     \u001b[38;5;28mprint\u001b[39m(\u001b[38;5;124mf\u001b[39m\u001b[38;5;124m'\u001b[39m\u001b[38;5;124mA speed of \u001b[39m\u001b[38;5;132;01m{\u001b[39;00mkilometers\u001b[38;5;132;01m}\u001b[39;00m\u001b[38;5;124m kilometers an hour is equal to traveling, \u001b[39m\u001b[38;5;132;01m{\u001b[39;00mmiles\u001b[38;5;132;01m}\u001b[39;00m\u001b[38;5;124m miles an hour.\u001b[39m\u001b[38;5;124m'\u001b[39m)\n",
      "\u001b[0;31mNameError\u001b[0m: name 'kilometers' is not defined"
     ]
    }
   ],
   "source": [
    "# Deleted kilometer out of line 4\n",
    "def main():\n",
    "    Kilometers = float(input('Enter your speed in Kilometer; '))\n",
    "    kilometer_converter()\n",
    "def kilometer_converter():\n",
    "    miles = kilometers * 0.6214\n",
    "    print(f'A speed of {kilometers} kilometers an hour is equal to traveling, {miles} miles an hour.')\n",
    "main()"
   ]
  },
  {
   "cell_type": "markdown",
   "id": "3f075ecc",
   "metadata": {},
   "source": [
    "Going to review the textbook... and video note 5-4 to help me troubleshoot"
   ]
  },
  {
   "cell_type": "markdown",
   "id": "71496d88",
   "metadata": {},
   "source": [
    "I believe I need a Global Variable, according to the textbook defnition (When a variable is created by an assignment statement that is written outside all the functions in a program file, the variable is global) I need my kilometer variable outside of the funtion."
   ]
  },
  {
   "cell_type": "code",
   "execution_count": 12,
   "id": "572c649b",
   "metadata": {},
   "outputs": [
    {
     "name": "stdout",
     "output_type": "stream",
     "text": [
      "Enter your speed in Kilometer: 187\n"
     ]
    },
    {
     "ename": "NameError",
     "evalue": "name 'kilometers' is not defined",
     "output_type": "error",
     "traceback": [
      "\u001b[0;31m---------------------------------------------------------------------------\u001b[0m",
      "\u001b[0;31mNameError\u001b[0m                                 Traceback (most recent call last)",
      "Cell \u001b[0;32mIn[12], line 8\u001b[0m\n\u001b[1;32m      6\u001b[0m     miles \u001b[38;5;241m=\u001b[39m kilometers \u001b[38;5;241m*\u001b[39m \u001b[38;5;241m0.6214\u001b[39m\n\u001b[1;32m      7\u001b[0m     \u001b[38;5;28mprint\u001b[39m(\u001b[38;5;124mf\u001b[39m\u001b[38;5;124m'\u001b[39m\u001b[38;5;124mA speed of \u001b[39m\u001b[38;5;132;01m{\u001b[39;00mkilometers\u001b[38;5;132;01m}\u001b[39;00m\u001b[38;5;124m kilometers an hour is equal to traveling, \u001b[39m\u001b[38;5;132;01m{\u001b[39;00mmiles\u001b[38;5;132;01m}\u001b[39;00m\u001b[38;5;124m miles an hour.\u001b[39m\u001b[38;5;124m'\u001b[39m)\n\u001b[0;32m----> 8\u001b[0m main()\n",
      "Cell \u001b[0;32mIn[12], line 4\u001b[0m, in \u001b[0;36mmain\u001b[0;34m()\u001b[0m\n\u001b[1;32m      3\u001b[0m \u001b[38;5;28;01mdef\u001b[39;00m \u001b[38;5;21mmain\u001b[39m():\n\u001b[0;32m----> 4\u001b[0m     kilometer_converter(kilometers)\n",
      "\u001b[0;31mNameError\u001b[0m: name 'kilometers' is not defined"
     ]
    }
   ],
   "source": [
    "# Made kilometers variable global\n",
    "Kilometers = float(input('Enter your speed in Kilometer: '))\n",
    "def main():\n",
    "    kilometer_converter(kilometers)\n",
    "def kilometer_converter(kilometers):\n",
    "    miles = kilometers * 0.6214\n",
    "    print(f'A speed of {kilometers} kilometers an hour is equal to traveling, {miles} miles an hour.')\n",
    "main()"
   ]
  },
  {
   "cell_type": "code",
   "execution_count": 13,
   "id": "b3b16107",
   "metadata": {},
   "outputs": [
    {
     "name": "stdout",
     "output_type": "stream",
     "text": [
      "Enter your speed in Kilometer: 187\n"
     ]
    },
    {
     "ename": "NameError",
     "evalue": "name 'kilometers' is not defined",
     "output_type": "error",
     "traceback": [
      "\u001b[0;31m---------------------------------------------------------------------------\u001b[0m",
      "\u001b[0;31mNameError\u001b[0m                                 Traceback (most recent call last)",
      "Cell \u001b[0;32mIn[13], line 2\u001b[0m\n\u001b[1;32m      1\u001b[0m Kilometers \u001b[38;5;241m=\u001b[39m \u001b[38;5;28mfloat\u001b[39m(\u001b[38;5;28minput\u001b[39m(\u001b[38;5;124m'\u001b[39m\u001b[38;5;124mEnter your speed in Kilometer: \u001b[39m\u001b[38;5;124m'\u001b[39m))\n\u001b[0;32m----> 2\u001b[0m miles \u001b[38;5;241m=\u001b[39m kilometers \u001b[38;5;241m*\u001b[39m \u001b[38;5;241m0.6214\u001b[39m\n\u001b[1;32m      3\u001b[0m \u001b[38;5;28mprint\u001b[39m(\u001b[38;5;124mf\u001b[39m\u001b[38;5;124m'\u001b[39m\u001b[38;5;124mA speed of \u001b[39m\u001b[38;5;132;01m{\u001b[39;00mkilometers\u001b[38;5;132;01m}\u001b[39;00m\u001b[38;5;124m kilometers an hour is equal to traveling, \u001b[39m\u001b[38;5;132;01m{\u001b[39;00mmiles\u001b[38;5;132;01m}\u001b[39;00m\u001b[38;5;124m miles an hour.\u001b[39m\u001b[38;5;124m'\u001b[39m)\n",
      "\u001b[0;31mNameError\u001b[0m: name 'kilometers' is not defined"
     ]
    }
   ],
   "source": [
    "Kilometers = float(input('Enter your speed in Kilometer: '))\n",
    "miles = kilometers * 0.6214\n",
    "print(f'A speed of {kilometers} kilometers an hour is equal to traveling, {miles} miles an hour.')"
   ]
  },
  {
   "cell_type": "code",
   "execution_count": 16,
   "id": "2f1660e7",
   "metadata": {},
   "outputs": [
    {
     "name": "stdout",
     "output_type": "stream",
     "text": [
      "Enter your speed in Kilometer; 187\n"
     ]
    },
    {
     "ename": "NameError",
     "evalue": "name 'kilometers' is not defined",
     "output_type": "error",
     "traceback": [
      "\u001b[0;31m---------------------------------------------------------------------------\u001b[0m",
      "\u001b[0;31mNameError\u001b[0m                                 Traceback (most recent call last)",
      "Cell \u001b[0;32mIn[16], line 7\u001b[0m\n\u001b[1;32m      5\u001b[0m     miles \u001b[38;5;241m=\u001b[39m kilometers \u001b[38;5;241m*\u001b[39m \u001b[38;5;241m0.6214\u001b[39m\n\u001b[1;32m      6\u001b[0m     \u001b[38;5;28mprint\u001b[39m(\u001b[38;5;124m'\u001b[39m\u001b[38;5;124mA speed of\u001b[39m\u001b[38;5;124m'\u001b[39m, kilometers, \u001b[38;5;124m'\u001b[39m\u001b[38;5;124mkilometers an hour is equal to traveling\u001b[39m\u001b[38;5;124m'\u001b[39m, miles, \u001b[38;5;124m'\u001b[39m\u001b[38;5;124mmiles an hour.\u001b[39m\u001b[38;5;124m'\u001b[39m)\n\u001b[0;32m----> 7\u001b[0m main()\n",
      "Cell \u001b[0;32mIn[16], line 3\u001b[0m, in \u001b[0;36mmain\u001b[0;34m()\u001b[0m\n\u001b[1;32m      1\u001b[0m \u001b[38;5;28;01mdef\u001b[39;00m \u001b[38;5;21mmain\u001b[39m():\n\u001b[1;32m      2\u001b[0m     Kilometers \u001b[38;5;241m=\u001b[39m \u001b[38;5;28mfloat\u001b[39m(\u001b[38;5;28minput\u001b[39m(\u001b[38;5;124m'\u001b[39m\u001b[38;5;124mEnter your speed in Kilometer; \u001b[39m\u001b[38;5;124m'\u001b[39m))\n\u001b[0;32m----> 3\u001b[0m     kilometer_converter()\n",
      "Cell \u001b[0;32mIn[16], line 5\u001b[0m, in \u001b[0;36mkilometer_converter\u001b[0;34m()\u001b[0m\n\u001b[1;32m      4\u001b[0m \u001b[38;5;28;01mdef\u001b[39;00m \u001b[38;5;21mkilometer_converter\u001b[39m():\n\u001b[0;32m----> 5\u001b[0m     miles \u001b[38;5;241m=\u001b[39m kilometers \u001b[38;5;241m*\u001b[39m \u001b[38;5;241m0.6214\u001b[39m\n\u001b[1;32m      6\u001b[0m     \u001b[38;5;28mprint\u001b[39m(\u001b[38;5;124m'\u001b[39m\u001b[38;5;124mA speed of\u001b[39m\u001b[38;5;124m'\u001b[39m, kilometers, \u001b[38;5;124m'\u001b[39m\u001b[38;5;124mkilometers an hour is equal to traveling\u001b[39m\u001b[38;5;124m'\u001b[39m, miles, \u001b[38;5;124m'\u001b[39m\u001b[38;5;124mmiles an hour.\u001b[39m\u001b[38;5;124m'\u001b[39m)\n",
      "\u001b[0;31mNameError\u001b[0m: name 'kilometers' is not defined"
     ]
    }
   ],
   "source": [
    "def main():\n",
    "    Kilometers = float(input('Enter your speed in Kilometer; '))\n",
    "    kilometer_converter()\n",
    "def kilometer_converter():\n",
    "    miles = kilometers * 0.6214\n",
    "    print('A speed of', kilometers, 'kilometers an hour is equal to traveling', miles, 'miles an hour.')\n",
    "main()"
   ]
  },
  {
   "cell_type": "code",
   "execution_count": 19,
   "id": "d60b1a4b",
   "metadata": {},
   "outputs": [
    {
     "name": "stdout",
     "output_type": "stream",
     "text": [
      "Enter your speed in Kilometer: 187\n",
      "A speed of 187.0 kilometers an hour is equal to traveling 116.20179999999999 miles an hour.\n"
     ]
    }
   ],
   "source": [
    "kilometers = float(input('Enter your speed in Kilometer: '))\n",
    "miles = kilometers * 0.6214\n",
    "print('A speed of', kilometers, 'kilometers an hour is equal to traveling', miles, 'miles an hour.')"
   ]
  },
  {
   "cell_type": "markdown",
   "id": "7761e2c8",
   "metadata": {},
   "source": [
    "So I went back to the basic's to try and figure this out, turns out I had a K in kilometers captialized this whole time. Maybe thats why mt code isnt working"
   ]
  },
  {
   "cell_type": "code",
   "execution_count": 3,
   "id": "aa8b0245",
   "metadata": {},
   "outputs": [
    {
     "name": "stdout",
     "output_type": "stream",
     "text": [
      "Enter your speed in Kilometers: 187\n",
      "A speed of 187.0 kilometers an hour is equal to traveling, 116.20179999999999 miles an hour.\n"
     ]
    }
   ],
   "source": [
    "# Made the K in kilometers lowercased \n",
    "def main():\n",
    "    kilometers = float(input('Enter your speed in Kilometers: '))\n",
    "    kilometer_converter(kilometers)\n",
    "def kilometer_converter(kilometers):\n",
    "    miles = kilometers * 0.6214\n",
    "    print(f'A speed of {kilometers} kilometers an hour is equal to traveling, {miles} miles an hour.')\n",
    "main()"
   ]
  },
  {
   "cell_type": "markdown",
   "id": "ac327e10",
   "metadata": {},
   "source": [
    "Its very frustrating that I spend hours trying to figure this code out just to realize that the code was good, I just had to make 1 letter lowercase. "
   ]
  },
  {
   "cell_type": "markdown",
   "id": "0b7fe299",
   "metadata": {},
   "source": [
    "#### Question 16\n",
    "\n",
    "Prime Numbers\n",
    "\n",
    "A prime number is a number that is only evenly divisible by itself and 1. For example, the number 5 is prime because it can only be evenly divided by 1 and 5. The number 6, however, is not prime because it can be divided evenly by 1, 2, 3, and 6.\n",
    "\n",
    "\n",
    "Write a Boolean function named is_prime which takes an integer as an argument and returns true if the argument is a prime number, or false otherwise. Use the function in a program that prompts the user to enter a number then displays a message indicating whether the number is prime."
   ]
  },
  {
   "cell_type": "code",
   "execution_count": 4,
   "id": "a13e419d",
   "metadata": {},
   "outputs": [
    {
     "ename": "SyntaxError",
     "evalue": "incomplete input (3118517664.py, line 2)",
     "output_type": "error",
     "traceback": [
      "\u001b[0;36m  Cell \u001b[0;32mIn[4], line 2\u001b[0;36m\u001b[0m\n\u001b[0;31m    def is_prime():\u001b[0m\n\u001b[0m                   ^\u001b[0m\n\u001b[0;31mSyntaxError\u001b[0m\u001b[0;31m:\u001b[0m incomplete input\n"
     ]
    }
   ],
   "source": [
    "# Create function named is_prime\n",
    "def is_prime():"
   ]
  },
  {
   "cell_type": "code",
   "execution_count": 5,
   "id": "bb904e2a",
   "metadata": {},
   "outputs": [
    {
     "name": "stdout",
     "output_type": "stream",
     "text": [
      "Enter in a number: 5\n"
     ]
    },
    {
     "data": {
      "text/plain": [
       "5"
      ]
     },
     "execution_count": 5,
     "metadata": {},
     "output_type": "execute_result"
    }
   ],
   "source": [
    "# Create program that prompts user\n",
    "integer = int(input('Enter in a number: '))"
   ]
  },
  {
   "cell_type": "code",
   "execution_count": 6,
   "id": "607a3424",
   "metadata": {},
   "outputs": [
    {
     "ename": "SyntaxError",
     "evalue": "incomplete input (1585987971.py, line 3)",
     "output_type": "error",
     "traceback": [
      "\u001b[0;36m  Cell \u001b[0;32mIn[6], line 3\u001b[0;36m\u001b[0m\n\u001b[0;31m    for num in range(0, integer):\u001b[0m\n\u001b[0m                                 ^\u001b[0m\n\u001b[0;31mSyntaxError\u001b[0m\u001b[0;31m:\u001b[0m incomplete input\n"
     ]
    }
   ],
   "source": [
    "# Take integer as an argument \n",
    "def is_prime(integer):\n",
    "    for num in range(1, integer):"
   ]
  },
  {
   "cell_type": "code",
   "execution_count": 7,
   "id": "df6715b5",
   "metadata": {},
   "outputs": [
    {
     "ename": "SyntaxError",
     "evalue": "'return' outside function (2954521181.py, line 3)",
     "output_type": "error",
     "traceback": [
      "\u001b[0;36m  Cell \u001b[0;32mIn[7], line 3\u001b[0;36m\u001b[0m\n\u001b[0;31m    return False\u001b[0m\n\u001b[0m    ^\u001b[0m\n\u001b[0;31mSyntaxError\u001b[0m\u001b[0;31m:\u001b[0m 'return' outside function\n"
     ]
    }
   ],
   "source": [
    "# Create if statement to test prime number\n",
    "if integer % num == 0:\n",
    "    return False \n",
    "else:\n",
    "    return True"
   ]
  },
  {
   "cell_type": "code",
   "execution_count": 8,
   "id": "5e71321b",
   "metadata": {},
   "outputs": [],
   "source": [
    "# Incorporate together\n",
    "def is_prime(integer):\n",
    "    for num in range(1, integer):\n",
    "        if integer % num == 0:\n",
    "            return False \n",
    "        else:\n",
    "            return True"
   ]
  },
  {
   "cell_type": "code",
   "execution_count": 9,
   "id": "71dccb14",
   "metadata": {},
   "outputs": [
    {
     "data": {
      "text/plain": [
       "False"
      ]
     },
     "execution_count": 9,
     "metadata": {},
     "output_type": "execute_result"
    }
   ],
   "source": [
    "is_prime(5)"
   ]
  },
  {
   "cell_type": "code",
   "execution_count": 10,
   "id": "150b7237",
   "metadata": {},
   "outputs": [],
   "source": [
    "# Change num in range to start with 2\n",
    "def is_prime(integer):\n",
    "    for num in range(2, integer):\n",
    "        if integer % num == 0:\n",
    "            return False \n",
    "        else:\n",
    "            return True"
   ]
  },
  {
   "cell_type": "code",
   "execution_count": 11,
   "id": "4accfcb4",
   "metadata": {},
   "outputs": [
    {
     "data": {
      "text/plain": [
       "True"
      ]
     },
     "execution_count": 11,
     "metadata": {},
     "output_type": "execute_result"
    }
   ],
   "source": [
    "is_prime(5)"
   ]
  },
  {
   "cell_type": "code",
   "execution_count": 12,
   "id": "536faf95",
   "metadata": {},
   "outputs": [
    {
     "name": "stdout",
     "output_type": "stream",
     "text": [
      "Enter in a number: 5\n"
     ]
    }
   ],
   "source": [
    "# Use the function is a program\n",
    "def main():\n",
    "    integer = int(input('Enter in a number: '))\n",
    "    is_prime(integer)    \n",
    "def is_prime(integer):\n",
    "    for num in range(2, integer):\n",
    "        if integer % num == 0:\n",
    "            return False \n",
    "        else:\n",
    "            return True\n",
    "main()"
   ]
  },
  {
   "cell_type": "code",
   "execution_count": 13,
   "id": "169ba834",
   "metadata": {},
   "outputs": [
    {
     "name": "stdout",
     "output_type": "stream",
     "text": [
      "Enter in a number: 5\n",
      "Number is prime\n"
     ]
    }
   ],
   "source": [
    "# Create for statement to print if 5 is prime\n",
    "def main():\n",
    "    integer = int(input('Enter in a number: '))\n",
    "    if is_prime(integer):\n",
    "        print('Number is prime')\n",
    "    else: \n",
    "        print('Number isnt prime')\n",
    "        \n",
    "def is_prime(integer):\n",
    "    for num in range(2, integer):\n",
    "        if integer % num == 0:\n",
    "            return False \n",
    "        else:\n",
    "            return True\n",
    "main()"
   ]
  },
  {
   "cell_type": "markdown",
   "id": "9f2c0d45",
   "metadata": {},
   "source": [
    "#### Question 17"
   ]
  },
  {
   "cell_type": "code",
   "execution_count": null,
   "id": "3552e189",
   "metadata": {},
   "outputs": [],
   "source": []
  }
 ],
 "metadata": {
  "kernelspec": {
   "display_name": "Python 3 (ipykernel)",
   "language": "python",
   "name": "python3"
  },
  "language_info": {
   "codemirror_mode": {
    "name": "ipython",
    "version": 3
   },
   "file_extension": ".py",
   "mimetype": "text/x-python",
   "name": "python",
   "nbconvert_exporter": "python",
   "pygments_lexer": "ipython3",
   "version": "3.11.4"
  }
 },
 "nbformat": 4,
 "nbformat_minor": 5
}
