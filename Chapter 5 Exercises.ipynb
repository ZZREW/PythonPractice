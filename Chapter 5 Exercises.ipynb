{
 "cells": [
  {
   "cell_type": "markdown",
   "id": "6656ebfe",
   "metadata": {},
   "source": [
    "# Chapter 5 Exercises"
   ]
  },
  {
   "cell_type": "markdown",
   "id": "5ee6a3fa",
   "metadata": {},
   "source": [
    "### Algorithm Workbench"
   ]
  },
  {
   "cell_type": "markdown",
   "id": "c9a3a7c2",
   "metadata": {},
   "source": [
    "#### Question 1\n",
    "\n",
    "Write a function named times_ten. The function should accept an argument and display the product of its argument multiplied times 10."
   ]
  },
  {
   "cell_type": "code",
   "execution_count": 1,
   "id": "136c2699",
   "metadata": {},
   "outputs": [
    {
     "ename": "SyntaxError",
     "evalue": "incomplete input (1805008165.py, line 2)",
     "output_type": "error",
     "traceback": [
      "\u001b[0;36m  Cell \u001b[0;32mIn[1], line 2\u001b[0;36m\u001b[0m\n\u001b[0;31m    def times_ten():\u001b[0m\n\u001b[0m                    ^\u001b[0m\n\u001b[0;31mSyntaxError\u001b[0m\u001b[0;31m:\u001b[0m incomplete input\n"
     ]
    }
   ],
   "source": [
    "# Write def to start function\n",
    "def times_ten():"
   ]
  },
  {
   "cell_type": "code",
   "execution_count": 2,
   "id": "d08f116c",
   "metadata": {},
   "outputs": [],
   "source": [
    "# Write arguement for function\n",
    "def times_ten():\n",
    "    packets_of_flower = int(input('How many packets of flower do you have? '))"
   ]
  },
  {
   "cell_type": "markdown",
   "id": "008110f9",
   "metadata": {},
   "source": [
    "Created a variable for my argument statement i'm creating, variable name is packets of flower, the program will ask the user how many packets of flower they have. "
   ]
  },
  {
   "cell_type": "code",
   "execution_count": 3,
   "id": "abbd2818",
   "metadata": {},
   "outputs": [
    {
     "ename": "SyntaxError",
     "evalue": "cannot assign to expression here. Maybe you meant '==' instead of '='? (1259613776.py, line 4)",
     "output_type": "error",
     "traceback": [
      "\u001b[0;36m  Cell \u001b[0;32mIn[3], line 4\u001b[0;36m\u001b[0m\n\u001b[0;31m    packets_of_flower * 10 = cakes\u001b[0m\n\u001b[0m    ^\u001b[0m\n\u001b[0;31mSyntaxError\u001b[0m\u001b[0;31m:\u001b[0m cannot assign to expression here. Maybe you meant '==' instead of '='?\n"
     ]
    }
   ],
   "source": [
    "# Complete writing arguement for fuction\n",
    "def times_ten():\n",
    "    packets_of_flower = int(input('How many packets of flower do you have? '))\n",
    "    packets_of_flower * 10 = cakes"
   ]
  },
  {
   "cell_type": "code",
   "execution_count": 4,
   "id": "3b2658ed",
   "metadata": {},
   "outputs": [],
   "source": [
    "# Fix code line 4 \n",
    "def times_ten():\n",
    "    packets_of_flower = int(input('How many packets of flower do you have? '))\n",
    "    packets_of_flower * 10 == cakes"
   ]
  },
  {
   "cell_type": "markdown",
   "id": "ba30f2ef",
   "metadata": {},
   "source": [
    "Made a equation to display the product of a variables argument multipled times 10"
   ]
  },
  {
   "cell_type": "code",
   "execution_count": 5,
   "id": "0b2b2d6b",
   "metadata": {},
   "outputs": [],
   "source": [
    "# Add print statement\n",
    "def times_ten():\n",
    "    packets_of_flower = int(input('How many packets of flower do you have? '))\n",
    "    packets_of_flower * 10 == cakes\n",
    "    print(f'You can bake {cakes} cakes.')"
   ]
  },
  {
   "cell_type": "code",
   "execution_count": 6,
   "id": "f2772e53",
   "metadata": {},
   "outputs": [
    {
     "name": "stdout",
     "output_type": "stream",
     "text": [
      "How many packets of flower do you have? 3\n"
     ]
    },
    {
     "ename": "NameError",
     "evalue": "name 'cakes' is not defined",
     "output_type": "error",
     "traceback": [
      "\u001b[0;31m---------------------------------------------------------------------------\u001b[0m",
      "\u001b[0;31mNameError\u001b[0m                                 Traceback (most recent call last)",
      "Cell \u001b[0;32mIn[6], line 6\u001b[0m\n\u001b[1;32m      4\u001b[0m     packets_of_flower \u001b[38;5;241m*\u001b[39m \u001b[38;5;241m10\u001b[39m \u001b[38;5;241m==\u001b[39m cakes\n\u001b[1;32m      5\u001b[0m     \u001b[38;5;28mprint\u001b[39m(\u001b[38;5;124mf\u001b[39m\u001b[38;5;124m'\u001b[39m\u001b[38;5;124mYou can bake \u001b[39m\u001b[38;5;132;01m{\u001b[39;00mcakes\u001b[38;5;132;01m}\u001b[39;00m\u001b[38;5;124m cakes.\u001b[39m\u001b[38;5;124m'\u001b[39m)\n\u001b[0;32m----> 6\u001b[0m times_ten()\n",
      "Cell \u001b[0;32mIn[6], line 4\u001b[0m, in \u001b[0;36mtimes_ten\u001b[0;34m()\u001b[0m\n\u001b[1;32m      2\u001b[0m \u001b[38;5;28;01mdef\u001b[39;00m \u001b[38;5;21mtimes_ten\u001b[39m():\n\u001b[1;32m      3\u001b[0m     packets_of_flower \u001b[38;5;241m=\u001b[39m \u001b[38;5;28mint\u001b[39m(\u001b[38;5;28minput\u001b[39m(\u001b[38;5;124m'\u001b[39m\u001b[38;5;124mHow many packets of flower do you have? \u001b[39m\u001b[38;5;124m'\u001b[39m))\n\u001b[0;32m----> 4\u001b[0m     packets_of_flower \u001b[38;5;241m*\u001b[39m \u001b[38;5;241m10\u001b[39m \u001b[38;5;241m==\u001b[39m cakes\n\u001b[1;32m      5\u001b[0m     \u001b[38;5;28mprint\u001b[39m(\u001b[38;5;124mf\u001b[39m\u001b[38;5;124m'\u001b[39m\u001b[38;5;124mYou can bake \u001b[39m\u001b[38;5;132;01m{\u001b[39;00mcakes\u001b[38;5;132;01m}\u001b[39;00m\u001b[38;5;124m cakes.\u001b[39m\u001b[38;5;124m'\u001b[39m)\n",
      "\u001b[0;31mNameError\u001b[0m: name 'cakes' is not defined"
     ]
    }
   ],
   "source": [
    "# Call funtion now\n",
    "def times_ten():\n",
    "    packets_of_flower = int(input('How many packets of flower do you have? '))\n",
    "    packets_of_flower * 10 == cakes\n",
    "    print(f'You can bake {cakes} cakes.')\n",
    "times_ten()"
   ]
  },
  {
   "cell_type": "code",
   "execution_count": 7,
   "id": "464bc6f8",
   "metadata": {},
   "outputs": [
    {
     "name": "stdout",
     "output_type": "stream",
     "text": [
      "How many packets of flower do you have? 3\n",
      "You can bake 30 cakes.\n"
     ]
    }
   ],
   "source": [
    "# Change == to =, and put cakes first\n",
    "def times_ten():\n",
    "    packets_of_flower = int(input('How many packets of flower do you have? '))\n",
    "    cakes = packets_of_flower * 10 \n",
    "    print(f'You can bake {cakes} cakes.')\n",
    "times_ten()"
   ]
  },
  {
   "cell_type": "markdown",
   "id": "6da5494b",
   "metadata": {},
   "source": [
    "#### Question 2\n",
    "Examine the following function header, then write a statement that calls the function, passing 12 as an argument. \n",
    "\n",
    "def show_value(quantity):"
   ]
  },
  {
   "cell_type": "code",
   "execution_count": null,
   "id": "0fc0453c",
   "metadata": {},
   "outputs": [],
   "source": [
    "# Copy down fucntion\n",
    "def show_value(quantity):"
   ]
  },
  {
   "cell_type": "code",
   "execution_count": 1,
   "id": "70a3c794",
   "metadata": {},
   "outputs": [],
   "source": [
    "# Write print statement in fuction\n",
    "def show_value(quantity):\n",
    "    print('Value is', quantity)"
   ]
  },
  {
   "cell_type": "code",
   "execution_count": 2,
   "id": "e608813c",
   "metadata": {},
   "outputs": [
    {
     "name": "stdout",
     "output_type": "stream",
     "text": [
      "Value is 12\n"
     ]
    }
   ],
   "source": [
    "# Call statement, and incorporate 12 for parameter\n",
    "def show_value(quantity):\n",
    "    print('Value is', quantity)\n",
    "show_value(12)"
   ]
  },
  {
   "cell_type": "markdown",
   "id": "edd83851",
   "metadata": {},
   "source": [
    "Watched video footnote 5-2 within our textbook to help me under this problem. It was quite simple, that is if ive done it correctly. I simply added a print statement to the given function. I wanted it to display 12 as the question stated, so I have the program to print; Value is 12. So when I call the function, within the parameters ill put 12."
   ]
  },
  {
   "cell_type": "markdown",
   "id": "05aec4f8",
   "metadata": {},
   "source": [
    "### Programming Exercises "
   ]
  },
  {
   "cell_type": "markdown",
   "id": "a9724cd3",
   "metadata": {},
   "source": [
    "#### Question 1\n",
    "\n",
    "Kilometer Converter\n",
    "\n",
    "Write a program that asks the user to enter a distance in kilometers, then uses a function to convert that distance to miles. The conversion formula is as follows:\n",
    "\n",
    "miles = kilometers * 0.6214"
   ]
  },
  {
   "cell_type": "code",
   "execution_count": 3,
   "id": "39fd842a",
   "metadata": {},
   "outputs": [
    {
     "name": "stdout",
     "output_type": "stream",
     "text": [
      "Enter your speed in Kilometer; 181\n"
     ]
    }
   ],
   "source": [
    "# Have program prompt user for km, new variable km\n",
    "Kilometers = float(input('Enter your speed in Kilometer; '))"
   ]
  },
  {
   "cell_type": "code",
   "execution_count": 4,
   "id": "8f0a06ec",
   "metadata": {},
   "outputs": [],
   "source": [
    "# Create main function, add prompt for statement\n",
    "def main():\n",
    "    Kilometers = float(input('Enter your speed in Kilometer; '))"
   ]
  },
  {
   "cell_type": "code",
   "execution_count": 5,
   "id": "fd78dce7",
   "metadata": {},
   "outputs": [],
   "source": [
    "# Create secondary function for the equation\n",
    "def kilometer_converter():\n",
    "    miles = kilometers * 0.6214"
   ]
  },
  {
   "cell_type": "code",
   "execution_count": 6,
   "id": "722e16c7",
   "metadata": {},
   "outputs": [],
   "source": [
    "# Add code together\n",
    "def main():\n",
    "    Kilometers = float(input('Enter your speed in Kilometer; '))\n",
    "def kilometer_converter():\n",
    "    miles = kilometers * 0.6214"
   ]
  },
  {
   "cell_type": "code",
   "execution_count": 7,
   "id": "f8d6db60",
   "metadata": {},
   "outputs": [
    {
     "ename": "SyntaxError",
     "evalue": "unterminated string literal (detected at line 6) (347148612.py, line 6)",
     "output_type": "error",
     "traceback": [
      "\u001b[0;36m  Cell \u001b[0;32mIn[7], line 6\u001b[0;36m\u001b[0m\n\u001b[0;31m    print(f'A speed of {kilometers} kilometers an hour is equal to traveling, {miles} miles an hour.)\u001b[0m\n\u001b[0m          ^\u001b[0m\n\u001b[0;31mSyntaxError\u001b[0m\u001b[0;31m:\u001b[0m unterminated string literal (detected at line 6)\n"
     ]
    }
   ],
   "source": [
    "# Add print statement to display code\n",
    "def main():\n",
    "    Kilometers = float(input('Enter your speed in Kilometer; '))\n",
    "def kilometer_converter():\n",
    "    miles = kilometers * 0.6214\n",
    "    print(f'A speed of {kilometers} kilometers an hour is equal to traveling, {miles} miles an hour.)"
   ]
  },
  {
   "cell_type": "code",
   "execution_count": 9,
   "id": "20d3ffd9",
   "metadata": {},
   "outputs": [
    {
     "name": "stdout",
     "output_type": "stream",
     "text": [
      "Enter your speed in Kilometer; 181\n"
     ]
    },
    {
     "ename": "NameError",
     "evalue": "name 'kilometers' is not defined",
     "output_type": "error",
     "traceback": [
      "\u001b[0;31m---------------------------------------------------------------------------\u001b[0m",
      "\u001b[0;31mNameError\u001b[0m                                 Traceback (most recent call last)",
      "Cell \u001b[0;32mIn[9], line 8\u001b[0m\n\u001b[1;32m      6\u001b[0m     miles \u001b[38;5;241m=\u001b[39m kilometers \u001b[38;5;241m*\u001b[39m \u001b[38;5;241m0.6214\u001b[39m\n\u001b[1;32m      7\u001b[0m     \u001b[38;5;28mprint\u001b[39m(\u001b[38;5;124mf\u001b[39m\u001b[38;5;124m'\u001b[39m\u001b[38;5;124mA speed of \u001b[39m\u001b[38;5;132;01m{\u001b[39;00mkilometers\u001b[38;5;132;01m}\u001b[39;00m\u001b[38;5;124m kilometers an hour is equal to traveling, \u001b[39m\u001b[38;5;132;01m{\u001b[39;00mmiles\u001b[38;5;132;01m}\u001b[39;00m\u001b[38;5;124m miles an hour.\u001b[39m\u001b[38;5;124m'\u001b[39m)\n\u001b[0;32m----> 8\u001b[0m main()\n",
      "Cell \u001b[0;32mIn[9], line 4\u001b[0m, in \u001b[0;36mmain\u001b[0;34m()\u001b[0m\n\u001b[1;32m      2\u001b[0m \u001b[38;5;28;01mdef\u001b[39;00m \u001b[38;5;21mmain\u001b[39m():\n\u001b[1;32m      3\u001b[0m     Kilometers \u001b[38;5;241m=\u001b[39m \u001b[38;5;28mfloat\u001b[39m(\u001b[38;5;28minput\u001b[39m(\u001b[38;5;124m'\u001b[39m\u001b[38;5;124mEnter your speed in Kilometer; \u001b[39m\u001b[38;5;124m'\u001b[39m))\n\u001b[0;32m----> 4\u001b[0m     kilometer_converter(kilometers)\n",
      "\u001b[0;31mNameError\u001b[0m: name 'kilometers' is not defined"
     ]
    }
   ],
   "source": [
    "# Add kilometer_converter function to main function and call main function, add ' to the end of f'\n",
    "def main():\n",
    "    Kilometers = float(input('Enter your speed in Kilometer; '))\n",
    "    kilometer_converter(kilometers)\n",
    "def kilometer_converter():\n",
    "    miles = kilometers * 0.6214\n",
    "    print(f'A speed of {kilometers} kilometers an hour is equal to traveling, {miles} miles an hour.')\n",
    "main()"
   ]
  },
  {
   "cell_type": "markdown",
   "id": "4eba2a0b",
   "metadata": {},
   "source": [
    "Kilometers isnt defined, Im going to delete from line 4 within parentheses, and rerun"
   ]
  },
  {
   "cell_type": "code",
   "execution_count": 10,
   "id": "5f7692a3",
   "metadata": {},
   "outputs": [
    {
     "name": "stdout",
     "output_type": "stream",
     "text": [
      "Enter your speed in Kilometer; 187\n"
     ]
    },
    {
     "ename": "NameError",
     "evalue": "name 'kilometers' is not defined",
     "output_type": "error",
     "traceback": [
      "\u001b[0;31m---------------------------------------------------------------------------\u001b[0m",
      "\u001b[0;31mNameError\u001b[0m                                 Traceback (most recent call last)",
      "Cell \u001b[0;32mIn[10], line 7\u001b[0m\n\u001b[1;32m      5\u001b[0m     miles \u001b[38;5;241m=\u001b[39m kilometers \u001b[38;5;241m*\u001b[39m \u001b[38;5;241m0.6214\u001b[39m\n\u001b[1;32m      6\u001b[0m     \u001b[38;5;28mprint\u001b[39m(\u001b[38;5;124mf\u001b[39m\u001b[38;5;124m'\u001b[39m\u001b[38;5;124mA speed of \u001b[39m\u001b[38;5;132;01m{\u001b[39;00mkilometers\u001b[38;5;132;01m}\u001b[39;00m\u001b[38;5;124m kilometers an hour is equal to traveling, \u001b[39m\u001b[38;5;132;01m{\u001b[39;00mmiles\u001b[38;5;132;01m}\u001b[39;00m\u001b[38;5;124m miles an hour.\u001b[39m\u001b[38;5;124m'\u001b[39m)\n\u001b[0;32m----> 7\u001b[0m main()\n",
      "Cell \u001b[0;32mIn[10], line 3\u001b[0m, in \u001b[0;36mmain\u001b[0;34m()\u001b[0m\n\u001b[1;32m      1\u001b[0m \u001b[38;5;28;01mdef\u001b[39;00m \u001b[38;5;21mmain\u001b[39m():\n\u001b[1;32m      2\u001b[0m     Kilometers \u001b[38;5;241m=\u001b[39m \u001b[38;5;28mfloat\u001b[39m(\u001b[38;5;28minput\u001b[39m(\u001b[38;5;124m'\u001b[39m\u001b[38;5;124mEnter your speed in Kilometer; \u001b[39m\u001b[38;5;124m'\u001b[39m))\n\u001b[0;32m----> 3\u001b[0m     kilometer_converter()\n",
      "Cell \u001b[0;32mIn[10], line 5\u001b[0m, in \u001b[0;36mkilometer_converter\u001b[0;34m()\u001b[0m\n\u001b[1;32m      4\u001b[0m \u001b[38;5;28;01mdef\u001b[39;00m \u001b[38;5;21mkilometer_converter\u001b[39m():\n\u001b[0;32m----> 5\u001b[0m     miles \u001b[38;5;241m=\u001b[39m kilometers \u001b[38;5;241m*\u001b[39m \u001b[38;5;241m0.6214\u001b[39m\n\u001b[1;32m      6\u001b[0m     \u001b[38;5;28mprint\u001b[39m(\u001b[38;5;124mf\u001b[39m\u001b[38;5;124m'\u001b[39m\u001b[38;5;124mA speed of \u001b[39m\u001b[38;5;132;01m{\u001b[39;00mkilometers\u001b[38;5;132;01m}\u001b[39;00m\u001b[38;5;124m kilometers an hour is equal to traveling, \u001b[39m\u001b[38;5;132;01m{\u001b[39;00mmiles\u001b[38;5;132;01m}\u001b[39;00m\u001b[38;5;124m miles an hour.\u001b[39m\u001b[38;5;124m'\u001b[39m)\n",
      "\u001b[0;31mNameError\u001b[0m: name 'kilometers' is not defined"
     ]
    }
   ],
   "source": [
    "# Deleted kilometer out of line 4\n",
    "def main():\n",
    "    Kilometers = float(input('Enter your speed in Kilometer; '))\n",
    "    kilometer_converter()\n",
    "def kilometer_converter():\n",
    "    miles = kilometers * 0.6214\n",
    "    print(f'A speed of {kilometers} kilometers an hour is equal to traveling, {miles} miles an hour.')\n",
    "main()"
   ]
  },
  {
   "cell_type": "markdown",
   "id": "bb5c924b",
   "metadata": {},
   "source": [
    "Going to review the textbook... and video note 5-4 to help me troubleshoot"
   ]
  },
  {
   "cell_type": "markdown",
   "id": "0766a73f",
   "metadata": {},
   "source": [
    "I believe I need a Global Variable, according to the textbook defnition (When a variable is created by an assignment statement that is written outside all the functions in a program file, the variable is global) I need my kilometer variable outside of the funtion."
   ]
  },
  {
   "cell_type": "code",
   "execution_count": 12,
   "id": "672fb54b",
   "metadata": {},
   "outputs": [
    {
     "name": "stdout",
     "output_type": "stream",
     "text": [
      "Enter your speed in Kilometer: 187\n"
     ]
    },
    {
     "ename": "NameError",
     "evalue": "name 'kilometers' is not defined",
     "output_type": "error",
     "traceback": [
      "\u001b[0;31m---------------------------------------------------------------------------\u001b[0m",
      "\u001b[0;31mNameError\u001b[0m                                 Traceback (most recent call last)",
      "Cell \u001b[0;32mIn[12], line 8\u001b[0m\n\u001b[1;32m      6\u001b[0m     miles \u001b[38;5;241m=\u001b[39m kilometers \u001b[38;5;241m*\u001b[39m \u001b[38;5;241m0.6214\u001b[39m\n\u001b[1;32m      7\u001b[0m     \u001b[38;5;28mprint\u001b[39m(\u001b[38;5;124mf\u001b[39m\u001b[38;5;124m'\u001b[39m\u001b[38;5;124mA speed of \u001b[39m\u001b[38;5;132;01m{\u001b[39;00mkilometers\u001b[38;5;132;01m}\u001b[39;00m\u001b[38;5;124m kilometers an hour is equal to traveling, \u001b[39m\u001b[38;5;132;01m{\u001b[39;00mmiles\u001b[38;5;132;01m}\u001b[39;00m\u001b[38;5;124m miles an hour.\u001b[39m\u001b[38;5;124m'\u001b[39m)\n\u001b[0;32m----> 8\u001b[0m main()\n",
      "Cell \u001b[0;32mIn[12], line 4\u001b[0m, in \u001b[0;36mmain\u001b[0;34m()\u001b[0m\n\u001b[1;32m      3\u001b[0m \u001b[38;5;28;01mdef\u001b[39;00m \u001b[38;5;21mmain\u001b[39m():\n\u001b[0;32m----> 4\u001b[0m     kilometer_converter(kilometers)\n",
      "\u001b[0;31mNameError\u001b[0m: name 'kilometers' is not defined"
     ]
    }
   ],
   "source": [
    "# Made kilometers variable global\n",
    "Kilometers = float(input('Enter your speed in Kilometer: '))\n",
    "def main():\n",
    "    kilometer_converter(kilometers)\n",
    "def kilometer_converter(kilometers):\n",
    "    miles = kilometers * 0.6214\n",
    "    print(f'A speed of {kilometers} kilometers an hour is equal to traveling, {miles} miles an hour.')\n",
    "main()"
   ]
  },
  {
   "cell_type": "code",
   "execution_count": 13,
   "id": "ce7a63a1",
   "metadata": {},
   "outputs": [
    {
     "name": "stdout",
     "output_type": "stream",
     "text": [
      "Enter your speed in Kilometer: 187\n"
     ]
    },
    {
     "ename": "NameError",
     "evalue": "name 'kilometers' is not defined",
     "output_type": "error",
     "traceback": [
      "\u001b[0;31m---------------------------------------------------------------------------\u001b[0m",
      "\u001b[0;31mNameError\u001b[0m                                 Traceback (most recent call last)",
      "Cell \u001b[0;32mIn[13], line 2\u001b[0m\n\u001b[1;32m      1\u001b[0m Kilometers \u001b[38;5;241m=\u001b[39m \u001b[38;5;28mfloat\u001b[39m(\u001b[38;5;28minput\u001b[39m(\u001b[38;5;124m'\u001b[39m\u001b[38;5;124mEnter your speed in Kilometer: \u001b[39m\u001b[38;5;124m'\u001b[39m))\n\u001b[0;32m----> 2\u001b[0m miles \u001b[38;5;241m=\u001b[39m kilometers \u001b[38;5;241m*\u001b[39m \u001b[38;5;241m0.6214\u001b[39m\n\u001b[1;32m      3\u001b[0m \u001b[38;5;28mprint\u001b[39m(\u001b[38;5;124mf\u001b[39m\u001b[38;5;124m'\u001b[39m\u001b[38;5;124mA speed of \u001b[39m\u001b[38;5;132;01m{\u001b[39;00mkilometers\u001b[38;5;132;01m}\u001b[39;00m\u001b[38;5;124m kilometers an hour is equal to traveling, \u001b[39m\u001b[38;5;132;01m{\u001b[39;00mmiles\u001b[38;5;132;01m}\u001b[39;00m\u001b[38;5;124m miles an hour.\u001b[39m\u001b[38;5;124m'\u001b[39m)\n",
      "\u001b[0;31mNameError\u001b[0m: name 'kilometers' is not defined"
     ]
    }
   ],
   "source": [
    "Kilometers = float(input('Enter your speed in Kilometer: '))\n",
    "miles = kilometers * 0.6214\n",
    "print(f'A speed of {kilometers} kilometers an hour is equal to traveling, {miles} miles an hour.')"
   ]
  },
  {
   "cell_type": "code",
   "execution_count": 16,
   "id": "b1f243a6",
   "metadata": {},
   "outputs": [
    {
     "name": "stdout",
     "output_type": "stream",
     "text": [
      "Enter your speed in Kilometer; 187\n"
     ]
    },
    {
     "ename": "NameError",
     "evalue": "name 'kilometers' is not defined",
     "output_type": "error",
     "traceback": [
      "\u001b[0;31m---------------------------------------------------------------------------\u001b[0m",
      "\u001b[0;31mNameError\u001b[0m                                 Traceback (most recent call last)",
      "Cell \u001b[0;32mIn[16], line 7\u001b[0m\n\u001b[1;32m      5\u001b[0m     miles \u001b[38;5;241m=\u001b[39m kilometers \u001b[38;5;241m*\u001b[39m \u001b[38;5;241m0.6214\u001b[39m\n\u001b[1;32m      6\u001b[0m     \u001b[38;5;28mprint\u001b[39m(\u001b[38;5;124m'\u001b[39m\u001b[38;5;124mA speed of\u001b[39m\u001b[38;5;124m'\u001b[39m, kilometers, \u001b[38;5;124m'\u001b[39m\u001b[38;5;124mkilometers an hour is equal to traveling\u001b[39m\u001b[38;5;124m'\u001b[39m, miles, \u001b[38;5;124m'\u001b[39m\u001b[38;5;124mmiles an hour.\u001b[39m\u001b[38;5;124m'\u001b[39m)\n\u001b[0;32m----> 7\u001b[0m main()\n",
      "Cell \u001b[0;32mIn[16], line 3\u001b[0m, in \u001b[0;36mmain\u001b[0;34m()\u001b[0m\n\u001b[1;32m      1\u001b[0m \u001b[38;5;28;01mdef\u001b[39;00m \u001b[38;5;21mmain\u001b[39m():\n\u001b[1;32m      2\u001b[0m     Kilometers \u001b[38;5;241m=\u001b[39m \u001b[38;5;28mfloat\u001b[39m(\u001b[38;5;28minput\u001b[39m(\u001b[38;5;124m'\u001b[39m\u001b[38;5;124mEnter your speed in Kilometer; \u001b[39m\u001b[38;5;124m'\u001b[39m))\n\u001b[0;32m----> 3\u001b[0m     kilometer_converter()\n",
      "Cell \u001b[0;32mIn[16], line 5\u001b[0m, in \u001b[0;36mkilometer_converter\u001b[0;34m()\u001b[0m\n\u001b[1;32m      4\u001b[0m \u001b[38;5;28;01mdef\u001b[39;00m \u001b[38;5;21mkilometer_converter\u001b[39m():\n\u001b[0;32m----> 5\u001b[0m     miles \u001b[38;5;241m=\u001b[39m kilometers \u001b[38;5;241m*\u001b[39m \u001b[38;5;241m0.6214\u001b[39m\n\u001b[1;32m      6\u001b[0m     \u001b[38;5;28mprint\u001b[39m(\u001b[38;5;124m'\u001b[39m\u001b[38;5;124mA speed of\u001b[39m\u001b[38;5;124m'\u001b[39m, kilometers, \u001b[38;5;124m'\u001b[39m\u001b[38;5;124mkilometers an hour is equal to traveling\u001b[39m\u001b[38;5;124m'\u001b[39m, miles, \u001b[38;5;124m'\u001b[39m\u001b[38;5;124mmiles an hour.\u001b[39m\u001b[38;5;124m'\u001b[39m)\n",
      "\u001b[0;31mNameError\u001b[0m: name 'kilometers' is not defined"
     ]
    }
   ],
   "source": [
    "def main():\n",
    "    Kilometers = float(input('Enter your speed in Kilometer; '))\n",
    "    kilometer_converter()\n",
    "def kilometer_converter():\n",
    "    miles = kilometers * 0.6214\n",
    "    print('A speed of', kilometers, 'kilometers an hour is equal to traveling', miles, 'miles an hour.')\n",
    "main()"
   ]
  },
  {
   "cell_type": "code",
   "execution_count": 19,
   "id": "cf89cba0",
   "metadata": {},
   "outputs": [
    {
     "name": "stdout",
     "output_type": "stream",
     "text": [
      "Enter your speed in Kilometer: 187\n",
      "A speed of 187.0 kilometers an hour is equal to traveling 116.20179999999999 miles an hour.\n"
     ]
    }
   ],
   "source": [
    "kilometers = float(input('Enter your speed in Kilometer: '))\n",
    "miles = kilometers * 0.6214\n",
    "print('A speed of', kilometers, 'kilometers an hour is equal to traveling', miles, 'miles an hour.')"
   ]
  },
  {
   "cell_type": "markdown",
   "id": "e751a7e7",
   "metadata": {},
   "source": [
    "So I went back to the basic's to try and figure this out, turns out I had a K in kilometers captialized this whole time. Maybe thats why mt code isnt working"
   ]
  },
  {
   "cell_type": "code",
   "execution_count": 3,
   "id": "ad823267",
   "metadata": {},
   "outputs": [
    {
     "name": "stdout",
     "output_type": "stream",
     "text": [
      "Enter your speed in Kilometers: 187\n",
      "A speed of 187.0 kilometers an hour is equal to traveling, 116.20179999999999 miles an hour.\n"
     ]
    }
   ],
   "source": [
    "# Made the K in kilometers lowercased \n",
    "def main():\n",
    "    kilometers = float(input('Enter your speed in Kilometers: '))\n",
    "    kilometer_converter(kilometers)\n",
    "def kilometer_converter(kilometers):\n",
    "    miles = kilometers * 0.6214\n",
    "    print(f'A speed of {kilometers} kilometers an hour is equal to traveling, {miles} miles an hour.')\n",
    "main()"
   ]
  },
  {
   "cell_type": "markdown",
   "id": "e0aa81ec",
   "metadata": {},
   "source": [
    "Its very frustrating that I spend hours trying to figure this code out just to realize that the code was good, I just had to make 1 letter lowercase. "
   ]
  },
  {
   "cell_type": "code",
   "execution_count": null,
   "id": "ddbc8cbd",
   "metadata": {},
   "outputs": [],
   "source": []
  }
 ],
 "metadata": {
  "kernelspec": {
   "display_name": "Python 3 (ipykernel)",
   "language": "python",
   "name": "python3"
  },
  "language_info": {
   "codemirror_mode": {
    "name": "ipython",
    "version": 3
   },
   "file_extension": ".py",
   "mimetype": "text/x-python",
   "name": "python",
   "nbconvert_exporter": "python",
   "pygments_lexer": "ipython3",
   "version": "3.11.4"
  }
 },
 "nbformat": 4,
 "nbformat_minor": 5
}
