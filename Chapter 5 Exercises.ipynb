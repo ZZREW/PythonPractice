{
 "cells": [
  {
   "cell_type": "markdown",
   "id": "854303b4",
   "metadata": {},
   "source": [
    "# Chapter 5 Exercises"
   ]
  },
  {
   "cell_type": "markdown",
   "id": "e67bd967",
   "metadata": {},
   "source": [
    "### Algorithm Workbench"
   ]
  },
  {
   "cell_type": "markdown",
   "id": "d1bcb464",
   "metadata": {},
   "source": [
    "#### Question 1\n",
    "\n",
    "Write a function named times_ten. The function should accept an argument and display the product of its argument multiplied times 10."
   ]
  },
  {
   "cell_type": "code",
   "execution_count": null,
   "id": "ce0b874b",
   "metadata": {},
   "outputs": [],
   "source": [
    "# Write def function to start\n",
    "def times_ten():"
   ]
  },
  {
   "cell_type": "code",
   "execution_count": 2,
   "id": "ff7ad6ed",
   "metadata": {},
   "outputs": [],
   "source": [
    "# Write arguement for function\n",
    "def times_ten():\n",
    "    packets_of_flower = int(input('How many packets of flower do you have? '))"
   ]
  },
  {
   "cell_type": "markdown",
   "id": "860d852a",
   "metadata": {},
   "source": [
    "Created a variable for my argument statement i'm creating, variable name is packets of flower, the program will ask the user how many packets of flower they have. "
   ]
  },
  {
   "cell_type": "code",
   "execution_count": 3,
   "id": "1e2234a9",
   "metadata": {},
   "outputs": [
    {
     "ename": "SyntaxError",
     "evalue": "cannot assign to expression here. Maybe you meant '==' instead of '='? (1259613776.py, line 4)",
     "output_type": "error",
     "traceback": [
      "\u001b[0;36m  Cell \u001b[0;32mIn[3], line 4\u001b[0;36m\u001b[0m\n\u001b[0;31m    packets_of_flower * 10 = cakes\u001b[0m\n\u001b[0m    ^\u001b[0m\n\u001b[0;31mSyntaxError\u001b[0m\u001b[0;31m:\u001b[0m cannot assign to expression here. Maybe you meant '==' instead of '='?\n"
     ]
    }
   ],
   "source": [
    "# Complete writing arguement for fuction\n",
    "def times_ten():\n",
    "    packets_of_flower = int(input('How many packets of flower do you have? '))\n",
    "    packets_of_flower * 10 = cakes"
   ]
  },
  {
   "cell_type": "code",
   "execution_count": 4,
   "id": "0408da14",
   "metadata": {},
   "outputs": [],
   "source": [
    "# Fix code line 4 \n",
    "def times_ten():\n",
    "    packets_of_flower = int(input('How many packets of flower do you have? '))\n",
    "    packets_of_flower * 10 == cakes"
   ]
  },
  {
   "cell_type": "markdown",
   "id": "c92b945d",
   "metadata": {},
   "source": [
    "Made a equation to display the product of a variables argument multipled times 10"
   ]
  },
  {
   "cell_type": "code",
   "execution_count": 5,
   "id": "290a93e1",
   "metadata": {},
   "outputs": [],
   "source": [
    "# Add print statement\n",
    "def times_ten():\n",
    "    packets_of_flower = int(input('How many packets of flower do you have? '))\n",
    "    packets_of_flower * 10 == cakes\n",
    "    print(f'You can bake {cakes} cakes.')"
   ]
  },
  {
   "cell_type": "code",
   "execution_count": 6,
   "id": "8b5816d0",
   "metadata": {},
   "outputs": [
    {
     "name": "stdout",
     "output_type": "stream",
     "text": [
      "How many packets of flower do you have? 3\n"
     ]
    },
    {
     "ename": "NameError",
     "evalue": "name 'cakes' is not defined",
     "output_type": "error",
     "traceback": [
      "\u001b[0;31m---------------------------------------------------------------------------\u001b[0m",
      "\u001b[0;31mNameError\u001b[0m                                 Traceback (most recent call last)",
      "Cell \u001b[0;32mIn[6], line 6\u001b[0m\n\u001b[1;32m      4\u001b[0m     packets_of_flower \u001b[38;5;241m*\u001b[39m \u001b[38;5;241m10\u001b[39m \u001b[38;5;241m==\u001b[39m cakes\n\u001b[1;32m      5\u001b[0m     \u001b[38;5;28mprint\u001b[39m(\u001b[38;5;124mf\u001b[39m\u001b[38;5;124m'\u001b[39m\u001b[38;5;124mYou can bake \u001b[39m\u001b[38;5;132;01m{\u001b[39;00mcakes\u001b[38;5;132;01m}\u001b[39;00m\u001b[38;5;124m cakes.\u001b[39m\u001b[38;5;124m'\u001b[39m)\n\u001b[0;32m----> 6\u001b[0m times_ten()\n",
      "Cell \u001b[0;32mIn[6], line 4\u001b[0m, in \u001b[0;36mtimes_ten\u001b[0;34m()\u001b[0m\n\u001b[1;32m      2\u001b[0m \u001b[38;5;28;01mdef\u001b[39;00m \u001b[38;5;21mtimes_ten\u001b[39m():\n\u001b[1;32m      3\u001b[0m     packets_of_flower \u001b[38;5;241m=\u001b[39m \u001b[38;5;28mint\u001b[39m(\u001b[38;5;28minput\u001b[39m(\u001b[38;5;124m'\u001b[39m\u001b[38;5;124mHow many packets of flower do you have? \u001b[39m\u001b[38;5;124m'\u001b[39m))\n\u001b[0;32m----> 4\u001b[0m     packets_of_flower \u001b[38;5;241m*\u001b[39m \u001b[38;5;241m10\u001b[39m \u001b[38;5;241m==\u001b[39m cakes\n\u001b[1;32m      5\u001b[0m     \u001b[38;5;28mprint\u001b[39m(\u001b[38;5;124mf\u001b[39m\u001b[38;5;124m'\u001b[39m\u001b[38;5;124mYou can bake \u001b[39m\u001b[38;5;132;01m{\u001b[39;00mcakes\u001b[38;5;132;01m}\u001b[39;00m\u001b[38;5;124m cakes.\u001b[39m\u001b[38;5;124m'\u001b[39m)\n",
      "\u001b[0;31mNameError\u001b[0m: name 'cakes' is not defined"
     ]
    }
   ],
   "source": [
    "# Call funtion now\n",
    "def times_ten():\n",
    "    packets_of_flower = int(input('How many packets of flower do you have? '))\n",
    "    packets_of_flower * 10 == cakes\n",
    "    print(f'You can bake {cakes} cakes.')\n",
    "times_ten()"
   ]
  },
  {
   "cell_type": "code",
   "execution_count": 7,
   "id": "d1da0d83",
   "metadata": {},
   "outputs": [
    {
     "name": "stdout",
     "output_type": "stream",
     "text": [
      "How many packets of flower do you have? 3\n",
      "You can bake 30 cakes.\n"
     ]
    }
   ],
   "source": [
    "# Change == to =, and put cakes first\n",
    "def times_ten():\n",
    "    packets_of_flower = int(input('How many packets of flower do you have? '))\n",
    "    cakes = packets_of_flower * 10 \n",
    "    print(f'You can bake {cakes} cakes.')\n",
    "times_ten()"
   ]
  },
  {
   "cell_type": "markdown",
   "id": "103cf2dc",
   "metadata": {},
   "source": [
    "#### Question 2\n",
    "Examine the following function header, then write a statement that calls the function, passing 12 as an argument. \n",
    "\n",
    "def show_value(quantity):"
   ]
  },
  {
   "cell_type": "code",
   "execution_count": null,
   "id": "8a5b3109",
   "metadata": {},
   "outputs": [],
   "source": [
    "# Copy down fucntion\n",
    "def show_value(quantity):"
   ]
  },
  {
   "cell_type": "code",
   "execution_count": 1,
   "id": "0f29a9e0",
   "metadata": {},
   "outputs": [],
   "source": [
    "# Write print statement in fuction\n",
    "def show_value(quantity):\n",
    "    print('Value is', quantity)"
   ]
  },
  {
   "cell_type": "code",
   "execution_count": 2,
   "id": "456a3356",
   "metadata": {},
   "outputs": [
    {
     "name": "stdout",
     "output_type": "stream",
     "text": [
      "Value is 12\n"
     ]
    }
   ],
   "source": [
    "# Call statement, and incorporate 12 for parameter\n",
    "def show_value(quantity):\n",
    "    print('Value is', quantity)\n",
    "show_value(12)"
   ]
  },
  {
   "cell_type": "markdown",
   "id": "76dc36b7",
   "metadata": {},
   "source": [
    "Watched video footnote 5-2 within our textbook to help me under this problem. It was quite simple, that is if ive done it correctly. I simply added a print statement to the given function. I wanted it to display 12 as the question stated, so I have the program to print; Value is 12. So when I call the function, within the parameters ill put 12."
   ]
  },
  {
   "cell_type": "markdown",
   "id": "67855e39",
   "metadata": {},
   "source": [
    "### Programming Exercises "
   ]
  },
  {
   "cell_type": "markdown",
   "id": "52a6f456",
   "metadata": {},
   "source": [
    "#### Question 1\n",
    "\n",
    "Kilometer Converter\n",
    "\n",
    "Write a program that asks the user to enter a distance in kilometers, then uses a function to convert that distance to miles. The conversion formula is as follows:\n",
    "\n",
    "miles = kilometers * 0.6214"
   ]
  },
  {
   "cell_type": "code",
   "execution_count": 3,
   "id": "d7877e6e",
   "metadata": {},
   "outputs": [
    {
     "name": "stdout",
     "output_type": "stream",
     "text": [
      "Enter your speed in Kilometer; 181\n"
     ]
    }
   ],
   "source": [
    "# Have program prompt user for km, new variable km\n",
    "Kilometers = float(input('Enter your speed in Kilometer; '))"
   ]
  },
  {
   "cell_type": "code",
   "execution_count": 4,
   "id": "9a465b0a",
   "metadata": {},
   "outputs": [],
   "source": [
    "# Create main function, add prompt for statement\n",
    "def main():\n",
    "    Kilometers = float(input('Enter your speed in Kilometer; '))"
   ]
  },
  {
   "cell_type": "code",
   "execution_count": 5,
   "id": "7372d71e",
   "metadata": {},
   "outputs": [],
   "source": [
    "# Create secondary function for the equation\n",
    "def kilometer_converter():\n",
    "    miles = kilometers * 0.6214"
   ]
  },
  {
   "cell_type": "code",
   "execution_count": 6,
   "id": "08c80698",
   "metadata": {},
   "outputs": [],
   "source": [
    "# Add code together\n",
    "def main():\n",
    "    Kilometers = float(input('Enter your speed in Kilometer; '))\n",
    "def kilometer_converter():\n",
    "    miles = kilometers * 0.6214"
   ]
  },
  {
   "cell_type": "code",
   "execution_count": 7,
   "id": "4bd700da",
   "metadata": {},
   "outputs": [
    {
     "ename": "SyntaxError",
     "evalue": "unterminated string literal (detected at line 6) (347148612.py, line 6)",
     "output_type": "error",
     "traceback": [
      "\u001b[0;36m  Cell \u001b[0;32mIn[7], line 6\u001b[0;36m\u001b[0m\n\u001b[0;31m    print(f'A speed of {kilometers} kilometers an hour is equal to traveling, {miles} miles an hour.)\u001b[0m\n\u001b[0m          ^\u001b[0m\n\u001b[0;31mSyntaxError\u001b[0m\u001b[0;31m:\u001b[0m unterminated string literal (detected at line 6)\n"
     ]
    }
   ],
   "source": [
    "# Add print statement to display code\n",
    "def main():\n",
    "    Kilometers = float(input('Enter your speed in Kilometer; '))\n",
    "def kilometer_converter():\n",
    "    miles = kilometers * 0.6214\n",
    "    print(f'A speed of {kilometers} kilometers an hour is equal to traveling, {miles} miles an hour.)"
   ]
  },
  {
   "cell_type": "code",
   "execution_count": 9,
   "id": "82728393",
   "metadata": {},
   "outputs": [
    {
     "name": "stdout",
     "output_type": "stream",
     "text": [
      "Enter your speed in Kilometer; 181\n"
     ]
    },
    {
     "ename": "NameError",
     "evalue": "name 'kilometers' is not defined",
     "output_type": "error",
     "traceback": [
      "\u001b[0;31m---------------------------------------------------------------------------\u001b[0m",
      "\u001b[0;31mNameError\u001b[0m                                 Traceback (most recent call last)",
      "Cell \u001b[0;32mIn[9], line 8\u001b[0m\n\u001b[1;32m      6\u001b[0m     miles \u001b[38;5;241m=\u001b[39m kilometers \u001b[38;5;241m*\u001b[39m \u001b[38;5;241m0.6214\u001b[39m\n\u001b[1;32m      7\u001b[0m     \u001b[38;5;28mprint\u001b[39m(\u001b[38;5;124mf\u001b[39m\u001b[38;5;124m'\u001b[39m\u001b[38;5;124mA speed of \u001b[39m\u001b[38;5;132;01m{\u001b[39;00mkilometers\u001b[38;5;132;01m}\u001b[39;00m\u001b[38;5;124m kilometers an hour is equal to traveling, \u001b[39m\u001b[38;5;132;01m{\u001b[39;00mmiles\u001b[38;5;132;01m}\u001b[39;00m\u001b[38;5;124m miles an hour.\u001b[39m\u001b[38;5;124m'\u001b[39m)\n\u001b[0;32m----> 8\u001b[0m main()\n",
      "Cell \u001b[0;32mIn[9], line 4\u001b[0m, in \u001b[0;36mmain\u001b[0;34m()\u001b[0m\n\u001b[1;32m      2\u001b[0m \u001b[38;5;28;01mdef\u001b[39;00m \u001b[38;5;21mmain\u001b[39m():\n\u001b[1;32m      3\u001b[0m     Kilometers \u001b[38;5;241m=\u001b[39m \u001b[38;5;28mfloat\u001b[39m(\u001b[38;5;28minput\u001b[39m(\u001b[38;5;124m'\u001b[39m\u001b[38;5;124mEnter your speed in Kilometer; \u001b[39m\u001b[38;5;124m'\u001b[39m))\n\u001b[0;32m----> 4\u001b[0m     kilometer_converter(kilometers)\n",
      "\u001b[0;31mNameError\u001b[0m: name 'kilometers' is not defined"
     ]
    }
   ],
   "source": [
    "# Add kilometer_converter function to main function and call main function, add ' to the end of f'\n",
    "def main():\n",
    "    Kilometers = float(input('Enter your speed in Kilometer; '))\n",
    "    kilometer_converter(kilometers)\n",
    "def kilometer_converter():\n",
    "    miles = kilometers * 0.6214\n",
    "    print(f'A speed of {kilometers} kilometers an hour is equal to traveling, {miles} miles an hour.')\n",
    "main()"
   ]
  },
  {
   "cell_type": "markdown",
   "id": "cbb60d40",
   "metadata": {},
   "source": [
    "Kilometers isnt defined, Im going to delete from line 4 within parentheses, and rerun"
   ]
  },
  {
   "cell_type": "code",
   "execution_count": 10,
   "id": "7dd246d2",
   "metadata": {},
   "outputs": [
    {
     "name": "stdout",
     "output_type": "stream",
     "text": [
      "Enter your speed in Kilometer; 187\n"
     ]
    },
    {
     "ename": "NameError",
     "evalue": "name 'kilometers' is not defined",
     "output_type": "error",
     "traceback": [
      "\u001b[0;31m---------------------------------------------------------------------------\u001b[0m",
      "\u001b[0;31mNameError\u001b[0m                                 Traceback (most recent call last)",
      "Cell \u001b[0;32mIn[10], line 7\u001b[0m\n\u001b[1;32m      5\u001b[0m     miles \u001b[38;5;241m=\u001b[39m kilometers \u001b[38;5;241m*\u001b[39m \u001b[38;5;241m0.6214\u001b[39m\n\u001b[1;32m      6\u001b[0m     \u001b[38;5;28mprint\u001b[39m(\u001b[38;5;124mf\u001b[39m\u001b[38;5;124m'\u001b[39m\u001b[38;5;124mA speed of \u001b[39m\u001b[38;5;132;01m{\u001b[39;00mkilometers\u001b[38;5;132;01m}\u001b[39;00m\u001b[38;5;124m kilometers an hour is equal to traveling, \u001b[39m\u001b[38;5;132;01m{\u001b[39;00mmiles\u001b[38;5;132;01m}\u001b[39;00m\u001b[38;5;124m miles an hour.\u001b[39m\u001b[38;5;124m'\u001b[39m)\n\u001b[0;32m----> 7\u001b[0m main()\n",
      "Cell \u001b[0;32mIn[10], line 3\u001b[0m, in \u001b[0;36mmain\u001b[0;34m()\u001b[0m\n\u001b[1;32m      1\u001b[0m \u001b[38;5;28;01mdef\u001b[39;00m \u001b[38;5;21mmain\u001b[39m():\n\u001b[1;32m      2\u001b[0m     Kilometers \u001b[38;5;241m=\u001b[39m \u001b[38;5;28mfloat\u001b[39m(\u001b[38;5;28minput\u001b[39m(\u001b[38;5;124m'\u001b[39m\u001b[38;5;124mEnter your speed in Kilometer; \u001b[39m\u001b[38;5;124m'\u001b[39m))\n\u001b[0;32m----> 3\u001b[0m     kilometer_converter()\n",
      "Cell \u001b[0;32mIn[10], line 5\u001b[0m, in \u001b[0;36mkilometer_converter\u001b[0;34m()\u001b[0m\n\u001b[1;32m      4\u001b[0m \u001b[38;5;28;01mdef\u001b[39;00m \u001b[38;5;21mkilometer_converter\u001b[39m():\n\u001b[0;32m----> 5\u001b[0m     miles \u001b[38;5;241m=\u001b[39m kilometers \u001b[38;5;241m*\u001b[39m \u001b[38;5;241m0.6214\u001b[39m\n\u001b[1;32m      6\u001b[0m     \u001b[38;5;28mprint\u001b[39m(\u001b[38;5;124mf\u001b[39m\u001b[38;5;124m'\u001b[39m\u001b[38;5;124mA speed of \u001b[39m\u001b[38;5;132;01m{\u001b[39;00mkilometers\u001b[38;5;132;01m}\u001b[39;00m\u001b[38;5;124m kilometers an hour is equal to traveling, \u001b[39m\u001b[38;5;132;01m{\u001b[39;00mmiles\u001b[38;5;132;01m}\u001b[39;00m\u001b[38;5;124m miles an hour.\u001b[39m\u001b[38;5;124m'\u001b[39m)\n",
      "\u001b[0;31mNameError\u001b[0m: name 'kilometers' is not defined"
     ]
    }
   ],
   "source": [
    "# Deleted kilometer out of line 4\n",
    "def main():\n",
    "    Kilometers = float(input('Enter your speed in Kilometer; '))\n",
    "    kilometer_converter()\n",
    "def kilometer_converter():\n",
    "    miles = kilometers * 0.6214\n",
    "    print(f'A speed of {kilometers} kilometers an hour is equal to traveling, {miles} miles an hour.')\n",
    "main()"
   ]
  },
  {
   "cell_type": "markdown",
   "id": "a05579b1",
   "metadata": {},
   "source": [
    "Going to review the textbook... and video note 5-4 to help me troubleshoot"
   ]
  },
  {
   "cell_type": "markdown",
   "id": "392f8ea4",
   "metadata": {},
   "source": [
    "I believe I need a Global Variable, according to the textbook defnition (When a variable is created by an assignment statement that is written outside all the functions in a program file, the variable is global) I need my kilometer variable outside of the funtion."
   ]
  },
  {
   "cell_type": "code",
   "execution_count": 12,
   "id": "b8169dc3",
   "metadata": {},
   "outputs": [
    {
     "name": "stdout",
     "output_type": "stream",
     "text": [
      "Enter your speed in Kilometer: 187\n"
     ]
    },
    {
     "ename": "NameError",
     "evalue": "name 'kilometers' is not defined",
     "output_type": "error",
     "traceback": [
      "\u001b[0;31m---------------------------------------------------------------------------\u001b[0m",
      "\u001b[0;31mNameError\u001b[0m                                 Traceback (most recent call last)",
      "Cell \u001b[0;32mIn[12], line 8\u001b[0m\n\u001b[1;32m      6\u001b[0m     miles \u001b[38;5;241m=\u001b[39m kilometers \u001b[38;5;241m*\u001b[39m \u001b[38;5;241m0.6214\u001b[39m\n\u001b[1;32m      7\u001b[0m     \u001b[38;5;28mprint\u001b[39m(\u001b[38;5;124mf\u001b[39m\u001b[38;5;124m'\u001b[39m\u001b[38;5;124mA speed of \u001b[39m\u001b[38;5;132;01m{\u001b[39;00mkilometers\u001b[38;5;132;01m}\u001b[39;00m\u001b[38;5;124m kilometers an hour is equal to traveling, \u001b[39m\u001b[38;5;132;01m{\u001b[39;00mmiles\u001b[38;5;132;01m}\u001b[39;00m\u001b[38;5;124m miles an hour.\u001b[39m\u001b[38;5;124m'\u001b[39m)\n\u001b[0;32m----> 8\u001b[0m main()\n",
      "Cell \u001b[0;32mIn[12], line 4\u001b[0m, in \u001b[0;36mmain\u001b[0;34m()\u001b[0m\n\u001b[1;32m      3\u001b[0m \u001b[38;5;28;01mdef\u001b[39;00m \u001b[38;5;21mmain\u001b[39m():\n\u001b[0;32m----> 4\u001b[0m     kilometer_converter(kilometers)\n",
      "\u001b[0;31mNameError\u001b[0m: name 'kilometers' is not defined"
     ]
    }
   ],
   "source": [
    "# Made kilometers variable global\n",
    "Kilometers = float(input('Enter your speed in Kilometer: '))\n",
    "def main():\n",
    "    kilometer_converter(kilometers)\n",
    "def kilometer_converter(kilometers):\n",
    "    miles = kilometers * 0.6214\n",
    "    print(f'A speed of {kilometers} kilometers an hour is equal to traveling, {miles} miles an hour.')\n",
    "main()"
   ]
  },
  {
   "cell_type": "code",
   "execution_count": 13,
   "id": "bc8012fb",
   "metadata": {},
   "outputs": [
    {
     "name": "stdout",
     "output_type": "stream",
     "text": [
      "Enter your speed in Kilometer: 187\n"
     ]
    },
    {
     "ename": "NameError",
     "evalue": "name 'kilometers' is not defined",
     "output_type": "error",
     "traceback": [
      "\u001b[0;31m---------------------------------------------------------------------------\u001b[0m",
      "\u001b[0;31mNameError\u001b[0m                                 Traceback (most recent call last)",
      "Cell \u001b[0;32mIn[13], line 2\u001b[0m\n\u001b[1;32m      1\u001b[0m Kilometers \u001b[38;5;241m=\u001b[39m \u001b[38;5;28mfloat\u001b[39m(\u001b[38;5;28minput\u001b[39m(\u001b[38;5;124m'\u001b[39m\u001b[38;5;124mEnter your speed in Kilometer: \u001b[39m\u001b[38;5;124m'\u001b[39m))\n\u001b[0;32m----> 2\u001b[0m miles \u001b[38;5;241m=\u001b[39m kilometers \u001b[38;5;241m*\u001b[39m \u001b[38;5;241m0.6214\u001b[39m\n\u001b[1;32m      3\u001b[0m \u001b[38;5;28mprint\u001b[39m(\u001b[38;5;124mf\u001b[39m\u001b[38;5;124m'\u001b[39m\u001b[38;5;124mA speed of \u001b[39m\u001b[38;5;132;01m{\u001b[39;00mkilometers\u001b[38;5;132;01m}\u001b[39;00m\u001b[38;5;124m kilometers an hour is equal to traveling, \u001b[39m\u001b[38;5;132;01m{\u001b[39;00mmiles\u001b[38;5;132;01m}\u001b[39;00m\u001b[38;5;124m miles an hour.\u001b[39m\u001b[38;5;124m'\u001b[39m)\n",
      "\u001b[0;31mNameError\u001b[0m: name 'kilometers' is not defined"
     ]
    }
   ],
   "source": [
    "Kilometers = float(input('Enter your speed in Kilometer: '))\n",
    "miles = kilometers * 0.6214\n",
    "print(f'A speed of {kilometers} kilometers an hour is equal to traveling, {miles} miles an hour.')"
   ]
  },
  {
   "cell_type": "code",
   "execution_count": 16,
   "id": "95c10b54",
   "metadata": {},
   "outputs": [
    {
     "name": "stdout",
     "output_type": "stream",
     "text": [
      "Enter your speed in Kilometer; 187\n"
     ]
    },
    {
     "ename": "NameError",
     "evalue": "name 'kilometers' is not defined",
     "output_type": "error",
     "traceback": [
      "\u001b[0;31m---------------------------------------------------------------------------\u001b[0m",
      "\u001b[0;31mNameError\u001b[0m                                 Traceback (most recent call last)",
      "Cell \u001b[0;32mIn[16], line 7\u001b[0m\n\u001b[1;32m      5\u001b[0m     miles \u001b[38;5;241m=\u001b[39m kilometers \u001b[38;5;241m*\u001b[39m \u001b[38;5;241m0.6214\u001b[39m\n\u001b[1;32m      6\u001b[0m     \u001b[38;5;28mprint\u001b[39m(\u001b[38;5;124m'\u001b[39m\u001b[38;5;124mA speed of\u001b[39m\u001b[38;5;124m'\u001b[39m, kilometers, \u001b[38;5;124m'\u001b[39m\u001b[38;5;124mkilometers an hour is equal to traveling\u001b[39m\u001b[38;5;124m'\u001b[39m, miles, \u001b[38;5;124m'\u001b[39m\u001b[38;5;124mmiles an hour.\u001b[39m\u001b[38;5;124m'\u001b[39m)\n\u001b[0;32m----> 7\u001b[0m main()\n",
      "Cell \u001b[0;32mIn[16], line 3\u001b[0m, in \u001b[0;36mmain\u001b[0;34m()\u001b[0m\n\u001b[1;32m      1\u001b[0m \u001b[38;5;28;01mdef\u001b[39;00m \u001b[38;5;21mmain\u001b[39m():\n\u001b[1;32m      2\u001b[0m     Kilometers \u001b[38;5;241m=\u001b[39m \u001b[38;5;28mfloat\u001b[39m(\u001b[38;5;28minput\u001b[39m(\u001b[38;5;124m'\u001b[39m\u001b[38;5;124mEnter your speed in Kilometer; \u001b[39m\u001b[38;5;124m'\u001b[39m))\n\u001b[0;32m----> 3\u001b[0m     kilometer_converter()\n",
      "Cell \u001b[0;32mIn[16], line 5\u001b[0m, in \u001b[0;36mkilometer_converter\u001b[0;34m()\u001b[0m\n\u001b[1;32m      4\u001b[0m \u001b[38;5;28;01mdef\u001b[39;00m \u001b[38;5;21mkilometer_converter\u001b[39m():\n\u001b[0;32m----> 5\u001b[0m     miles \u001b[38;5;241m=\u001b[39m kilometers \u001b[38;5;241m*\u001b[39m \u001b[38;5;241m0.6214\u001b[39m\n\u001b[1;32m      6\u001b[0m     \u001b[38;5;28mprint\u001b[39m(\u001b[38;5;124m'\u001b[39m\u001b[38;5;124mA speed of\u001b[39m\u001b[38;5;124m'\u001b[39m, kilometers, \u001b[38;5;124m'\u001b[39m\u001b[38;5;124mkilometers an hour is equal to traveling\u001b[39m\u001b[38;5;124m'\u001b[39m, miles, \u001b[38;5;124m'\u001b[39m\u001b[38;5;124mmiles an hour.\u001b[39m\u001b[38;5;124m'\u001b[39m)\n",
      "\u001b[0;31mNameError\u001b[0m: name 'kilometers' is not defined"
     ]
    }
   ],
   "source": [
    "def main():\n",
    "    Kilometers = float(input('Enter your speed in Kilometer; '))\n",
    "    kilometer_converter()\n",
    "def kilometer_converter():\n",
    "    miles = kilometers * 0.6214\n",
    "    print('A speed of', kilometers, 'kilometers an hour is equal to traveling', miles, 'miles an hour.')\n",
    "main()"
   ]
  },
  {
   "cell_type": "code",
   "execution_count": 19,
   "id": "decf18de",
   "metadata": {},
   "outputs": [
    {
     "name": "stdout",
     "output_type": "stream",
     "text": [
      "Enter your speed in Kilometer: 187\n",
      "A speed of 187.0 kilometers an hour is equal to traveling 116.20179999999999 miles an hour.\n"
     ]
    }
   ],
   "source": [
    "kilometers = float(input('Enter your speed in Kilometer: '))\n",
    "miles = kilometers * 0.6214\n",
    "print('A speed of', kilometers, 'kilometers an hour is equal to traveling', miles, 'miles an hour.')"
   ]
  },
  {
   "cell_type": "markdown",
   "id": "9d550dd4",
   "metadata": {},
   "source": [
    "So I went back to the basic's to try and figure this out, turns out I had a K in kilometers captialized this whole time. Maybe thats why mt code isnt working"
   ]
  },
  {
   "cell_type": "code",
   "execution_count": 3,
   "id": "e817ca32",
   "metadata": {},
   "outputs": [
    {
     "name": "stdout",
     "output_type": "stream",
     "text": [
      "Enter your speed in Kilometers: 187\n",
      "A speed of 187.0 kilometers an hour is equal to traveling, 116.20179999999999 miles an hour.\n"
     ]
    }
   ],
   "source": [
    "# Made the K in kilometers lowercased \n",
    "def main():\n",
    "    kilometers = float(input('Enter your speed in Kilometers: '))\n",
    "    kilometer_converter(kilometers)\n",
    "def kilometer_converter(kilometers):\n",
    "    miles = kilometers * 0.6214\n",
    "    print(f'A speed of {kilometers} kilometers an hour is equal to traveling, {miles} miles an hour.')\n",
    "main()"
   ]
  },
  {
   "cell_type": "markdown",
   "id": "52c5af37",
   "metadata": {},
   "source": [
    "Its very frustrating that I spend hours trying to figure this code out just to realize that the code was good, I just had to make 1 letter lowercase. "
   ]
  },
  {
   "cell_type": "markdown",
   "id": "a03e2ca6",
   "metadata": {},
   "source": [
    "#### Question 16\n",
    "\n",
    "Prime Numbers\n",
    "\n",
    "A prime number is a number that is only evenly divisible by itself and 1. For example, the number 5 is prime because it can only be evenly divided by 1 and 5. The number 6, however, is not prime because it can be divided evenly by 1, 2, 3, and 6.\n",
    "\n",
    "\n",
    "Write a Boolean function named is_prime which takes an integer as an argument and returns true if the argument is a prime number, or false otherwise. Use the function in a program that prompts the user to enter a number then displays a message indicating whether the number is prime."
   ]
  },
  {
   "cell_type": "code",
   "execution_count": 4,
   "id": "b45e802c",
   "metadata": {},
   "outputs": [
    {
     "ename": "SyntaxError",
     "evalue": "incomplete input (3118517664.py, line 2)",
     "output_type": "error",
     "traceback": [
      "\u001b[0;36m  Cell \u001b[0;32mIn[4], line 2\u001b[0;36m\u001b[0m\n\u001b[0;31m    def is_prime():\u001b[0m\n\u001b[0m                   ^\u001b[0m\n\u001b[0;31mSyntaxError\u001b[0m\u001b[0;31m:\u001b[0m incomplete input\n"
     ]
    }
   ],
   "source": [
    "# Create function named is_prime\n",
    "def is_prime():"
   ]
  },
  {
   "cell_type": "code",
   "execution_count": 5,
   "id": "594e12fd",
   "metadata": {},
   "outputs": [
    {
     "name": "stdout",
     "output_type": "stream",
     "text": [
      "Enter in a number: 5\n"
     ]
    },
    {
     "data": {
      "text/plain": [
       "5"
      ]
     },
     "execution_count": 5,
     "metadata": {},
     "output_type": "execute_result"
    }
   ],
   "source": [
    "# Create program that prompts user\n",
    "integer = int(input('Enter in a number: '))"
   ]
  },
  {
   "cell_type": "code",
   "execution_count": 6,
   "id": "4d6fcd7a",
   "metadata": {},
   "outputs": [
    {
     "ename": "SyntaxError",
     "evalue": "incomplete input (1585987971.py, line 3)",
     "output_type": "error",
     "traceback": [
      "\u001b[0;36m  Cell \u001b[0;32mIn[6], line 3\u001b[0;36m\u001b[0m\n\u001b[0;31m    for num in range(0, integer):\u001b[0m\n\u001b[0m                                 ^\u001b[0m\n\u001b[0;31mSyntaxError\u001b[0m\u001b[0;31m:\u001b[0m incomplete input\n"
     ]
    }
   ],
   "source": [
    "# Take integer as an argument \n",
    "def is_prime(integer):\n",
    "    for num in range(1, integer):"
   ]
  },
  {
   "cell_type": "code",
   "execution_count": 7,
   "id": "87d0ce0f",
   "metadata": {},
   "outputs": [
    {
     "ename": "SyntaxError",
     "evalue": "'return' outside function (2954521181.py, line 3)",
     "output_type": "error",
     "traceback": [
      "\u001b[0;36m  Cell \u001b[0;32mIn[7], line 3\u001b[0;36m\u001b[0m\n\u001b[0;31m    return False\u001b[0m\n\u001b[0m    ^\u001b[0m\n\u001b[0;31mSyntaxError\u001b[0m\u001b[0;31m:\u001b[0m 'return' outside function\n"
     ]
    }
   ],
   "source": [
    "# Create if statement to test prime number\n",
    "if integer % num == 0:\n",
    "    return False \n",
    "else:\n",
    "    return True"
   ]
  },
  {
   "cell_type": "code",
   "execution_count": 8,
   "id": "5dddb0d7",
   "metadata": {},
   "outputs": [],
   "source": [
    "# Incorporate together\n",
    "def is_prime(integer):\n",
    "    for num in range(1, integer):\n",
    "        if integer % num == 0:\n",
    "            return False \n",
    "        else:\n",
    "            return True"
   ]
  },
  {
   "cell_type": "code",
   "execution_count": 9,
   "id": "c2fb1ae4",
   "metadata": {},
   "outputs": [
    {
     "data": {
      "text/plain": [
       "False"
      ]
     },
     "execution_count": 9,
     "metadata": {},
     "output_type": "execute_result"
    }
   ],
   "source": [
    "is_prime(5)"
   ]
  },
  {
   "cell_type": "code",
   "execution_count": 10,
   "id": "1d745c0e",
   "metadata": {},
   "outputs": [],
   "source": [
    "# Change num in range to start with 2\n",
    "def is_prime(integer):\n",
    "    for num in range(2, integer):\n",
    "        if integer % num == 0:\n",
    "            return False \n",
    "        else:\n",
    "            return True"
   ]
  },
  {
   "cell_type": "code",
   "execution_count": 11,
   "id": "0b63cec0",
   "metadata": {},
   "outputs": [
    {
     "data": {
      "text/plain": [
       "True"
      ]
     },
     "execution_count": 11,
     "metadata": {},
     "output_type": "execute_result"
    }
   ],
   "source": [
    "is_prime(5)"
   ]
  },
  {
   "cell_type": "code",
   "execution_count": 12,
   "id": "b8ddfa41",
   "metadata": {},
   "outputs": [
    {
     "name": "stdout",
     "output_type": "stream",
     "text": [
      "Enter in a number: 5\n"
     ]
    }
   ],
   "source": [
    "# Use the function is a program\n",
    "def main():\n",
    "    integer = int(input('Enter in a number: '))\n",
    "    is_prime(integer)    \n",
    "def is_prime(integer):\n",
    "    for num in range(2, integer):\n",
    "        if integer % num == 0:\n",
    "            return False \n",
    "        else:\n",
    "            return True\n",
    "main()"
   ]
  },
  {
   "cell_type": "code",
   "execution_count": 13,
   "id": "0ca746a9",
   "metadata": {},
   "outputs": [
    {
     "name": "stdout",
     "output_type": "stream",
     "text": [
      "Enter in a number: 5\n",
      "Number is prime\n"
     ]
    }
   ],
   "source": [
    "# Create for statement to print if 5 is prime\n",
    "def main():\n",
    "    integer = int(input('Enter in a number: '))\n",
    "    if is_prime(integer):\n",
    "        print('Number is prime')\n",
    "    else: \n",
    "        print('Number isnt prime')\n",
    "        \n",
    "def is_prime(integer):\n",
    "    for num in range(2, integer):\n",
    "        if integer % num == 0:\n",
    "            return False \n",
    "        else:\n",
    "            return True\n",
    "main()"
   ]
  },
  {
   "cell_type": "markdown",
   "id": "3e4c5787",
   "metadata": {},
   "source": [
    "#### Question 17"
   ]
  },
  {
   "cell_type": "markdown",
   "id": "263068e6",
   "metadata": {},
   "source": [
    "Prime Number List\n",
    "\n",
    "This exercise assumes that you have already written the is_prime function in Programming Exercise 16. Write another program that displays all of the prime numbers from 1 to 100. The program should have a loop that calls the is_prime function."
   ]
  },
  {
   "cell_type": "code",
   "execution_count": 14,
   "id": "a2e682a6",
   "metadata": {},
   "outputs": [
    {
     "ename": "SyntaxError",
     "evalue": "incomplete input (1008104080.py, line 2)",
     "output_type": "error",
     "traceback": [
      "\u001b[0;36m  Cell \u001b[0;32mIn[14], line 2\u001b[0;36m\u001b[0m\n\u001b[0;31m    for integer in range(1, 101):\u001b[0m\n\u001b[0m                                 ^\u001b[0m\n\u001b[0;31mSyntaxError\u001b[0m\u001b[0;31m:\u001b[0m incomplete input\n"
     ]
    }
   ],
   "source": [
    "# Write loop for numbers 1 - 100\n",
    "for integer in range(1, 101):"
   ]
  },
  {
   "cell_type": "code",
   "execution_count": 15,
   "id": "d493ede2",
   "metadata": {},
   "outputs": [],
   "source": [
    "# Set integer varible == 0\n",
    "integer = 0"
   ]
  },
  {
   "cell_type": "code",
   "execution_count": 20,
   "id": "52d9a68e",
   "metadata": {},
   "outputs": [
    {
     "name": "stdout",
     "output_type": "stream",
     "text": [
      "1\n",
      "2\n",
      "3\n",
      "4\n",
      "5\n",
      "6\n",
      "7\n",
      "8\n",
      "9\n",
      "10\n",
      "11\n",
      "12\n",
      "13\n",
      "14\n",
      "15\n",
      "16\n",
      "17\n",
      "18\n",
      "19\n",
      "20\n",
      "21\n",
      "22\n",
      "23\n",
      "24\n",
      "25\n",
      "26\n",
      "27\n",
      "28\n",
      "29\n",
      "30\n",
      "31\n",
      "32\n",
      "33\n",
      "34\n",
      "35\n",
      "36\n",
      "37\n",
      "38\n",
      "39\n",
      "40\n",
      "41\n",
      "42\n",
      "43\n",
      "44\n",
      "45\n",
      "46\n",
      "47\n",
      "48\n",
      "49\n",
      "50\n",
      "51\n",
      "52\n",
      "53\n",
      "54\n",
      "55\n",
      "56\n",
      "57\n",
      "58\n",
      "59\n",
      "60\n",
      "61\n",
      "62\n",
      "63\n",
      "64\n",
      "65\n",
      "66\n",
      "67\n",
      "68\n",
      "69\n",
      "70\n",
      "71\n",
      "72\n",
      "73\n",
      "74\n",
      "75\n",
      "76\n",
      "77\n",
      "78\n",
      "79\n",
      "80\n",
      "81\n",
      "82\n",
      "83\n",
      "84\n",
      "85\n",
      "86\n",
      "87\n",
      "88\n",
      "89\n",
      "90\n",
      "91\n",
      "92\n",
      "93\n",
      "94\n",
      "95\n",
      "96\n",
      "97\n",
      "98\n",
      "99\n",
      "100\n"
     ]
    }
   ],
   "source": [
    "# Call function \n",
    "integer = 0\n",
    "for integer in range(1, 101):\n",
    "    is_prime(integer)\n",
    "    print(integer)"
   ]
  },
  {
   "cell_type": "code",
   "execution_count": 21,
   "id": "676058b7",
   "metadata": {},
   "outputs": [
    {
     "name": "stdout",
     "output_type": "stream",
     "text": [
      "Number isnt prime\n",
      "Number isnt prime\n",
      "Number is prime\n",
      "Number isnt prime\n",
      "Number is prime\n",
      "Number isnt prime\n",
      "Number is prime\n",
      "Number isnt prime\n",
      "Number is prime\n",
      "Number isnt prime\n",
      "Number is prime\n",
      "Number isnt prime\n",
      "Number is prime\n",
      "Number isnt prime\n",
      "Number is prime\n",
      "Number isnt prime\n",
      "Number is prime\n",
      "Number isnt prime\n",
      "Number is prime\n",
      "Number isnt prime\n",
      "Number is prime\n",
      "Number isnt prime\n",
      "Number is prime\n",
      "Number isnt prime\n",
      "Number is prime\n",
      "Number isnt prime\n",
      "Number is prime\n",
      "Number isnt prime\n",
      "Number is prime\n",
      "Number isnt prime\n",
      "Number is prime\n",
      "Number isnt prime\n",
      "Number is prime\n",
      "Number isnt prime\n",
      "Number is prime\n",
      "Number isnt prime\n",
      "Number is prime\n",
      "Number isnt prime\n",
      "Number is prime\n",
      "Number isnt prime\n",
      "Number is prime\n",
      "Number isnt prime\n",
      "Number is prime\n",
      "Number isnt prime\n",
      "Number is prime\n",
      "Number isnt prime\n",
      "Number is prime\n",
      "Number isnt prime\n",
      "Number is prime\n",
      "Number isnt prime\n",
      "Number is prime\n",
      "Number isnt prime\n",
      "Number is prime\n",
      "Number isnt prime\n",
      "Number is prime\n",
      "Number isnt prime\n",
      "Number is prime\n",
      "Number isnt prime\n",
      "Number is prime\n",
      "Number isnt prime\n",
      "Number is prime\n",
      "Number isnt prime\n",
      "Number is prime\n",
      "Number isnt prime\n",
      "Number is prime\n",
      "Number isnt prime\n",
      "Number is prime\n",
      "Number isnt prime\n",
      "Number is prime\n",
      "Number isnt prime\n",
      "Number is prime\n",
      "Number isnt prime\n",
      "Number is prime\n",
      "Number isnt prime\n",
      "Number is prime\n",
      "Number isnt prime\n",
      "Number is prime\n",
      "Number isnt prime\n",
      "Number is prime\n",
      "Number isnt prime\n",
      "Number is prime\n",
      "Number isnt prime\n",
      "Number is prime\n",
      "Number isnt prime\n",
      "Number is prime\n",
      "Number isnt prime\n",
      "Number is prime\n",
      "Number isnt prime\n",
      "Number is prime\n",
      "Number isnt prime\n",
      "Number is prime\n",
      "Number isnt prime\n",
      "Number is prime\n",
      "Number isnt prime\n",
      "Number is prime\n",
      "Number isnt prime\n",
      "Number is prime\n",
      "Number isnt prime\n",
      "Number is prime\n",
      "Number isnt prime\n"
     ]
    }
   ],
   "source": [
    "# Copy if statement from question 16\n",
    "integer = 0\n",
    "for integer in range(1, 101):\n",
    "    if is_prime(integer):\n",
    "        print('Number is prime')\n",
    "    else: \n",
    "        print('Number isnt prime')"
   ]
  },
  {
   "cell_type": "code",
   "execution_count": 22,
   "id": "febe7b8c",
   "metadata": {},
   "outputs": [
    {
     "name": "stdout",
     "output_type": "stream",
     "text": [
      "1 Number isnt prime\n",
      "2 Number isnt prime\n",
      "3 Number is prime\n",
      "4 Number isnt prime\n",
      "5 Number is prime\n",
      "6 Number isnt prime\n",
      "7 Number is prime\n",
      "8 Number isnt prime\n",
      "9 Number is prime\n",
      "10 Number isnt prime\n",
      "11 Number is prime\n",
      "12 Number isnt prime\n",
      "13 Number is prime\n",
      "14 Number isnt prime\n",
      "15 Number is prime\n",
      "16 Number isnt prime\n",
      "17 Number is prime\n",
      "18 Number isnt prime\n",
      "19 Number is prime\n",
      "20 Number isnt prime\n",
      "21 Number is prime\n",
      "22 Number isnt prime\n",
      "23 Number is prime\n",
      "24 Number isnt prime\n",
      "25 Number is prime\n",
      "26 Number isnt prime\n",
      "27 Number is prime\n",
      "28 Number isnt prime\n",
      "29 Number is prime\n",
      "30 Number isnt prime\n",
      "31 Number is prime\n",
      "32 Number isnt prime\n",
      "33 Number is prime\n",
      "34 Number isnt prime\n",
      "35 Number is prime\n",
      "36 Number isnt prime\n",
      "37 Number is prime\n",
      "38 Number isnt prime\n",
      "39 Number is prime\n",
      "40 Number isnt prime\n",
      "41 Number is prime\n",
      "42 Number isnt prime\n",
      "43 Number is prime\n",
      "44 Number isnt prime\n",
      "45 Number is prime\n",
      "46 Number isnt prime\n",
      "47 Number is prime\n",
      "48 Number isnt prime\n",
      "49 Number is prime\n",
      "50 Number isnt prime\n",
      "51 Number is prime\n",
      "52 Number isnt prime\n",
      "53 Number is prime\n",
      "54 Number isnt prime\n",
      "55 Number is prime\n",
      "56 Number isnt prime\n",
      "57 Number is prime\n",
      "58 Number isnt prime\n",
      "59 Number is prime\n",
      "60 Number isnt prime\n",
      "61 Number is prime\n",
      "62 Number isnt prime\n",
      "63 Number is prime\n",
      "64 Number isnt prime\n",
      "65 Number is prime\n",
      "66 Number isnt prime\n",
      "67 Number is prime\n",
      "68 Number isnt prime\n",
      "69 Number is prime\n",
      "70 Number isnt prime\n",
      "71 Number is prime\n",
      "72 Number isnt prime\n",
      "73 Number is prime\n",
      "74 Number isnt prime\n",
      "75 Number is prime\n",
      "76 Number isnt prime\n",
      "77 Number is prime\n",
      "78 Number isnt prime\n",
      "79 Number is prime\n",
      "80 Number isnt prime\n",
      "81 Number is prime\n",
      "82 Number isnt prime\n",
      "83 Number is prime\n",
      "84 Number isnt prime\n",
      "85 Number is prime\n",
      "86 Number isnt prime\n",
      "87 Number is prime\n",
      "88 Number isnt prime\n",
      "89 Number is prime\n",
      "90 Number isnt prime\n",
      "91 Number is prime\n",
      "92 Number isnt prime\n",
      "93 Number is prime\n",
      "94 Number isnt prime\n",
      "95 Number is prime\n",
      "96 Number isnt prime\n",
      "97 Number is prime\n",
      "98 Number isnt prime\n",
      "99 Number is prime\n",
      "100 Number isnt prime\n"
     ]
    }
   ],
   "source": [
    "# Rewrite to show number then print statement \n",
    "integer = 0\n",
    "for integer in range(1, 101):\n",
    "    if is_prime(integer):\n",
    "        print(integer, 'Number is prime')\n",
    "    else: \n",
    "        print(integer, 'Number isnt prime')"
   ]
  },
  {
   "cell_type": "markdown",
   "id": "3d7885f2",
   "metadata": {},
   "source": [
    "#### Question 4\n",
    "\n",
    "Automobile Costs\n",
    "\n",
    "Write a program that asks the user to enter the monthly costs for the following expenses incurred from operating their automobile: loan payment, insurance, gas, oil, tires, and maintenance. The program should then display the total monthly cost of these expenses, and the total annual cost of these expenses."
   ]
  },
  {
   "cell_type": "code",
   "execution_count": 23,
   "id": "ab303f99",
   "metadata": {},
   "outputs": [
    {
     "name": "stdout",
     "output_type": "stream",
     "text": [
      "How much is your car loan? 360\n",
      "How much is your car insurance? 212\n",
      "How much do you pay for gas monthly? 200\n",
      "How much do you pay for an oil change? 97\n",
      "How much do you pay for tires? 1000\n",
      "How much do you pay for mainteance monthly? 50\n"
     ]
    }
   ],
   "source": [
    "# Have program prompt the user for their automobile expenses \n",
    "loan_payment = float(input('How much is your car loan? '))\n",
    "insurance = float(input('How much is your car insurance? '))\n",
    "gas = float(input('How much do you pay for gas monthly? '))\n",
    "oil = float(input('How much do you pay for an oil change? '))\n",
    "tires = float(input('How much do you pay for tires? '))\n",
    "maintenance = float(input('How much do you pay for mainteance monthly? '))"
   ]
  },
  {
   "cell_type": "code",
   "execution_count": 24,
   "id": "d0a089bd",
   "metadata": {},
   "outputs": [],
   "source": [
    "# Program should display total monthly cost of expenses\n",
    "monthly_cost = loan_payment + insurance + gas + oil + tires + maintenance"
   ]
  },
  {
   "cell_type": "code",
   "execution_count": 25,
   "id": "b24da308",
   "metadata": {},
   "outputs": [
    {
     "ename": "NameError",
     "evalue": "name 'monthly_pmt' is not defined",
     "output_type": "error",
     "traceback": [
      "\u001b[0;31m---------------------------------------------------------------------------\u001b[0m",
      "\u001b[0;31mNameError\u001b[0m                                 Traceback (most recent call last)",
      "Cell \u001b[0;32mIn[25], line 2\u001b[0m\n\u001b[1;32m      1\u001b[0m \u001b[38;5;66;03m# Program should display total annual cost\u001b[39;00m\n\u001b[0;32m----> 2\u001b[0m annual_cost \u001b[38;5;241m=\u001b[39m monthly_pmt \u001b[38;5;241m*\u001b[39m \u001b[38;5;241m12\u001b[39m\n",
      "\u001b[0;31mNameError\u001b[0m: name 'monthly_pmt' is not defined"
     ]
    }
   ],
   "source": [
    "# Program should display total annual cost\n",
    "annual_cost = monthly_pmt * 12"
   ]
  },
  {
   "cell_type": "code",
   "execution_count": 26,
   "id": "c3f0151f",
   "metadata": {},
   "outputs": [
    {
     "name": "stdout",
     "output_type": "stream",
     "text": [
      "How much is your car loan? 360\n",
      "How much is your car insurance? 212\n",
      "How much do you pay for gas monthly? 200\n",
      "How much do you pay for an oil change? 97\n",
      "How much do you pay for tires? 50\n",
      "How much do you pay for mainteance monthly? 50\n"
     ]
    },
    {
     "ename": "NameError",
     "evalue": "name 'monthly_pmt' is not defined",
     "output_type": "error",
     "traceback": [
      "\u001b[0;31m---------------------------------------------------------------------------\u001b[0m",
      "\u001b[0;31mNameError\u001b[0m                                 Traceback (most recent call last)",
      "Cell \u001b[0;32mIn[26], line 9\u001b[0m\n\u001b[1;32m      7\u001b[0m maintenance \u001b[38;5;241m=\u001b[39m \u001b[38;5;28mfloat\u001b[39m(\u001b[38;5;28minput\u001b[39m(\u001b[38;5;124m'\u001b[39m\u001b[38;5;124mHow much do you pay for mainteance monthly? \u001b[39m\u001b[38;5;124m'\u001b[39m))\n\u001b[1;32m      8\u001b[0m monthly_cost \u001b[38;5;241m=\u001b[39m loan_payment \u001b[38;5;241m+\u001b[39m insurance \u001b[38;5;241m+\u001b[39m gas \u001b[38;5;241m+\u001b[39m oil \u001b[38;5;241m+\u001b[39m tires \u001b[38;5;241m+\u001b[39m maintenance\n\u001b[0;32m----> 9\u001b[0m annual_cost \u001b[38;5;241m=\u001b[39m monthly_pmt \u001b[38;5;241m*\u001b[39m \u001b[38;5;241m12\u001b[39m\n\u001b[1;32m     10\u001b[0m \u001b[38;5;28mprint\u001b[39m(\u001b[38;5;124m'\u001b[39m\u001b[38;5;124mYour monthly cost for your vehicle is\u001b[39m\u001b[38;5;124m'\u001b[39m, monthly_cost)\n\u001b[1;32m     11\u001b[0m \u001b[38;5;28mprint\u001b[39m(\u001b[38;5;124m'\u001b[39m\u001b[38;5;124mYour yearly cost for your vehicle is\u001b[39m\u001b[38;5;124m'\u001b[39m, annual_cost)\n",
      "\u001b[0;31mNameError\u001b[0m: name 'monthly_pmt' is not defined"
     ]
    }
   ],
   "source": [
    "# Incorporate together \n",
    "loan_payment = float(input('How much is your car loan? '))\n",
    "insurance = float(input('How much is your car insurance? '))\n",
    "gas = float(input('How much do you pay for gas monthly? '))\n",
    "oil = float(input('How much do you pay for an oil change? '))\n",
    "tires = float(input('How much do you pay for tires? '))\n",
    "maintenance = float(input('How much do you pay for mainteance monthly? '))\n",
    "monthly_cost = loan_payment + insurance + gas + oil + tires + maintenance\n",
    "annual_cost = monthly_pmt * 12\n",
    "print('Your monthly cost for your vehicle is', monthly_cost)\n",
    "print('Your yearly cost for your vehicle is', annual_cost)\n"
   ]
  },
  {
   "cell_type": "code",
   "execution_count": 27,
   "id": "0bf1cb13",
   "metadata": {},
   "outputs": [
    {
     "name": "stdout",
     "output_type": "stream",
     "text": [
      "How much is your car loan? 360\n",
      "How much is your car insurance? 212\n",
      "How much do you pay for gas monthly? 200\n",
      "How much do you pay for an oil change? 97\n",
      "How much do you pay for tires? 50\n",
      "How much do you pay for mainteance monthly? 50\n",
      "Your monthly cost for your vehicle is 969.0\n",
      "Your yearly cost for your vehicle is 11628.0\n"
     ]
    }
   ],
   "source": [
    "# Change monthly_pmt to monthly_cost\n",
    "loan_payment = float(input('How much is your car loan? '))\n",
    "insurance = float(input('How much is your car insurance? '))\n",
    "gas = float(input('How much do you pay for gas monthly? '))\n",
    "oil = float(input('How much do you pay for an oil change? '))\n",
    "tires = float(input('How much do you pay for tires? '))\n",
    "maintenance = float(input('How much do you pay for mainteance monthly? '))\n",
    "monthly_cost = loan_payment + insurance + gas + oil + tires + maintenance\n",
    "annual_cost = monthly_cost * 12\n",
    "print('Your monthly cost for your vehicle is', monthly_cost)\n",
    "print('Your yearly cost for your vehicle is', annual_cost)"
   ]
  },
  {
   "cell_type": "markdown",
   "id": "a92eb162",
   "metadata": {},
   "source": []
  }
 ],
 "metadata": {
  "kernelspec": {
   "display_name": "Python 3 (ipykernel)",
   "language": "python",
   "name": "python3"
  },
  "language_info": {
   "codemirror_mode": {
    "name": "ipython",
    "version": 3
   },
   "file_extension": ".py",
   "mimetype": "text/x-python",
   "name": "python",
   "nbconvert_exporter": "python",
   "pygments_lexer": "ipython3",
   "version": "3.11.4"
  }
 },
 "nbformat": 4,
 "nbformat_minor": 5
}
