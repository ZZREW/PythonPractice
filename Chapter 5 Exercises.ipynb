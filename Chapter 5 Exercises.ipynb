{
 "cells": [
  {
   "cell_type": "markdown",
   "id": "680fabb4",
   "metadata": {},
   "source": [
    "# Chapter 5 Exercises"
   ]
  },
  {
   "cell_type": "markdown",
   "id": "80a9be2c",
   "metadata": {},
   "source": [
    "### Algorithm Workbench"
   ]
  },
  {
   "cell_type": "markdown",
   "id": "487efb64",
   "metadata": {},
   "source": [
    "#### Question 1\n",
    "\n",
    "Write a function named times_ten. The function should accept an argument and display the product of its argument multiplied times 10."
   ]
  },
  {
   "cell_type": "code",
   "execution_count": 1,
   "id": "f09c1160",
   "metadata": {},
   "outputs": [
    {
     "ename": "SyntaxError",
     "evalue": "incomplete input (1805008165.py, line 2)",
     "output_type": "error",
     "traceback": [
      "\u001b[0;36m  Cell \u001b[0;32mIn[1], line 2\u001b[0;36m\u001b[0m\n\u001b[0;31m    def times_ten():\u001b[0m\n\u001b[0m                    ^\u001b[0m\n\u001b[0;31mSyntaxError\u001b[0m\u001b[0;31m:\u001b[0m incomplete input\n"
     ]
    }
   ],
   "source": [
    "# Write def to start function\n",
    "def times_ten():"
   ]
  },
  {
   "cell_type": "code",
   "execution_count": 2,
   "id": "04a97904",
   "metadata": {},
   "outputs": [],
   "source": [
    "# Write arguement for function\n",
    "def times_ten():\n",
    "    packets_of_flower = int(input('How many packets of flower do you have? '))"
   ]
  },
  {
   "cell_type": "markdown",
   "id": "4d8838c0",
   "metadata": {},
   "source": [
    "Created a variable for my argument statement i'm creating, variable name is packets of flower, the program will ask the user how many packets of flower they have. "
   ]
  },
  {
   "cell_type": "code",
   "execution_count": 3,
   "id": "e5f97f49",
   "metadata": {},
   "outputs": [
    {
     "ename": "SyntaxError",
     "evalue": "cannot assign to expression here. Maybe you meant '==' instead of '='? (1259613776.py, line 4)",
     "output_type": "error",
     "traceback": [
      "\u001b[0;36m  Cell \u001b[0;32mIn[3], line 4\u001b[0;36m\u001b[0m\n\u001b[0;31m    packets_of_flower * 10 = cakes\u001b[0m\n\u001b[0m    ^\u001b[0m\n\u001b[0;31mSyntaxError\u001b[0m\u001b[0;31m:\u001b[0m cannot assign to expression here. Maybe you meant '==' instead of '='?\n"
     ]
    }
   ],
   "source": [
    "# Complete writing arguement for fuction\n",
    "def times_ten():\n",
    "    packets_of_flower = int(input('How many packets of flower do you have? '))\n",
    "    packets_of_flower * 10 = cakes"
   ]
  },
  {
   "cell_type": "code",
   "execution_count": 4,
   "id": "dbd588fd",
   "metadata": {},
   "outputs": [],
   "source": [
    "# Fix code line 4 \n",
    "def times_ten():\n",
    "    packets_of_flower = int(input('How many packets of flower do you have? '))\n",
    "    packets_of_flower * 10 == cakes"
   ]
  },
  {
   "cell_type": "markdown",
   "id": "1cf4519d",
   "metadata": {},
   "source": [
    "Made a equation to display the product of a variables argument multipled times 10"
   ]
  },
  {
   "cell_type": "code",
   "execution_count": 5,
   "id": "96db9932",
   "metadata": {},
   "outputs": [],
   "source": [
    "# Add print statement\n",
    "def times_ten():\n",
    "    packets_of_flower = int(input('How many packets of flower do you have? '))\n",
    "    packets_of_flower * 10 == cakes\n",
    "    print(f'You can bake {cakes} cakes.')"
   ]
  },
  {
   "cell_type": "code",
   "execution_count": 6,
   "id": "a0946414",
   "metadata": {},
   "outputs": [
    {
     "name": "stdout",
     "output_type": "stream",
     "text": [
      "How many packets of flower do you have? 3\n"
     ]
    },
    {
     "ename": "NameError",
     "evalue": "name 'cakes' is not defined",
     "output_type": "error",
     "traceback": [
      "\u001b[0;31m---------------------------------------------------------------------------\u001b[0m",
      "\u001b[0;31mNameError\u001b[0m                                 Traceback (most recent call last)",
      "Cell \u001b[0;32mIn[6], line 6\u001b[0m\n\u001b[1;32m      4\u001b[0m     packets_of_flower \u001b[38;5;241m*\u001b[39m \u001b[38;5;241m10\u001b[39m \u001b[38;5;241m==\u001b[39m cakes\n\u001b[1;32m      5\u001b[0m     \u001b[38;5;28mprint\u001b[39m(\u001b[38;5;124mf\u001b[39m\u001b[38;5;124m'\u001b[39m\u001b[38;5;124mYou can bake \u001b[39m\u001b[38;5;132;01m{\u001b[39;00mcakes\u001b[38;5;132;01m}\u001b[39;00m\u001b[38;5;124m cakes.\u001b[39m\u001b[38;5;124m'\u001b[39m)\n\u001b[0;32m----> 6\u001b[0m times_ten()\n",
      "Cell \u001b[0;32mIn[6], line 4\u001b[0m, in \u001b[0;36mtimes_ten\u001b[0;34m()\u001b[0m\n\u001b[1;32m      2\u001b[0m \u001b[38;5;28;01mdef\u001b[39;00m \u001b[38;5;21mtimes_ten\u001b[39m():\n\u001b[1;32m      3\u001b[0m     packets_of_flower \u001b[38;5;241m=\u001b[39m \u001b[38;5;28mint\u001b[39m(\u001b[38;5;28minput\u001b[39m(\u001b[38;5;124m'\u001b[39m\u001b[38;5;124mHow many packets of flower do you have? \u001b[39m\u001b[38;5;124m'\u001b[39m))\n\u001b[0;32m----> 4\u001b[0m     packets_of_flower \u001b[38;5;241m*\u001b[39m \u001b[38;5;241m10\u001b[39m \u001b[38;5;241m==\u001b[39m cakes\n\u001b[1;32m      5\u001b[0m     \u001b[38;5;28mprint\u001b[39m(\u001b[38;5;124mf\u001b[39m\u001b[38;5;124m'\u001b[39m\u001b[38;5;124mYou can bake \u001b[39m\u001b[38;5;132;01m{\u001b[39;00mcakes\u001b[38;5;132;01m}\u001b[39;00m\u001b[38;5;124m cakes.\u001b[39m\u001b[38;5;124m'\u001b[39m)\n",
      "\u001b[0;31mNameError\u001b[0m: name 'cakes' is not defined"
     ]
    }
   ],
   "source": [
    "# Call funtion now\n",
    "def times_ten():\n",
    "    packets_of_flower = int(input('How many packets of flower do you have? '))\n",
    "    packets_of_flower * 10 == cakes\n",
    "    print(f'You can bake {cakes} cakes.')\n",
    "times_ten()"
   ]
  },
  {
   "cell_type": "code",
   "execution_count": 7,
   "id": "b7ec92ba",
   "metadata": {},
   "outputs": [
    {
     "name": "stdout",
     "output_type": "stream",
     "text": [
      "How many packets of flower do you have? 3\n",
      "You can bake 30 cakes.\n"
     ]
    }
   ],
   "source": [
    "# Change == to =, and put cakes first\n",
    "def times_ten():\n",
    "    packets_of_flower = int(input('How many packets of flower do you have? '))\n",
    "    cakes = packets_of_flower * 10 \n",
    "    print(f'You can bake {cakes} cakes.')\n",
    "times_ten()"
   ]
  },
  {
   "cell_type": "markdown",
   "id": "eb2124e3",
   "metadata": {},
   "source": []
  }
 ],
 "metadata": {
  "kernelspec": {
   "display_name": "Python 3 (ipykernel)",
   "language": "python",
   "name": "python3"
  },
  "language_info": {
   "codemirror_mode": {
    "name": "ipython",
    "version": 3
   },
   "file_extension": ".py",
   "mimetype": "text/x-python",
   "name": "python",
   "nbconvert_exporter": "python",
   "pygments_lexer": "ipython3",
   "version": "3.11.4"
  }
 },
 "nbformat": 4,
 "nbformat_minor": 5
}
