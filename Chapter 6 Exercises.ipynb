{
 "cells": [
  {
   "cell_type": "markdown",
   "id": "db3514c0",
   "metadata": {},
   "source": [
    "# Chapter 6 Exercises"
   ]
  },
  {
   "cell_type": "markdown",
   "id": "8137c9ab",
   "metadata": {},
   "source": [
    "### Algorithm Workbench"
   ]
  },
  {
   "cell_type": "markdown",
   "id": "867c61c9",
   "metadata": {},
   "source": [
    "#### Question 1\n",
    "\n",
    "Write a program that opens an output file with the filename my_name.txt, writes your name to the file, then closes the file.   "
   ]
  },
  {
   "cell_type": "code",
   "execution_count": null,
   "id": "21d1ea6e",
   "metadata": {},
   "outputs": [],
   "source": [
    "# Create a function \n",
    "def main():"
   ]
  },
  {
   "cell_type": "code",
   "execution_count": null,
   "id": "3b3433e5",
   "metadata": {},
   "outputs": [],
   "source": [
    "# Create / Open an output file \n",
    "my_name = open('my_name.txt', 'w')"
   ]
  },
  {
   "cell_type": "code",
   "execution_count": null,
   "id": "85f3c927",
   "metadata": {},
   "outputs": [],
   "source": [
    "# Write your name to the file\n",
    "my_name.write('Andrew Walker')"
   ]
  },
  {
   "cell_type": "markdown",
   "id": "13f6ad8c",
   "metadata": {},
   "source": [
    "or"
   ]
  },
  {
   "cell_type": "code",
   "execution_count": null,
   "id": "632359bd",
   "metadata": {},
   "outputs": [],
   "source": [
    "# Write your name to the file\n",
    "name = 'Andrew Walker'\n",
    "my_name.write(name)"
   ]
  },
  {
   "cell_type": "code",
   "execution_count": null,
   "id": "1a6cf301",
   "metadata": {},
   "outputs": [],
   "source": [
    "# Close the file\n",
    "my_name.close()"
   ]
  },
  {
   "cell_type": "code",
   "execution_count": 1,
   "id": "37047f42",
   "metadata": {},
   "outputs": [],
   "source": [
    "# Incorparate together\n",
    "# Create funtion to open file\n",
    "def main():\n",
    "    # Open file\n",
    "    my_name = open('my_name.txt', 'w')\n",
    "    # Write name into file\n",
    "    name = 'Andrew Walker'\n",
    "    my_name.write(name)\n",
    "    # Close the file\n",
    "    my_name.close()\n",
    "# Call funtion\n",
    "main()"
   ]
  },
  {
   "cell_type": "markdown",
   "id": "d66734f3",
   "metadata": {},
   "source": [
    "For this problem I first start by creating a function to hold the program in, call main. Next within that function I wrote code according to the question in the text book. I created a file named my_name.txt, within that file I wrote code to display my name, after I wrote code for the program to close while saving everything that was wrote. At the end I wrote main(), to call the function to run. The textbook 6.1 showed me how to do all of this."
   ]
  },
  {
   "cell_type": "markdown",
   "id": "f44ead52",
   "metadata": {},
   "source": [
    "#### Question 2 \n",
    "\n",
    "Write a program that opens the my_name.txt file that was created by the program in problem 1, reads your name from the file, displays the name on the screen, then closes the file."
   ]
  },
  {
   "cell_type": "code",
   "execution_count": null,
   "id": "a78dbbf3",
   "metadata": {},
   "outputs": [],
   "source": []
  }
 ],
 "metadata": {
  "kernelspec": {
   "display_name": "Python 3 (ipykernel)",
   "language": "python",
   "name": "python3"
  },
  "language_info": {
   "codemirror_mode": {
    "name": "ipython",
    "version": 3
   },
   "file_extension": ".py",
   "mimetype": "text/x-python",
   "name": "python",
   "nbconvert_exporter": "python",
   "pygments_lexer": "ipython3",
   "version": "3.11.4"
  }
 },
 "nbformat": 4,
 "nbformat_minor": 5
}
