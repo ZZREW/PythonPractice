{
 "cells": [
  {
   "cell_type": "markdown",
   "id": "7902be88",
   "metadata": {},
   "source": [
    "# Chapter 6 Exercises"
   ]
  },
  {
   "cell_type": "markdown",
   "id": "ec57eac6",
   "metadata": {},
   "source": [
    "### Algorithm Workbench"
   ]
  },
  {
   "cell_type": "markdown",
   "id": "9fbea90b",
   "metadata": {},
   "source": [
    "#### Question 1\n",
    "\n",
    "Write a program that opens an output file with the filename my_name.txt, writes your name to the file, then closes the file.   "
   ]
  },
  {
   "cell_type": "code",
   "execution_count": null,
   "id": "6eaf8bb5",
   "metadata": {},
   "outputs": [],
   "source": [
    "# Create a function \n",
    "def main():"
   ]
  },
  {
   "cell_type": "code",
   "execution_count": null,
   "id": "f2c9ed44",
   "metadata": {},
   "outputs": [],
   "source": [
    "# Create / Open an output file \n",
    "my_name = open('my_name.txt', 'w')"
   ]
  },
  {
   "cell_type": "code",
   "execution_count": null,
   "id": "7bde9146",
   "metadata": {},
   "outputs": [],
   "source": [
    "# Write your name to the file\n",
    "my_name.write('Andrew Walker')"
   ]
  },
  {
   "cell_type": "markdown",
   "id": "a55bdded",
   "metadata": {},
   "source": [
    "or"
   ]
  },
  {
   "cell_type": "code",
   "execution_count": null,
   "id": "3d1eeea6",
   "metadata": {},
   "outputs": [],
   "source": [
    "# Write your name to the file\n",
    "name = 'Andrew Walker'\n",
    "my_name.write(name)"
   ]
  },
  {
   "cell_type": "code",
   "execution_count": null,
   "id": "98ef8f6b",
   "metadata": {},
   "outputs": [],
   "source": [
    "# Close the file\n",
    "my_name.close()"
   ]
  },
  {
   "cell_type": "code",
   "execution_count": 1,
   "id": "4c7272f9",
   "metadata": {},
   "outputs": [],
   "source": [
    "# Incorparate together\n",
    "# Create funtion to open file\n",
    "def main():\n",
    "    # Open file\n",
    "    my_name = open('my_name.txt', 'w')\n",
    "    # Write name into file\n",
    "    name = 'Andrew Walker'\n",
    "    my_name.write(name)\n",
    "    # Close the file\n",
    "    my_name.close()\n",
    "# Call funtion\n",
    "main()"
   ]
  },
  {
   "cell_type": "markdown",
   "id": "cb878581",
   "metadata": {},
   "source": [
    "For this problem I first start by creating a function to hold the program in, call main. Next within that function I wrote code according to the question in the text book. I created a file named my_name.txt, within that file I wrote code to display my name, after I wrote code for the program to close while saving everything that was wrote. At the end I wrote main(), to call the function to run. The textbook 6.1 showed me how to do all of this."
   ]
  },
  {
   "cell_type": "markdown",
   "id": "f8ee7c5a",
   "metadata": {},
   "source": [
    "#### Question 2 \n",
    "\n",
    "Write a program that opens the my_name.txt file that was created by the program in problem 1, reads your name from the file, displays the name on the screen, then closes the file."
   ]
  },
  {
   "cell_type": "code",
   "execution_count": null,
   "id": "ff0a6c32",
   "metadata": {},
   "outputs": [],
   "source": [
    "# Create function that opens my_name.txt file\n",
    "def main():"
   ]
  },
  {
   "cell_type": "code",
   "execution_count": null,
   "id": "92f5ea64",
   "metadata": {},
   "outputs": [],
   "source": [
    "# Open file in read only mode\n",
    "read_name = open('my_name.txt', 'r')"
   ]
  },
  {
   "cell_type": "code",
   "execution_count": null,
   "id": "022fd9a0",
   "metadata": {},
   "outputs": [],
   "source": [
    "# Write code to display name from the file, display contents\n",
    "file_contents = read_name.read()\n",
    "print(file_contents)"
   ]
  },
  {
   "cell_type": "code",
   "execution_count": null,
   "id": "82aead7b",
   "metadata": {},
   "outputs": [],
   "source": [
    "# Close file once content was read\n",
    "read_name.close()"
   ]
  },
  {
   "cell_type": "code",
   "execution_count": null,
   "id": "0674a2dd",
   "metadata": {},
   "outputs": [],
   "source": [
    "# Call function to run \n",
    "main()"
   ]
  },
  {
   "cell_type": "code",
   "execution_count": 2,
   "id": "5a305f5c",
   "metadata": {},
   "outputs": [
    {
     "name": "stdout",
     "output_type": "stream",
     "text": [
      "Andrew Walker\n"
     ]
    }
   ],
   "source": [
    "# Incorparate together\n",
    "def main():\n",
    "    # Open file in read mode, set = to variable\n",
    "    read_name = open('my_name.txt', 'r')\n",
    "    # Read file contents\n",
    "    file_contents = read_name.read()\n",
    "    # Close file\n",
    "    read_name.close()\n",
    "    # Display content of file\n",
    "    print(file_contents)\n",
    "# Call funtion to run \n",
    "main()"
   ]
  },
  {
   "cell_type": "markdown",
   "id": "d0246b4e",
   "metadata": {},
   "source": [
    "For this question I followed the textbook again 6.1. I first created a funtion (main) to create/hold the program. Next I had to open the file I created in question 1 of the algorithm workbench, file name my_name.txt. After had create a variable to read and remember the contents of that file. Once that was done I wrote code to close the file so the contents doesnt get edited or deleted. The question wants me to have the program to display the name so I wrote a print statement to print the variable that read and was holding the contents of the file. When all of that was completed I then only had to call upon the main funtion to run everything.  "
   ]
  },
  {
   "cell_type": "markdown",
   "id": "ffe7142b",
   "metadata": {},
   "source": [
    "### Programming Exercises"
   ]
  },
  {
   "cell_type": "markdown",
   "id": "a60db2d9",
   "metadata": {},
   "source": [
    "#### Question 1 \n",
    "\n",
    "File Display\n",
    "\n",
    "Assume a file containing a series of integers is named numbers.txt and exists on the computer’s disk. Write a program that displays all of the numbers in the file."
   ]
  },
  {
   "cell_type": "code",
   "execution_count": null,
   "id": "6caffa11",
   "metadata": {},
   "outputs": [],
   "source": [
    "# Create function to call program\n",
    "def main():"
   ]
  },
  {
   "cell_type": "code",
   "execution_count": null,
   "id": "8c577898",
   "metadata": {},
   "outputs": [],
   "source": [
    "# Create file named numbers.txt\n",
    "numbers = open('numbers.txt', 'w')"
   ]
  },
  {
   "cell_type": "code",
   "execution_count": null,
   "id": "5af88605",
   "metadata": {},
   "outputs": [],
   "source": [
    "# Write series of integers in file, since its integers, have to convert to string\n",
    "integer = 0\n",
    "for integer in range(1,101):\n",
    "    numbers.write(str(integer))\n",
    "    print(integer)"
   ]
  },
  {
   "cell_type": "code",
   "execution_count": null,
   "id": "c7261f01",
   "metadata": {},
   "outputs": [],
   "source": [
    "# Close the file\n",
    "numbers.close()"
   ]
  },
  {
   "cell_type": "code",
   "execution_count": null,
   "id": "b46beea7",
   "metadata": {},
   "outputs": [],
   "source": [
    "# Call function \n",
    "main()"
   ]
  },
  {
   "cell_type": "code",
   "execution_count": null,
   "id": "1e37a963",
   "metadata": {},
   "outputs": [],
   "source": [
    "# Incorparate together\n",
    "# Create funtion to call program to run\n",
    "def main():\n",
    "    # Create file, open to write in\n",
    "    numbers = open('numbers.txt', 'w')\n",
    "    # Variable set equal to 0\n",
    "    integer = 0\n",
    "    # Create running list 1 - 100\n",
    "    for integer in range(1,101):\n",
    "        # Print the list\n",
    "        print(integer)\n",
    "        # Write the list in file, converted to string, add \\n to make it a list from top down\n",
    "        numbers.write(str(integer) + '\\n')\n",
    "    # Close the file\n",
    "    numbers.close()\n",
    "# Call on file to run\n",
    "main()\n",
    "\n",
    "\n",
    "# I cleared the output to make the code look nicer. (output printed the number list)"
   ]
  },
  {
   "cell_type": "code",
   "execution_count": null,
   "id": "d5ddba61",
   "metadata": {},
   "outputs": [],
   "source": [
    "# Create new function \n",
    "def main1():"
   ]
  },
  {
   "cell_type": "code",
   "execution_count": null,
   "id": "c4ccd5b2",
   "metadata": {},
   "outputs": [],
   "source": [
    "# Open the previous file in read only mode\n",
    "read_number_list = open('numbers.txt', 'r')"
   ]
  },
  {
   "cell_type": "code",
   "execution_count": null,
   "id": "4ecb44fc",
   "metadata": {},
   "outputs": [],
   "source": [
    "# Write code to have variable read file contents\n",
    "file_contents = read_number_list.read()"
   ]
  },
  {
   "cell_type": "code",
   "execution_count": null,
   "id": "cd74d537",
   "metadata": {},
   "outputs": [],
   "source": [
    "# Display contents of file\n",
    "print(file_contents)"
   ]
  },
  {
   "cell_type": "code",
   "execution_count": null,
   "id": "ddab84f8",
   "metadata": {},
   "outputs": [],
   "source": [
    "# Close file\n",
    "read_number_list.close()"
   ]
  },
  {
   "cell_type": "code",
   "execution_count": null,
   "id": "6e75bca6",
   "metadata": {},
   "outputs": [],
   "source": [
    "# Run the program, call function\n",
    "main1()"
   ]
  },
  {
   "cell_type": "code",
   "execution_count": 2,
   "id": "2209b895",
   "metadata": {},
   "outputs": [
    {
     "name": "stdout",
     "output_type": "stream",
     "text": [
      "1\n",
      "2\n",
      "3\n",
      "4\n",
      "5\n",
      "6\n",
      "7\n",
      "8\n",
      "9\n",
      "10\n",
      "11\n",
      "12\n",
      "13\n",
      "14\n",
      "15\n",
      "16\n",
      "17\n",
      "18\n",
      "19\n",
      "20\n",
      "21\n",
      "22\n",
      "23\n",
      "24\n",
      "25\n",
      "26\n",
      "27\n",
      "28\n",
      "29\n",
      "30\n",
      "31\n",
      "32\n",
      "33\n",
      "34\n",
      "35\n",
      "36\n",
      "37\n",
      "38\n",
      "39\n",
      "40\n",
      "41\n",
      "42\n",
      "43\n",
      "44\n",
      "45\n",
      "46\n",
      "47\n",
      "48\n",
      "49\n",
      "50\n",
      "51\n",
      "52\n",
      "53\n",
      "54\n",
      "55\n",
      "56\n",
      "57\n",
      "58\n",
      "59\n",
      "60\n",
      "61\n",
      "62\n",
      "63\n",
      "64\n",
      "65\n",
      "66\n",
      "67\n",
      "68\n",
      "69\n",
      "70\n",
      "71\n",
      "72\n",
      "73\n",
      "74\n",
      "75\n",
      "76\n",
      "77\n",
      "78\n",
      "79\n",
      "80\n",
      "81\n",
      "82\n",
      "83\n",
      "84\n",
      "85\n",
      "86\n",
      "87\n",
      "88\n",
      "89\n",
      "90\n",
      "91\n",
      "92\n",
      "93\n",
      "94\n",
      "95\n",
      "96\n",
      "97\n",
      "98\n",
      "99\n",
      "100\n",
      "\n"
     ]
    }
   ],
   "source": [
    "# Incorporate together\n",
    "# Create function to run program\n",
    "def main1():\n",
    "    # New variable to open file in read only\n",
    "    read_number_list = open('numbers.txt', 'r')\n",
    "    # Create variable to read and contain contents of file\n",
    "    file_contents = read_number_list.read()\n",
    "    # Close the file \n",
    "    read_number_list.close()\n",
    "    # Display contents of file\n",
    "    print(file_contents)\n",
    "# Run function\n",
    "main1()"
   ]
  },
  {
   "cell_type": "markdown",
   "id": "dc816a0b",
   "metadata": {},
   "source": [
    "For this problem I incorporated question 1 and 2 from the algorithm workbench section, while adding new code to print the number list in the problem. I first start by creating a function to hold the main program and to store the file. Next I create a new file named numbers.txt accoring to the question, I made it with the 'w' so I can edit/create the file. For the next part I use code from the previous chapters to create a list of integers that the question wants us to display in this new file. I set an integer equal to 0, and wrote a for statment. For integer in range(1,101) print integer. This code will display a list of numbers from 1 - 100. Next I had to convert the code into a str since im writing numbers into a file. I went back to section 6.1 in our textbook to learn how to write and read numeric data. I didnt know if numbers.write(str(integer)) would work but I input it and it worked so I ran with it. Everything else is basically the same from question 2 of the algorithm workbench, inreguards to creating a new function to read and display the contents of file.\n",
    "\n",
    "I didnt watch the VideoNote 6-2 showing how to do the question, Im just now looking at it after the fact and he did it an entirely different way from me."
   ]
  },
  {
   "cell_type": "markdown",
   "id": "6b7abd09",
   "metadata": {},
   "source": [
    "#### Question 6\n",
    "\n",
    "Average of Numbers\n",
    "\n",
    "Assume a file containing a series of integers is named numbers.txt and exists on the computer’s disk. Write a program that calculates the average of all the numbers stored in the file."
   ]
  },
  {
   "cell_type": "code",
   "execution_count": null,
   "id": "984d0805",
   "metadata": {},
   "outputs": [],
   "source": [
    "# Create function to run program\n",
    "def main2():"
   ]
  },
  {
   "cell_type": "code",
   "execution_count": null,
   "id": "fd938e0b",
   "metadata": {},
   "outputs": [],
   "source": [
    "# Open the file numbers.txt in read only mode\n",
    "with open('numbers.txt', 'r') as number_list:"
   ]
  },
  {
   "cell_type": "code",
   "execution_count": null,
   "id": "104b4512",
   "metadata": {},
   "outputs": [],
   "source": [
    "# Set variable = to integers in file\n",
    "integer = [integer in number_list]"
   ]
  },
  {
   "cell_type": "code",
   "execution_count": null,
   "id": "7328b87a",
   "metadata": {},
   "outputs": [],
   "source": [
    "# Write program to calculate average of numbers in file\n",
    "average = sum(integer) / len(integer)"
   ]
  },
  {
   "cell_type": "code",
   "execution_count": null,
   "id": "48e640e2",
   "metadata": {},
   "outputs": [],
   "source": [
    "# Print the result\n",
    "print(average)"
   ]
  },
  {
   "cell_type": "code",
   "execution_count": 10,
   "id": "f891ac00",
   "metadata": {},
   "outputs": [
    {
     "ename": "UnboundLocalError",
     "evalue": "cannot access local variable 'integer' where it is not associated with a value",
     "output_type": "error",
     "traceback": [
      "\u001b[0;31m---------------------------------------------------------------------------\u001b[0m",
      "\u001b[0;31mUnboundLocalError\u001b[0m                         Traceback (most recent call last)",
      "Cell \u001b[0;32mIn[10], line 13\u001b[0m\n\u001b[1;32m     11\u001b[0m         \u001b[38;5;28mprint\u001b[39m(average)\n\u001b[1;32m     12\u001b[0m \u001b[38;5;66;03m# Run function\u001b[39;00m\n\u001b[0;32m---> 13\u001b[0m main2()\n",
      "Cell \u001b[0;32mIn[10], line 7\u001b[0m, in \u001b[0;36mmain2\u001b[0;34m()\u001b[0m\n\u001b[1;32m      3\u001b[0m \u001b[38;5;28;01mdef\u001b[39;00m \u001b[38;5;21mmain2\u001b[39m():\n\u001b[1;32m      4\u001b[0m     \u001b[38;5;66;03m# Open file in read mode, read to variable\u001b[39;00m\n\u001b[1;32m      5\u001b[0m     \u001b[38;5;28;01mwith\u001b[39;00m \u001b[38;5;28mopen\u001b[39m(\u001b[38;5;124m'\u001b[39m\u001b[38;5;124mnumbers.txt\u001b[39m\u001b[38;5;124m'\u001b[39m, \u001b[38;5;124m'\u001b[39m\u001b[38;5;124mr\u001b[39m\u001b[38;5;124m'\u001b[39m) \u001b[38;5;28;01mas\u001b[39;00m number_list:\n\u001b[1;32m      6\u001b[0m     \u001b[38;5;66;03m# Set new variable equal to integers in file\u001b[39;00m\n\u001b[0;32m----> 7\u001b[0m         integer \u001b[38;5;241m=\u001b[39m [integer \u001b[38;5;129;01min\u001b[39;00m number_list]\n\u001b[1;32m      8\u001b[0m         \u001b[38;5;66;03m# Calculate the average of said integers\u001b[39;00m\n\u001b[1;32m      9\u001b[0m         average \u001b[38;5;241m=\u001b[39m \u001b[38;5;28msum\u001b[39m(integer) \u001b[38;5;241m/\u001b[39m \u001b[38;5;28mlen\u001b[39m(integer)\n",
      "\u001b[0;31mUnboundLocalError\u001b[0m: cannot access local variable 'integer' where it is not associated with a value"
     ]
    }
   ],
   "source": [
    "# Incorporate together\n",
    "# Create funtion to run program\n",
    "def main2():\n",
    "    # Open file in read mode, read to variable\n",
    "    with open('numbers.txt', 'r') as number_list:\n",
    "    # Set new variable equal to integers in file\n",
    "        integer = [integer in number_list]\n",
    "        # Calculate the average of said integers\n",
    "        average = sum(integer) / len(integer)\n",
    "        # Display the results \n",
    "        print(average)\n",
    "# Run function\n",
    "main2()"
   ]
  },
  {
   "cell_type": "markdown",
   "id": "e67fcc8a",
   "metadata": {},
   "source": [
    "Im not sure whats going on with the code, I dont think im doing it right"
   ]
  },
  {
   "cell_type": "markdown",
   "id": "7b49e15e",
   "metadata": {},
   "source": [
    "My thought process for this problem was, first creating a new function to run the program when called upon. Next I use the with open statement to open and then close the numbers.txt file, I used the with open statement so I wouldnt have to write extra code to close the file back. I set it to open as variable number_list to read the file. I then set a new variable (integer) equal to the integers in the file, then wrote code to calculate the average of the numbers and display it. "
   ]
  },
  {
   "cell_type": "markdown",
   "id": "a0037a26",
   "metadata": {},
   "source": [
    "#### Question 9\n",
    "\n",
    "Exception Handing\n",
    "\n",
    "Modify the program that you wrote for Exercise 6 so it handles the following exceptions:  \n",
    "\n",
    "It should handle any I0Error exceptions that are raised when the file is opened and data is read from it.\n",
    "\n",
    "It should handle any ValueError exceptions that are raised when the items that are read from the file are converted to a number."
   ]
  },
  {
   "cell_type": "markdown",
   "id": "0087995a",
   "metadata": {},
   "source": [
    "#### Question 6\n",
    "\n",
    "File Head Display\n",
    "\n",
    "Write a program that asks the user for the name of a file. The program should display only the first five lines of the file’s contents. If the file contains less than five lines, it should display the file’s entire contents."
   ]
  },
  {
   "cell_type": "code",
   "execution_count": null,
   "id": "c9fc7181",
   "metadata": {},
   "outputs": [],
   "source": [
    "# Create funtion to write program\n",
    "def main3():"
   ]
  },
  {
   "cell_type": "code",
   "execution_count": null,
   "id": "3d7c4bb2",
   "metadata": {},
   "outputs": [],
   "source": [
    "# Write program to ask user for name of file\n",
    "input('Enter the file name')"
   ]
  },
  {
   "cell_type": "code",
   "execution_count": null,
   "id": "08c39e60",
   "metadata": {},
   "outputs": [],
   "source": [
    "# Create file\n",
    "file_name = open('file_name.txt', 'w')"
   ]
  },
  {
   "cell_type": "code",
   "execution_count": null,
   "id": "b96f68f4",
   "metadata": {},
   "outputs": [],
   "source": [
    "# Write five lines of data to file\n",
    "file_name.write('The student name is Andrew Walker')\n",
    "file_name.write('Andrew is a 26 year old male\\n')\n",
    "file_name.write('He attends Lansing Community College\\n')\n",
    "file_name.write('He has been a student for 2 years\\n')\n",
    "file_name.write('He studies programming\\n')\n",
    "file_name.write('Way to go Andrew\\n')"
   ]
  },
  {
   "cell_type": "code",
   "execution_count": null,
   "id": "021f360c",
   "metadata": {},
   "outputs": [],
   "source": [
    "# Close the file\n",
    "file_name.close()"
   ]
  },
  {
   "cell_type": "code",
   "execution_count": 14,
   "id": "48ac9deb",
   "metadata": {},
   "outputs": [
    {
     "name": "stdout",
     "output_type": "stream",
     "text": [
      "Enter the file namefile_name\n"
     ]
    }
   ],
   "source": [
    "# Incorparate together\n",
    "def main3():\n",
    "    input('Enter the file name')\n",
    "    file_name = open('file_name.txt', 'w')\n",
    "    file_name.write('The student name is Andrew Walker\\n')\n",
    "    file_name.write('Andrew is a 26 year old male\\n')\n",
    "    file_name.write('He attends Lansing Community College\\n')\n",
    "    file_name.write('He has been a student for 2 years\\n')\n",
    "    file_name.write('He studies programming\\n')\n",
    "    file_name.write('Way to go Andrew\\n')\n",
    "    file_name.close()\n",
    "main3()"
   ]
  },
  {
   "cell_type": "code",
   "execution_count": null,
   "id": "7ec84ebe",
   "metadata": {},
   "outputs": [],
   "source": [
    "# Create new funtion\n",
    "def main4():"
   ]
  },
  {
   "cell_type": "code",
   "execution_count": null,
   "id": "d31b812b",
   "metadata": {},
   "outputs": [],
   "source": [
    "# Open file in read mode, set = to variable\n",
    "read_file_name = open('file_name.txt', 'r')"
   ]
  },
  {
   "cell_type": "code",
   "execution_count": null,
   "id": "7368b7d2",
   "metadata": {},
   "outputs": [],
   "source": [
    "# Write code to read file contents\n",
    "file_contents2 = read_file_name.read()"
   ]
  },
  {
   "cell_type": "code",
   "execution_count": null,
   "id": "1d244717",
   "metadata": {},
   "outputs": [],
   "source": [
    "# Close file \n",
    "read_file_name.close()"
   ]
  },
  {
   "cell_type": "code",
   "execution_count": null,
   "id": "9510d22a",
   "metadata": {},
   "outputs": [],
   "source": [
    "# Write code to display file contents\n",
    "print(file_contents2)"
   ]
  },
  {
   "cell_type": "code",
   "execution_count": 15,
   "id": "e1b28e6d",
   "metadata": {},
   "outputs": [
    {
     "name": "stdout",
     "output_type": "stream",
     "text": [
      "The student name is Andrew Walker\n",
      "Andrew is a 26 year old male\n",
      "He attends Lansing Community College\n",
      "He has been a student for 2 years\n",
      "He studies programming\n",
      "Way to go Andrew\n",
      "\n"
     ]
    }
   ],
   "source": [
    "# Incorparate together\n",
    "def main4():\n",
    "    # Open file in read mode, set = to variable\n",
    "    read_file_name = open('file_name.txt', 'r')\n",
    "    # Read file contents\n",
    "    file_contents2 = read_file_name.read()\n",
    "    # Close file\n",
    "    read_file_name.close()\n",
    "    # Display content of file\n",
    "    print(file_contents2)\n",
    "# Call funtion to run \n",
    "main4()"
   ]
  },
  {
   "cell_type": "markdown",
   "id": "7d3f6052",
   "metadata": {},
   "source": [
    "For this question I went back to question 1 and question 2 to set the program up, by creating a funtion to run 2 seperate programs. I wrote code that would create a file, I wrote lines of code in the file. Closed the file and in the second program I wrote code to displayed the information. "
   ]
  },
  {
   "cell_type": "code",
   "execution_count": null,
   "id": "f518dcac",
   "metadata": {},
   "outputs": [],
   "source": []
  }
 ],
 "metadata": {
  "kernelspec": {
   "display_name": "Python 3 (ipykernel)",
   "language": "python",
   "name": "python3"
  },
  "language_info": {
   "codemirror_mode": {
    "name": "ipython",
    "version": 3
   },
   "file_extension": ".py",
   "mimetype": "text/x-python",
   "name": "python",
   "nbconvert_exporter": "python",
   "pygments_lexer": "ipython3",
   "version": "3.11.4"
  }
 },
 "nbformat": 4,
 "nbformat_minor": 5
}
