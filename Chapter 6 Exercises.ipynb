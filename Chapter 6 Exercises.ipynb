{
 "cells": [
  {
   "cell_type": "markdown",
   "id": "841df7e6",
   "metadata": {},
   "source": [
    "# Chapter 6 Exercises"
   ]
  },
  {
   "cell_type": "markdown",
   "id": "e6658f13",
   "metadata": {},
   "source": [
    "### Algorithm Workbench"
   ]
  },
  {
   "cell_type": "markdown",
   "id": "eb43021c",
   "metadata": {},
   "source": [
    "#### Question 1\n",
    "\n",
    "Write a program that opens an output file with the filename my_name.txt, writes your name to the file, then closes the file.   "
   ]
  },
  {
   "cell_type": "code",
   "execution_count": null,
   "id": "c52be93b",
   "metadata": {},
   "outputs": [],
   "source": [
    "# Create a function \n",
    "def main():"
   ]
  },
  {
   "cell_type": "code",
   "execution_count": null,
   "id": "9355865d",
   "metadata": {},
   "outputs": [],
   "source": [
    "# Create / Open an output file \n",
    "my_name = open('my_name.txt', 'w')"
   ]
  },
  {
   "cell_type": "code",
   "execution_count": null,
   "id": "ec421adc",
   "metadata": {},
   "outputs": [],
   "source": [
    "# Write your name to the file\n",
    "my_name.write('Andrew Walker')"
   ]
  },
  {
   "cell_type": "markdown",
   "id": "43a10068",
   "metadata": {},
   "source": [
    "or"
   ]
  },
  {
   "cell_type": "code",
   "execution_count": null,
   "id": "38448d61",
   "metadata": {},
   "outputs": [],
   "source": [
    "# Write your name to the file\n",
    "name = 'Andrew Walker'\n",
    "my_name.write(name)"
   ]
  },
  {
   "cell_type": "code",
   "execution_count": null,
   "id": "f726e620",
   "metadata": {},
   "outputs": [],
   "source": [
    "# Close the file\n",
    "my_name.close()"
   ]
  },
  {
   "cell_type": "code",
   "execution_count": 1,
   "id": "2ea9553b",
   "metadata": {},
   "outputs": [],
   "source": [
    "# Incorparate together\n",
    "# Create funtion to open file\n",
    "def main():\n",
    "    # Open file\n",
    "    my_name = open('my_name.txt', 'w')\n",
    "    # Write name into file\n",
    "    name = 'Andrew Walker'\n",
    "    my_name.write(name)\n",
    "    # Close the file\n",
    "    my_name.close()\n",
    "# Call funtion\n",
    "main()"
   ]
  },
  {
   "cell_type": "markdown",
   "id": "e192fd20",
   "metadata": {},
   "source": [
    "For this problem I first start by creating a function to hold the program in, call main. Next within that function I wrote code according to the question in the text book. I created a file named my_name.txt, within that file I wrote code to display my name, after I wrote code for the program to close while saving everything that was wrote. At the end I wrote main(), to call the function to run. The textbook 6.1 showed me how to do all of this."
   ]
  },
  {
   "cell_type": "markdown",
   "id": "4d66bcde",
   "metadata": {},
   "source": [
    "#### Question 2 \n",
    "\n",
    "Write a program that opens the my_name.txt file that was created by the program in problem 1, reads your name from the file, displays the name on the screen, then closes the file."
   ]
  },
  {
   "cell_type": "code",
   "execution_count": null,
   "id": "9fa2c443",
   "metadata": {},
   "outputs": [],
   "source": [
    "# Create function that opens my_name.txt file\n",
    "def main():"
   ]
  },
  {
   "cell_type": "code",
   "execution_count": null,
   "id": "ffc3eed0",
   "metadata": {},
   "outputs": [],
   "source": [
    "# Open file in read only mode\n",
    "read_name = open('my_name.txt', 'r')"
   ]
  },
  {
   "cell_type": "code",
   "execution_count": null,
   "id": "9bea4767",
   "metadata": {},
   "outputs": [],
   "source": [
    "# Write code to display name from the file, display contents\n",
    "file_contents = read_name.read()\n",
    "print(file_contents)"
   ]
  },
  {
   "cell_type": "code",
   "execution_count": null,
   "id": "180a2d13",
   "metadata": {},
   "outputs": [],
   "source": [
    "# Close file once content was read\n",
    "read_name.close()"
   ]
  },
  {
   "cell_type": "code",
   "execution_count": null,
   "id": "8917803e",
   "metadata": {},
   "outputs": [],
   "source": [
    "# Call function to run \n",
    "main()"
   ]
  },
  {
   "cell_type": "code",
   "execution_count": 2,
   "id": "540660f7",
   "metadata": {},
   "outputs": [
    {
     "name": "stdout",
     "output_type": "stream",
     "text": [
      "Andrew Walker\n"
     ]
    }
   ],
   "source": [
    "# Incorparate together\n",
    "def main():\n",
    "    # Open file in read mode, set = to variable\n",
    "    read_name = open('my_name.txt', 'r')\n",
    "    # Read file contents\n",
    "    file_contents = read_name.read()\n",
    "    # Close file\n",
    "    read_name.close()\n",
    "    # Display content of file\n",
    "    print(file_contents)\n",
    "# Call funtion to run \n",
    "main()"
   ]
  },
  {
   "cell_type": "markdown",
   "id": "cf2d2efe",
   "metadata": {},
   "source": [
    "For this question I followed the textbook again 6.1. I first created a funtion (main) to create/hold the program. Next I had to open the file I created in question 1 of the algorithm workbench, file name my_name.txt. After had create a variable to read and remember the contents of that file. Once that was done I wrote code to close the file so the contents doesnt get edited or deleted. The question wants me to have the program to display the name so I wrote a print statement to print the variable that read and was holding the contents of the file. When all of that was completed I then only had to call upon the main funtion to run everything.  "
   ]
  },
  {
   "cell_type": "markdown",
   "id": "18c0e5f6",
   "metadata": {},
   "source": [
    "### Programming Exercises"
   ]
  },
  {
   "cell_type": "markdown",
   "id": "2b781514",
   "metadata": {},
   "source": [
    "#### Question 1 \n",
    "\n",
    "Assume a file containing a series of integers is named numbers.txt and exists on the computer’s disk. Write a program that displays all of the numbers in the file."
   ]
  },
  {
   "cell_type": "code",
   "execution_count": null,
   "id": "e3e55b58",
   "metadata": {},
   "outputs": [],
   "source": [
    "# Create function to call program\n",
    "def main():"
   ]
  },
  {
   "cell_type": "code",
   "execution_count": null,
   "id": "6cab4ec9",
   "metadata": {},
   "outputs": [],
   "source": [
    "# Create file named numbers.txt\n",
    "numbers = open('numbers.txt', 'w')"
   ]
  },
  {
   "cell_type": "code",
   "execution_count": null,
   "id": "4f4b54a2",
   "metadata": {},
   "outputs": [],
   "source": [
    "# Write series of integers in file, since its integers, have to convert to string\n",
    "integer = 0\n",
    "for integer in range(1,101):\n",
    "    numbers.write(str(integer))\n",
    "    print(integer)"
   ]
  },
  {
   "cell_type": "code",
   "execution_count": null,
   "id": "e3b60fee",
   "metadata": {},
   "outputs": [],
   "source": [
    "# Close the file\n",
    "numbers.close()"
   ]
  },
  {
   "cell_type": "code",
   "execution_count": null,
   "id": "3a43edc0",
   "metadata": {},
   "outputs": [],
   "source": [
    "# Call function \n",
    "main()"
   ]
  },
  {
   "cell_type": "code",
   "execution_count": null,
   "id": "bbd345d0",
   "metadata": {},
   "outputs": [],
   "source": [
    "# Incorparate together\n",
    "# Create funtion to call program to run\n",
    "def main():\n",
    "    # Create file, open to write in\n",
    "    numbers = open('numbers.txt', 'w')\n",
    "    # Variable set equal to 0\n",
    "    integer = 0\n",
    "    # Create running list 1 - 100\n",
    "    for integer in range(1,101):\n",
    "        # Print the list\n",
    "        print(integer)\n",
    "        # Write the list in file, converted to string, add \\n to make it a list from top down\n",
    "        numbers.write(str(integer) + '\\n')\n",
    "    # Close the file\n",
    "    numbers.close()\n",
    "# Call on file to run\n",
    "main()\n",
    "\n",
    "\n",
    "# I cleared the output to make the code look nicer. (output printed the number list)"
   ]
  },
  {
   "cell_type": "code",
   "execution_count": null,
   "id": "8a22560c",
   "metadata": {},
   "outputs": [],
   "source": [
    "# Create new function \n",
    "def main1():"
   ]
  },
  {
   "cell_type": "code",
   "execution_count": null,
   "id": "e3f818d4",
   "metadata": {},
   "outputs": [],
   "source": [
    "# Open the previous file in read only mode\n",
    "read_number_list = open('numbers.txt', 'r')"
   ]
  },
  {
   "cell_type": "code",
   "execution_count": null,
   "id": "d212c076",
   "metadata": {},
   "outputs": [],
   "source": [
    "# Write code to have variable read file contents\n",
    "file_contents = read_number_list.read()"
   ]
  },
  {
   "cell_type": "code",
   "execution_count": null,
   "id": "c630270f",
   "metadata": {},
   "outputs": [],
   "source": [
    "# Display contents of file\n",
    "print(file_contents)"
   ]
  },
  {
   "cell_type": "code",
   "execution_count": null,
   "id": "a8181535",
   "metadata": {},
   "outputs": [],
   "source": [
    "# Close file\n",
    "read_number_list.close()"
   ]
  },
  {
   "cell_type": "code",
   "execution_count": null,
   "id": "35a628b2",
   "metadata": {},
   "outputs": [],
   "source": [
    "# Run the program, call function\n",
    "main1()"
   ]
  },
  {
   "cell_type": "code",
   "execution_count": 2,
   "id": "4c1ed511",
   "metadata": {},
   "outputs": [
    {
     "name": "stdout",
     "output_type": "stream",
     "text": [
      "1\n",
      "2\n",
      "3\n",
      "4\n",
      "5\n",
      "6\n",
      "7\n",
      "8\n",
      "9\n",
      "10\n",
      "11\n",
      "12\n",
      "13\n",
      "14\n",
      "15\n",
      "16\n",
      "17\n",
      "18\n",
      "19\n",
      "20\n",
      "21\n",
      "22\n",
      "23\n",
      "24\n",
      "25\n",
      "26\n",
      "27\n",
      "28\n",
      "29\n",
      "30\n",
      "31\n",
      "32\n",
      "33\n",
      "34\n",
      "35\n",
      "36\n",
      "37\n",
      "38\n",
      "39\n",
      "40\n",
      "41\n",
      "42\n",
      "43\n",
      "44\n",
      "45\n",
      "46\n",
      "47\n",
      "48\n",
      "49\n",
      "50\n",
      "51\n",
      "52\n",
      "53\n",
      "54\n",
      "55\n",
      "56\n",
      "57\n",
      "58\n",
      "59\n",
      "60\n",
      "61\n",
      "62\n",
      "63\n",
      "64\n",
      "65\n",
      "66\n",
      "67\n",
      "68\n",
      "69\n",
      "70\n",
      "71\n",
      "72\n",
      "73\n",
      "74\n",
      "75\n",
      "76\n",
      "77\n",
      "78\n",
      "79\n",
      "80\n",
      "81\n",
      "82\n",
      "83\n",
      "84\n",
      "85\n",
      "86\n",
      "87\n",
      "88\n",
      "89\n",
      "90\n",
      "91\n",
      "92\n",
      "93\n",
      "94\n",
      "95\n",
      "96\n",
      "97\n",
      "98\n",
      "99\n",
      "100\n",
      "\n"
     ]
    }
   ],
   "source": [
    "# Incorporate together\n",
    "# Create function to run program\n",
    "def main1():\n",
    "    # New variable to open file in read only\n",
    "    read_number_list = open('numbers.txt', 'r')\n",
    "    # Create variable to read and contain contents of file\n",
    "    file_contents = read_number_list.read()\n",
    "    # Close the file \n",
    "    read_number_list.close()\n",
    "    # Display contents of file\n",
    "    print(file_contents)\n",
    "# Run function\n",
    "main1()"
   ]
  },
  {
   "cell_type": "markdown",
   "id": "825cc709",
   "metadata": {},
   "source": [
    "For this problem I incorporated question 1 and 2 from the algorithm workbench section, while adding new code to print the number list in the problem. I first start by creating a function to hold the main program and to store the file. Next I create a new file named numbers.txt accoring to the question, I made it with the 'w' so I can edit/create the file. For the next part I use code from the previous chapters to create a list of integers that the question wants us to display in this new file. I set an integer equal to 0, and wrote a for statment. For integer in range(1,101) print integer. This code will display a list of numbers from 1 - 100. Next I had to convert the code into a str since im writing numbers into a file. I went back to section 6.1 in our textbook to learn how to write and read numeric data. I didnt know if numbers.write(str(integer)) would work but I input it and it worked so I ran with it. Everything else is basically the same from question 2 of the algorithm workbench, inreguards to creating a new function to read and display the contents of file."
   ]
  },
  {
   "cell_type": "code",
   "execution_count": null,
   "id": "b4c55b97",
   "metadata": {},
   "outputs": [],
   "source": []
  }
 ],
 "metadata": {
  "kernelspec": {
   "display_name": "Python 3 (ipykernel)",
   "language": "python",
   "name": "python3"
  },
  "language_info": {
   "codemirror_mode": {
    "name": "ipython",
    "version": 3
   },
   "file_extension": ".py",
   "mimetype": "text/x-python",
   "name": "python",
   "nbconvert_exporter": "python",
   "pygments_lexer": "ipython3",
   "version": "3.11.4"
  }
 },
 "nbformat": 4,
 "nbformat_minor": 5
}
