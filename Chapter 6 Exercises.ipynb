{
 "cells": [
  {
   "cell_type": "markdown",
   "id": "c0328b96",
   "metadata": {},
   "source": [
    "# Chapter 6 Exercises"
   ]
  },
  {
   "cell_type": "markdown",
   "id": "94a0d8da",
   "metadata": {},
   "source": [
    "### Algorithm Workbench"
   ]
  },
  {
   "cell_type": "markdown",
   "id": "79cb2fc4",
   "metadata": {},
   "source": [
    "#### Question 1\n",
    "\n",
    "Write a program that opens an output file with the filename my_name.txt, writes your name to the file, then closes the file.   "
   ]
  },
  {
   "cell_type": "code",
   "execution_count": null,
   "id": "2cf09e75",
   "metadata": {},
   "outputs": [],
   "source": [
    "# Create a function \n",
    "def main():"
   ]
  },
  {
   "cell_type": "code",
   "execution_count": null,
   "id": "3dc9c2bd",
   "metadata": {},
   "outputs": [],
   "source": [
    "# Create / Open an output file \n",
    "my_name = open('my_name.txt', 'w')"
   ]
  },
  {
   "cell_type": "code",
   "execution_count": null,
   "id": "719bdc26",
   "metadata": {},
   "outputs": [],
   "source": [
    "# Write your name to the file\n",
    "my_name.write('Andrew Walker')"
   ]
  },
  {
   "cell_type": "markdown",
   "id": "6e6018b9",
   "metadata": {},
   "source": [
    "or"
   ]
  },
  {
   "cell_type": "code",
   "execution_count": null,
   "id": "816aaed2",
   "metadata": {},
   "outputs": [],
   "source": [
    "# Write your name to the file\n",
    "name = 'Andrew Walker'\n",
    "my_name.write(name)"
   ]
  },
  {
   "cell_type": "code",
   "execution_count": null,
   "id": "2d81136a",
   "metadata": {},
   "outputs": [],
   "source": [
    "# Close the file\n",
    "my_name.close()"
   ]
  },
  {
   "cell_type": "code",
   "execution_count": 1,
   "id": "1bd6965b",
   "metadata": {},
   "outputs": [],
   "source": [
    "# Incorparate together\n",
    "# Create funtion to open file\n",
    "def main():\n",
    "    # Open file\n",
    "    my_name = open('my_name.txt', 'w')\n",
    "    # Write name into file\n",
    "    name = 'Andrew Walker'\n",
    "    my_name.write(name)\n",
    "    # Close the file\n",
    "    my_name.close()\n",
    "# Call funtion\n",
    "main()"
   ]
  },
  {
   "cell_type": "markdown",
   "id": "d4350656",
   "metadata": {},
   "source": [
    "For this problem I first start by creating a function to hold the program in, call main. Next within that function I wrote code according to the question in the text book. I created a file named my_name.txt, within that file I wrote code to display my name, after I wrote code for the program to close while saving everything that was wrote. At the end I wrote main(), to call the function to run. The textbook 6.1 showed me how to do all of this."
   ]
  },
  {
   "cell_type": "markdown",
   "id": "47c40d1c",
   "metadata": {},
   "source": [
    "#### Question 2 \n",
    "\n",
    "Write a program that opens the my_name.txt file that was created by the program in problem 1, reads your name from the file, displays the name on the screen, then closes the file."
   ]
  },
  {
   "cell_type": "code",
   "execution_count": null,
   "id": "d75c31f1",
   "metadata": {},
   "outputs": [],
   "source": [
    "# Create function that opens my_name.txt file\n",
    "def main():"
   ]
  },
  {
   "cell_type": "code",
   "execution_count": null,
   "id": "940035da",
   "metadata": {},
   "outputs": [],
   "source": [
    "# Open file in read only mode\n",
    "read_name = open('my_name.txt', 'r')"
   ]
  },
  {
   "cell_type": "code",
   "execution_count": null,
   "id": "d8ea2536",
   "metadata": {},
   "outputs": [],
   "source": [
    "# Write code to display name from the file, display contents\n",
    "file_contents = read_name.read()\n",
    "print(file_contents)"
   ]
  },
  {
   "cell_type": "code",
   "execution_count": null,
   "id": "6c28cfee",
   "metadata": {},
   "outputs": [],
   "source": [
    "# Close file once content was read\n",
    "read_name.close()"
   ]
  },
  {
   "cell_type": "code",
   "execution_count": null,
   "id": "2b4a85bb",
   "metadata": {},
   "outputs": [],
   "source": [
    "# Call function to run \n",
    "main()"
   ]
  },
  {
   "cell_type": "code",
   "execution_count": 2,
   "id": "42fb2123",
   "metadata": {},
   "outputs": [
    {
     "name": "stdout",
     "output_type": "stream",
     "text": [
      "Andrew Walker\n"
     ]
    }
   ],
   "source": [
    "# Incorparate together\n",
    "def main():\n",
    "    # Open file in read mode, set = to variable\n",
    "    read_name = open('my_name.txt', 'r')\n",
    "    # Read file contents\n",
    "    file_contents = read_name.read()\n",
    "    # Close file\n",
    "    read_name.close()\n",
    "    # Display content of file\n",
    "    print(file_contents)\n",
    "# Call funtion to run \n",
    "main()"
   ]
  },
  {
   "cell_type": "markdown",
   "id": "4a5841e3",
   "metadata": {},
   "source": [
    "For this question I followed the textbook again 6.1. I first created a funtion (main) to create/hold the program. Next I had to open the file I created in question 1 of the algorithm workbench, file name my_name.txt. After had create a variable to read and remember the contents of that file. Once that was done I wrote code to close the file so the contents doesnt get edited or deleted. The question wants me to have the program to display the name so I wrote a print statement to print the variable that read and was holding the contents of the file. When all of that was completed I then only had to call upon the main funtion to run everything.  "
   ]
  },
  {
   "cell_type": "code",
   "execution_count": null,
   "id": "2dfc8710",
   "metadata": {},
   "outputs": [],
   "source": []
  }
 ],
 "metadata": {
  "kernelspec": {
   "display_name": "Python 3 (ipykernel)",
   "language": "python",
   "name": "python3"
  },
  "language_info": {
   "codemirror_mode": {
    "name": "ipython",
    "version": 3
   },
   "file_extension": ".py",
   "mimetype": "text/x-python",
   "name": "python",
   "nbconvert_exporter": "python",
   "pygments_lexer": "ipython3",
   "version": "3.11.4"
  }
 },
 "nbformat": 4,
 "nbformat_minor": 5
}
