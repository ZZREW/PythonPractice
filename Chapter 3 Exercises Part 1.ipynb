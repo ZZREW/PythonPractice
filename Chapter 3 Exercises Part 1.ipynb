{
 "cells": [
  {
   "cell_type": "markdown",
   "id": "ad2648f3",
   "metadata": {},
   "source": [
    "# Chapter 4 Exercises"
   ]
  },
  {
   "cell_type": "markdown",
   "id": "b03eb790",
   "metadata": {},
   "source": [
    "### Algorithm Workbench\n",
    "\n",
    "#### Question 1\n",
    "\n",
    "\n",
    "Write a  loop that lets the user enter a number. The number should be multiplied by 10, and the result assigned to a variable named product. The loop should iterate as long as product is less than 100."
   ]
  },
  {
   "cell_type": "code",
   "execution_count": null,
   "id": "151d8720",
   "metadata": {},
   "outputs": [],
   "source": [
    "# Prompt the user to enter in a number\n",
    "int(input('Enter in a nmuber '))"
   ]
  },
  {
   "cell_type": "code",
   "execution_count": null,
   "id": "6dfb1a54",
   "metadata": {},
   "outputs": [],
   "source": [
    "# Make the user input equal to a variable\n",
    "num = int(input('Enter in a nmuber '))"
   ]
  },
  {
   "cell_type": "code",
   "execution_count": null,
   "id": "5022cece",
   "metadata": {},
   "outputs": [],
   "source": [
    "# Multiply the number by 10\n",
    "num = int(input('Enter in a nmuber '))\n",
    "num * 10"
   ]
  },
  {
   "cell_type": "code",
   "execution_count": null,
   "id": "c9fd2667",
   "metadata": {},
   "outputs": [],
   "source": [
    "# Create print statment to display the result, make result variable named product\n",
    "num = int(input('Enter in a nmuber '))\n",
    "product = num * 10 \n",
    "print(product)"
   ]
  },
  {
   "cell_type": "code",
   "execution_count": null,
   "id": "c3675f4a",
   "metadata": {},
   "outputs": [],
   "source": [
    "# Write a while loop\n",
    "num = int(input('Enter in a nmuber '))\n",
    "product = num * 10 \n",
    "while product < 100: \n",
    "    print(product)"
   ]
  },
  {
   "cell_type": "markdown",
   "id": "b1bceaff",
   "metadata": {},
   "source": [
    "Yeah... I got an infinite loop trying this that slowed down my computer, dont think its right. ^"
   ]
  },
  {
   "cell_type": "code",
   "execution_count": null,
   "id": "c7c5975a",
   "metadata": {},
   "outputs": [],
   "source": [
    "# Write a while loop \n",
    "while product < 100: \n",
    "    print(product)\n",
    "    num = int(input('Enter in a nmuber '))\n",
    "    product = num * 10 "
   ]
  },
  {
   "cell_type": "code",
   "execution_count": null,
   "id": "08c18827",
   "metadata": {},
   "outputs": [],
   "source": [
    "# Make product = to 0, since the value will change when the program process\n",
    "product = 0\n",
    "while product < 100: \n",
    "    print(product)\n",
    "    num = int(input('Enter in a nmuber '))\n",
    "    product = num * 10 "
   ]
  },
  {
   "cell_type": "code",
   "execution_count": null,
   "id": "d2d80143",
   "metadata": {},
   "outputs": [],
   "source": [
    "# New variable, product, set equal to 0\n",
    "product = 0\n",
    "# Create while statement from textbook question\n",
    "while product < 100:\n",
    "# Have program display the product\n",
    "    print(product)\n",
    "# Make a user input equal to a variable\n",
    "    num = int(input('Enter in a nmuber '))\n",
    "# Create formula to find value of product\n",
    "    product = num * 10 "
   ]
  },
  {
   "cell_type": "markdown",
   "id": "080da04f",
   "metadata": {},
   "source": [
    "Went through the text book, and watcheed the walkthrough video to help me write the code. Went step by step, starting by having the program to ask the user to enter in a number, I then made tha user nmuber to be equal to a variale, which is num. Next I integrated a formula which I got from the question, says the number should be multiplied by 10. I made my equation = to the product variable as the question ask us to. I set the product equal to 0 then wrote a while statement. "
   ]
  },
  {
   "cell_type": "markdown",
   "id": "b3f4be58",
   "metadata": {},
   "source": [
    "#### Question 3\n",
    "\n",
    "Write a for (went back and typed in 'for') loop that displays the following set of numbers: \n",
    "\n",
    "0, 10, 20, 30, 40, 50 ... 1000"
   ]
  },
  {
   "cell_type": "code",
   "execution_count": null,
   "id": "2cb3de27",
   "metadata": {},
   "outputs": [],
   "source": [
    "# Create number variable, set equal to 0\n",
    "num = 0"
   ]
  },
  {
   "cell_type": "code",
   "execution_count": null,
   "id": "50d83a75",
   "metadata": {},
   "outputs": [],
   "source": [
    "# Write while statement to perfrom loop to 1000\n",
    "num = 0\n",
    "while num < 1001:\n",
    "    print(num)"
   ]
  },
  {
   "cell_type": "markdown",
   "id": "d1cec625",
   "metadata": {},
   "source": [
    "Didnt run code, it'll create an infinte loop"
   ]
  },
  {
   "cell_type": "code",
   "execution_count": 1,
   "id": "a604b7ad",
   "metadata": {},
   "outputs": [
    {
     "ename": "NameError",
     "evalue": "name 'num' is not defined",
     "output_type": "error",
     "traceback": [
      "\u001b[1;31m---------------------------------------------------------------------------\u001b[0m",
      "\u001b[1;31mNameError\u001b[0m                                 Traceback (most recent call last)",
      "Cell \u001b[1;32mIn[1], line 2\u001b[0m\n\u001b[0;32m      1\u001b[0m \u001b[38;5;66;03m# Make formula so num will increase by 10 each time\u001b[39;00m\n\u001b[1;32m----> 2\u001b[0m num \u001b[38;5;241m=\u001b[39m num \u001b[38;5;241m+\u001b[39m \u001b[38;5;241m10\u001b[39m\n",
      "\u001b[1;31mNameError\u001b[0m: name 'num' is not defined"
     ]
    }
   ],
   "source": [
    "# Make formula so num will increase by 10 each time\n",
    "num = num + 10"
   ]
  },
  {
   "cell_type": "code",
   "execution_count": 2,
   "id": "aeb03392",
   "metadata": {},
   "outputs": [
    {
     "name": "stdout",
     "output_type": "stream",
     "text": [
      "0\n",
      "10\n",
      "20\n",
      "30\n",
      "40\n",
      "50\n",
      "60\n",
      "70\n",
      "80\n",
      "90\n",
      "100\n",
      "110\n",
      "120\n",
      "130\n",
      "140\n",
      "150\n",
      "160\n",
      "170\n",
      "180\n",
      "190\n",
      "200\n",
      "210\n",
      "220\n",
      "230\n",
      "240\n",
      "250\n",
      "260\n",
      "270\n",
      "280\n",
      "290\n",
      "300\n",
      "310\n",
      "320\n",
      "330\n",
      "340\n",
      "350\n",
      "360\n",
      "370\n",
      "380\n",
      "390\n",
      "400\n",
      "410\n",
      "420\n",
      "430\n",
      "440\n",
      "450\n",
      "460\n",
      "470\n",
      "480\n",
      "490\n",
      "500\n",
      "510\n",
      "520\n",
      "530\n",
      "540\n",
      "550\n",
      "560\n",
      "570\n",
      "580\n",
      "590\n",
      "600\n",
      "610\n",
      "620\n",
      "630\n",
      "640\n",
      "650\n",
      "660\n",
      "670\n",
      "680\n",
      "690\n",
      "700\n",
      "710\n",
      "720\n",
      "730\n",
      "740\n",
      "750\n",
      "760\n",
      "770\n",
      "780\n",
      "790\n",
      "800\n",
      "810\n",
      "820\n",
      "830\n",
      "840\n",
      "850\n",
      "860\n",
      "870\n",
      "880\n",
      "890\n",
      "900\n",
      "910\n",
      "920\n",
      "930\n",
      "940\n",
      "950\n",
      "960\n",
      "970\n",
      "980\n",
      "990\n",
      "1000\n"
     ]
    }
   ],
   "source": [
    "# incorporate together\n",
    "num = 0\n",
    "while num < 1001:\n",
    "    print(num)\n",
    "    num = num + 10"
   ]
  },
  {
   "cell_type": "markdown",
   "id": "f064086c",
   "metadata": {},
   "source": [
    "I just realize the question ask to write a for loop. When I copy and paste the question over from pearson, the python highlighted word doesnt copy over so I thought the question just ask to write a loop. No worries, more practice for me. "
   ]
  },
  {
   "cell_type": "markdown",
   "id": "63a1500f",
   "metadata": {},
   "source": [
    "I'll still explain my process for this one. First I create a number variable equal to 0. The variable name is num. Next I wrote a while statement, While num < 1001:. I put 1001 and not 1000 because what ever number I write the program will stop just before it, espically learned that from the quiz. Then I wrote a print statement to display the variable. The quesion shows that everything should be counted by 10's so I wrote a formula num = num + 10. I coudldve also wrote it like this to save time; num += 10.  "
   ]
  },
  {
   "cell_type": "code",
   "execution_count": 3,
   "id": "e29311f7",
   "metadata": {},
   "outputs": [],
   "source": [
    "# Create new variable, set equal to 0\n",
    "num = 0"
   ]
  },
  {
   "cell_type": "code",
   "execution_count": 4,
   "id": "b0b45800",
   "metadata": {},
   "outputs": [
    {
     "ename": "SyntaxError",
     "evalue": "invalid syntax (1308827133.py, line 2)",
     "output_type": "error",
     "traceback": [
      "\u001b[1;36m  Cell \u001b[1;32mIn[4], line 2\u001b[1;36m\u001b[0m\n\u001b[1;33m    for num\u001b[0m\n\u001b[1;37m            ^\u001b[0m\n\u001b[1;31mSyntaxError\u001b[0m\u001b[1;31m:\u001b[0m invalid syntax\n"
     ]
    }
   ],
   "source": [
    "# Write for statment\n",
    "for num "
   ]
  },
  {
   "cell_type": "code",
   "execution_count": 5,
   "id": "6ab1f3ed",
   "metadata": {},
   "outputs": [
    {
     "ename": "SyntaxError",
     "evalue": "expected ':' (1011424428.py, line 3)",
     "output_type": "error",
     "traceback": [
      "\u001b[1;36m  Cell \u001b[1;32mIn[5], line 3\u001b[1;36m\u001b[0m\n\u001b[1;33m    for num in range\u001b[0m\n\u001b[1;37m                     ^\u001b[0m\n\u001b[1;31mSyntaxError\u001b[0m\u001b[1;31m:\u001b[0m expected ':'\n"
     ]
    }
   ],
   "source": [
    "# Set for statement in a range\n",
    "num = 0\n",
    "for num in range "
   ]
  },
  {
   "cell_type": "code",
   "execution_count": 6,
   "id": "e796d8af",
   "metadata": {},
   "outputs": [
    {
     "ename": "SyntaxError",
     "evalue": "incomplete input (3353595027.py, line 3)",
     "output_type": "error",
     "traceback": [
      "\u001b[1;36m  Cell \u001b[1;32mIn[6], line 3\u001b[1;36m\u001b[0m\n\u001b[1;33m    for num in range(0, 1000, 10):\u001b[0m\n\u001b[1;37m                                   ^\u001b[0m\n\u001b[1;31mSyntaxError\u001b[0m\u001b[1;31m:\u001b[0m incomplete input\n"
     ]
    }
   ],
   "source": [
    "# Set the range, use :\n",
    "num = 0 \n",
    "for num in range(0, 1000, 10): "
   ]
  },
  {
   "cell_type": "code",
   "execution_count": 7,
   "id": "8d8ae2c2",
   "metadata": {},
   "outputs": [
    {
     "name": "stdout",
     "output_type": "stream",
     "text": [
      "0\n",
      "10\n",
      "20\n",
      "30\n",
      "40\n",
      "50\n",
      "60\n",
      "70\n",
      "80\n",
      "90\n",
      "100\n",
      "110\n",
      "120\n",
      "130\n",
      "140\n",
      "150\n",
      "160\n",
      "170\n",
      "180\n",
      "190\n",
      "200\n",
      "210\n",
      "220\n",
      "230\n",
      "240\n",
      "250\n",
      "260\n",
      "270\n",
      "280\n",
      "290\n",
      "300\n",
      "310\n",
      "320\n",
      "330\n",
      "340\n",
      "350\n",
      "360\n",
      "370\n",
      "380\n",
      "390\n",
      "400\n",
      "410\n",
      "420\n",
      "430\n",
      "440\n",
      "450\n",
      "460\n",
      "470\n",
      "480\n",
      "490\n",
      "500\n",
      "510\n",
      "520\n",
      "530\n",
      "540\n",
      "550\n",
      "560\n",
      "570\n",
      "580\n",
      "590\n",
      "600\n",
      "610\n",
      "620\n",
      "630\n",
      "640\n",
      "650\n",
      "660\n",
      "670\n",
      "680\n",
      "690\n",
      "700\n",
      "710\n",
      "720\n",
      "730\n",
      "740\n",
      "750\n",
      "760\n",
      "770\n",
      "780\n",
      "790\n",
      "800\n",
      "810\n",
      "820\n",
      "830\n",
      "840\n",
      "850\n",
      "860\n",
      "870\n",
      "880\n",
      "890\n",
      "900\n",
      "910\n",
      "920\n",
      "930\n",
      "940\n",
      "950\n",
      "960\n",
      "970\n",
      "980\n",
      "990\n"
     ]
    }
   ],
   "source": [
    "# Create a print statement to display range\n",
    "num = 0 \n",
    "for num in range(0 , 1000, 10):\n",
    "    print(num)"
   ]
  },
  {
   "cell_type": "code",
   "execution_count": 8,
   "id": "b4efce23",
   "metadata": {},
   "outputs": [
    {
     "name": "stdout",
     "output_type": "stream",
     "text": [
      "0\n",
      "10\n",
      "20\n",
      "30\n",
      "40\n",
      "50\n",
      "60\n",
      "70\n",
      "80\n",
      "90\n",
      "100\n",
      "110\n",
      "120\n",
      "130\n",
      "140\n",
      "150\n",
      "160\n",
      "170\n",
      "180\n",
      "190\n",
      "200\n",
      "210\n",
      "220\n",
      "230\n",
      "240\n",
      "250\n",
      "260\n",
      "270\n",
      "280\n",
      "290\n",
      "300\n",
      "310\n",
      "320\n",
      "330\n",
      "340\n",
      "350\n",
      "360\n",
      "370\n",
      "380\n",
      "390\n",
      "400\n",
      "410\n",
      "420\n",
      "430\n",
      "440\n",
      "450\n",
      "460\n",
      "470\n",
      "480\n",
      "490\n",
      "500\n",
      "510\n",
      "520\n",
      "530\n",
      "540\n",
      "550\n",
      "560\n",
      "570\n",
      "580\n",
      "590\n",
      "600\n",
      "610\n",
      "620\n",
      "630\n",
      "640\n",
      "650\n",
      "660\n",
      "670\n",
      "680\n",
      "690\n",
      "700\n",
      "710\n",
      "720\n",
      "730\n",
      "740\n",
      "750\n",
      "760\n",
      "770\n",
      "780\n",
      "790\n",
      "800\n",
      "810\n",
      "820\n",
      "830\n",
      "840\n",
      "850\n",
      "860\n",
      "870\n",
      "880\n",
      "890\n",
      "900\n",
      "910\n",
      "920\n",
      "930\n",
      "940\n",
      "950\n",
      "960\n",
      "970\n",
      "980\n",
      "990\n",
      "1000\n"
     ]
    }
   ],
   "source": [
    "# Forgot to set range to 1001\n",
    "num = 0\n",
    "for num in range(0, 1001, 10):\n",
    "    print(num)"
   ]
  },
  {
   "cell_type": "code",
   "execution_count": 9,
   "id": "630fa5f7",
   "metadata": {},
   "outputs": [
    {
     "name": "stdout",
     "output_type": "stream",
     "text": [
      "0\n",
      "10\n",
      "20\n",
      "30\n",
      "40\n",
      "50\n",
      "60\n",
      "70\n",
      "80\n",
      "90\n",
      "100\n",
      "110\n",
      "120\n",
      "130\n",
      "140\n",
      "150\n",
      "160\n",
      "170\n",
      "180\n",
      "190\n",
      "200\n",
      "210\n",
      "220\n",
      "230\n",
      "240\n",
      "250\n",
      "260\n",
      "270\n",
      "280\n",
      "290\n",
      "300\n",
      "310\n",
      "320\n",
      "330\n",
      "340\n",
      "350\n",
      "360\n",
      "370\n",
      "380\n",
      "390\n",
      "400\n",
      "410\n",
      "420\n",
      "430\n",
      "440\n",
      "450\n",
      "460\n",
      "470\n",
      "480\n",
      "490\n",
      "500\n",
      "510\n",
      "520\n",
      "530\n",
      "540\n",
      "550\n",
      "560\n",
      "570\n",
      "580\n",
      "590\n",
      "600\n",
      "610\n",
      "620\n",
      "630\n",
      "640\n",
      "650\n",
      "660\n",
      "670\n",
      "680\n",
      "690\n",
      "700\n",
      "710\n",
      "720\n",
      "730\n",
      "740\n",
      "750\n",
      "760\n",
      "770\n",
      "780\n",
      "790\n",
      "800\n",
      "810\n",
      "820\n",
      "830\n",
      "840\n",
      "850\n",
      "860\n",
      "870\n",
      "880\n",
      "890\n",
      "900\n",
      "910\n",
      "920\n",
      "930\n",
      "940\n",
      "950\n",
      "960\n",
      "970\n",
      "980\n",
      "990\n",
      "1000\n"
     ]
    }
   ],
   "source": [
    "# Create vaurible = to 0\n",
    "num = 0\n",
    "# Write for statement and set range\n",
    "for num in range(0, 1001, 10):\n",
    "# Have program display the variable    \n",
    "    print(num)"
   ]
  },
  {
   "cell_type": "markdown",
   "id": "37337fd4",
   "metadata": {},
   "source": [
    "First I start by creating a number variable set to 0. The I print for statment and set range for the numbers I were aiming for. I use the following as the range (0, 1001, 10). 0 for the number I wanted to start from, 1001 to get to the number I wanted to end with, and 10 to increase value by 10 each time. Had the program to print the variable. "
   ]
  },
  {
   "cell_type": "markdown",
   "id": "f9a3f843",
   "metadata": {},
   "source": [
    "### Programming Exercises \n",
    "\n",
    "#### Question 1 \n",
    "\n",
    "Bug Collector\n",
    "\n",
    "A bug collector collects bugs every day for five days. Write a program that keeps a running total of the number of bugs collected during the five days. The loop should ask for the number of bugs collected for each day, and when the loop is finished, the program should display the total number of bugs collected. "
   ]
  },
  {
   "cell_type": "code",
   "execution_count": 10,
   "id": "a9e2b703",
   "metadata": {},
   "outputs": [],
   "source": [
    "# Set new variable to 0, as the accumlator\n",
    "total = 0"
   ]
  },
  {
   "cell_type": "code",
   "execution_count": 11,
   "id": "707aa6ae",
   "metadata": {},
   "outputs": [
    {
     "ename": "SyntaxError",
     "evalue": "invalid syntax (1545033746.py, line 2)",
     "output_type": "error",
     "traceback": [
      "\u001b[1;36m  Cell \u001b[1;32mIn[11], line 2\u001b[1;36m\u001b[0m\n\u001b[1;33m    in range(1, 6):\u001b[0m\n\u001b[1;37m    ^\u001b[0m\n\u001b[1;31mSyntaxError\u001b[0m\u001b[1;31m:\u001b[0m invalid syntax\n"
     ]
    }
   ],
   "source": [
    "# Set a range for bugs collected each day\n",
    "in range(1, 6):"
   ]
  },
  {
   "cell_type": "code",
   "execution_count": 12,
   "id": "796fec32",
   "metadata": {},
   "outputs": [
    {
     "ename": "SyntaxError",
     "evalue": "expected ':' (3538678736.py, line 2)",
     "output_type": "error",
     "traceback": [
      "\u001b[1;36m  Cell \u001b[1;32mIn[12], line 2\u001b[1;36m\u001b[0m\n\u001b[1;33m    for day in range(1, 6)\u001b[0m\n\u001b[1;37m                          ^\u001b[0m\n\u001b[1;31mSyntaxError\u001b[0m\u001b[1;31m:\u001b[0m expected ':'\n"
     ]
    }
   ],
   "source": [
    "# Create for statement, include range\n",
    "for day in range(1, 6)"
   ]
  },
  {
   "cell_type": "code",
   "execution_count": 13,
   "id": "540b5f1c",
   "metadata": {},
   "outputs": [
    {
     "ename": "NameError",
     "evalue": "name 'day' is not defined",
     "output_type": "error",
     "traceback": [
      "\u001b[1;31m---------------------------------------------------------------------------\u001b[0m",
      "\u001b[1;31mNameError\u001b[0m                                 Traceback (most recent call last)",
      "Cell \u001b[1;32mIn[13], line 2\u001b[0m\n\u001b[0;32m      1\u001b[0m \u001b[38;5;66;03m# Have program ask user for bugs collected, Set new variable for bugs, \u001b[39;00m\n\u001b[1;32m----> 2\u001b[0m \u001b[38;5;28mprint\u001b[39m(\u001b[38;5;124m'\u001b[39m\u001b[38;5;124mEnter bugs collected on\u001b[39m\u001b[38;5;124m'\u001b[39m, day)\n\u001b[0;32m      3\u001b[0m bugs \u001b[38;5;241m=\u001b[39m \u001b[38;5;28mint\u001b[39m(\u001b[38;5;28minput\u001b[39m())\n",
      "\u001b[1;31mNameError\u001b[0m: name 'day' is not defined"
     ]
    }
   ],
   "source": [
    "# Have program ask user for bugs collected, Set new variable for bugs, \n",
    "print('Enter bugs collected on', day)\n",
    "bugs = int(input())"
   ]
  },
  {
   "cell_type": "code",
   "execution_count": 14,
   "id": "4f5b7ecf",
   "metadata": {},
   "outputs": [
    {
     "name": "stdout",
     "output_type": "stream",
     "text": [
      "Enter bugs collected on 1\n",
      "5\n",
      "Enter bugs collected on 2\n",
      "3\n",
      "Enter bugs collected on 3\n",
      "8\n",
      "Enter bugs collected on 4\n",
      "7\n",
      "Enter bugs collected on 5\n",
      "1\n"
     ]
    }
   ],
   "source": [
    "# Combine \n",
    "total = 0\n",
    "for day in range(1, 6):\n",
    "    print('Enter bugs collected on', day)\n",
    "    bugs = int(input())"
   ]
  },
  {
   "cell_type": "code",
   "execution_count": 15,
   "id": "2f1a5331",
   "metadata": {},
   "outputs": [],
   "source": [
    "# Have program display total plus number collected \n",
    "total = total + bugs"
   ]
  },
  {
   "cell_type": "code",
   "execution_count": 16,
   "id": "39ff9267",
   "metadata": {},
   "outputs": [
    {
     "name": "stdout",
     "output_type": "stream",
     "text": [
      "1\n"
     ]
    }
   ],
   "source": [
    "# Have program print new total\n",
    "print(total)"
   ]
  },
  {
   "cell_type": "code",
   "execution_count": 17,
   "id": "7e523b7b",
   "metadata": {},
   "outputs": [
    {
     "name": "stdout",
     "output_type": "stream",
     "text": [
      "Enter bugs collected on day 1\n",
      "5\n",
      "Enter bugs collected on day 2\n",
      "3\n",
      "Enter bugs collected on day 3\n",
      "8\n",
      "Enter bugs collected on day 4\n",
      "7\n",
      "Enter bugs collected on day 5\n",
      "1\n",
      "24\n"
     ]
    }
   ],
   "source": [
    "# Set new variable = to 0 \n",
    "total = 0\n",
    "# Create range of days \n",
    "for day in range(1, 6):\n",
    "# Have program ask for bugs collect on each day\n",
    "    print('Enter bugs collected on day', day)\n",
    "# New variable bugs set equal to user input\n",
    "    bugs = int(input())\n",
    "# Have program add everything\n",
    "    total = total + bugs\n",
    "# Display total\n",
    "print(total)"
   ]
  },
  {
   "cell_type": "markdown",
   "id": "265dfa02",
   "metadata": {},
   "source": [
    "For the bug collector problem, I had help by watching the VideoNote 4-3 explaining the question. I start by creating a variable; total set equal to 0. Next I had to create a range of days, days 1 through 5 per the question. For each day I made the program ask the user how many bugs were collected that day in the form of a print statement. Created new variable; bugs which is equal to the user's input. The question wanted us to have a running total so all the bugs collected would be added up, I made the total = to total + bugs to add everything together then create a print statement to display. "
   ]
  }
 ],
 "metadata": {
  "kernelspec": {
   "display_name": "Python 3 (ipykernel)",
   "language": "python",
   "name": "python3"
  },
  "language_info": {
   "codemirror_mode": {
    "name": "ipython",
    "version": 3
   },
   "file_extension": ".py",
   "mimetype": "text/x-python",
   "name": "python",
   "nbconvert_exporter": "python",
   "pygments_lexer": "ipython3",
   "version": "3.11.4"
  }
 },
 "nbformat": 4,
 "nbformat_minor": 5
}
