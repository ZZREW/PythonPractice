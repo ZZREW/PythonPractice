{
 "cells": [
  {
   "cell_type": "markdown",
   "id": "67a90482",
   "metadata": {},
   "source": [
    "# Chapter 3 Exercises "
   ]
  },
  {
   "cell_type": "markdown",
   "id": "beee16d3",
   "metadata": {},
   "source": [
    "### Question 4\n",
    "\n",
    "The following code contains several nested  statements. Unfortunately, it was written without proper alignment and indentation. Rewrite the code and use the proper conventions of alignment and indentation.\n",
    "\n",
    "if score >= A_score:\n",
    "\n",
    "print('Your grade is A.') \n",
    "\n",
    "else: \n",
    "\n",
    "if score >= B_score: \n",
    "\n",
    "print('Your grade is B.') \n",
    "\n",
    "else: \n",
    "\n",
    "if score >= C_score:\n",
    "\n",
    "print('Your grade is C.') \n",
    "\n",
    "else: \n",
    "\n",
    "if score >= D_score: \n",
    "\n",
    "print('Your grade is D.') \n",
    "\n",
    "else: \n",
    "\n",
    "print('Your grade is F.')"
   ]
  },
  {
   "cell_type": "code",
   "execution_count": null,
   "id": "796810f4",
   "metadata": {},
   "outputs": [],
   "source": [
    "if score >= A_score:\n",
    "    print('Your grade is A.')\n",
    "else:\n",
    "    if score >= B_score:\n",
    "        print('Your grade is B.')\n",
    "    else:\n",
    "        if score >= C_score:\n",
    "            print('Your grade is C.')\n",
    "        else:\n",
    "            if score >= D_score:\n",
    "                print('Your grade is D.')\n",
    "            else:\n",
    "                print('Your grade is F.')"
   ]
  },
  {
   "cell_type": "markdown",
   "id": "1fb4c48d",
   "metadata": {},
   "source": [
    "According to the text book, it says to make sure each 'else' clause is aligned with its matching 'if' clause. The more if, else clauses use the further you have to indent. \n",
    "\n",
    "I aliged the first if, else statement, then the next... so on and so forth. \n",
    "\n",
    "I also made an exta indent for the print statement so it woudlnt align with the if, else clause. "
   ]
  },
  {
   "cell_type": "code",
   "execution_count": null,
   "id": "93b6b67e",
   "metadata": {},
   "outputs": [],
   "source": [
    "if score >= A_score:\n",
    "    print('Your grade is A.')\n",
    "elif score >= B_score:\n",
    "    print('Your grade is B.')\n",
    "elif score >= C_score:\n",
    "    print('Your grade is C.')\n",
    "elif score >= D_score:\n",
    "    print('Your grade is D.')\n",
    "else:\n",
    "    print('Your grade is F.')"
   ]
  },
  {
   "cell_type": "markdown",
   "id": "ed85bba7",
   "metadata": {},
   "source": [
    "Another way to correctly write the code is by using the if-elif-else statement. The book states it makes the if, else clause logic simpler to write. \n",
    "\n",
    "With the elif clause, we wouldnt have to indent any longer."
   ]
  },
  {
   "cell_type": "markdown",
   "id": "019a4b94",
   "metadata": {},
   "source": [
    "### Question 5\n",
    "\n",
    "Write nested decision structures that perform the following: If amount1 is greater than 10 and amount2 is less than 100, display the greater of amount1 and amount2."
   ]
  },
  {
   "cell_type": "code",
   "execution_count": 1,
   "id": "786f4414",
   "metadata": {},
   "outputs": [
    {
     "name": "stdout",
     "output_type": "stream",
     "text": [
      "Enter in amount number 1: 256\n",
      "Enter in amount nmuber 2: 9\n",
      "256\n"
     ]
    }
   ],
   "source": [
    "# new variables amount 1 and 2, set equal to whole number input from user\n",
    "amount1 = int(input('Enter in amount number 1: '))\n",
    "amount2 = int(input('Enter in amount nmuber 2: '))\n",
    "# insert formula, check amount 1 number, check amount 2 number\n",
    "if amount1 > 10 and amount2 < 100:\n",
    "# display amount 1 according to formula    \n",
    "    print(amount1)\n",
    "# display amount 2 according to formula \n",
    "else: print(amount2)"
   ]
  },
  {
   "cell_type": "markdown",
   "id": "78e18bef",
   "metadata": {},
   "source": [
    "I struggle with this question alot. It took alot of trial and error that I kept deleting and retrying. The wording of the question is what's throwing me off. Im still unsure if I did it correctly. \n",
    "\n",
    "My thought process for this is I needed to find out what amount 1 and 2 was. Nothing was giving for them, so I input a code for the program to ask me what amount 1 and 2 is, which would have me decide their values myself. \n",
    "\n",
    "Next I pretty much copy and paste the statement in the question (If amount1 is greater than 10 and amount2 is less than 100) in the way where python could read it.\n",
    "\n",
    "The question ask to display the greater of amount 1 and amount 2. This is what threw me off because amount 2 is less than 100 so why would it display it, since its not greater then 100. But I kept rereading the question and broke it down, I think its asking me to show if amount 1 is greater then amount 2 then print amount 1, but if amount 2 is greater than amount 1 then print amount 2. So which ever amount is bigger then print that amount. Im not sure if I explained that correctly but the code that I copied paste (if amount1 > 10 and amount2 < 100:) from the question and covert to python language, looks to be writen in the way to display the greater amount in the first place. "
   ]
  },
  {
   "cell_type": "markdown",
   "id": "eed3a2df",
   "metadata": {},
   "source": [
    "# Programming Exercises\n",
    "\n",
    "### Question 1\n",
    "Day of the Week\n",
    "\n",
    "Write a program that asks the user for a number in the range of 1 through 7. The program should display the corresponding day of the week, where 1 = Monday, 2 = Tuesday, 3 = Wednesday, 4 = Thursday, 5 = Friday, 6 = Saturday, and 7 = Sunday. The program should display an error message if the user enters a number that is outside the range of 1 through 7."
   ]
  },
  {
   "cell_type": "code",
   "execution_count": 2,
   "id": "3e32cfb1",
   "metadata": {},
   "outputs": [
    {
     "name": "stdout",
     "output_type": "stream",
     "text": [
      "Enter a number from 1-7 to know what day it is: 4\n",
      "thursday\n"
     ]
    }
   ],
   "source": [
    "# New variable day of the week, set equal to whole number input from user\n",
    "day_of_the_week = int(input('Enter a number from 1-7 to know what day it is: '))\n",
    "# check if variable is 1, if so print monday\n",
    "if day_of_the_week == 1: \n",
    "    print('monday')\n",
    "# check if varible is 2, if so print tuesday\n",
    "else:\n",
    "    if day_of_the_week == 2:\n",
    "        print('tuesday')\n",
    "# check if variable is 3, if so print wednesday        \n",
    "    else:\n",
    "        if day_of_the_week == 3:\n",
    "            print('wednesday')\n",
    "# check if variable is 4, if so print thursday            \n",
    "        else:\n",
    "            if day_of_the_week == 4:\n",
    "                print('thursday')\n",
    "# check if variable is 5, if so print friday                \n",
    "            else:\n",
    "                if day_of_the_week == 5:\n",
    "                    print('friday')\n",
    "# check if variable is 6, if so print saturday                    \n",
    "                else: \n",
    "                    if day_of_the_week == 6: \n",
    "                        print('saturday')\n",
    "# check if variable is 7, if so print sunday                    \n",
    "                    else:\n",
    "                        if day_of_the_week == 7:\n",
    "                            print('sunday')\n",
    "# print error for all other numbers                    \n",
    "                        else: \n",
    "                            print('error')"
   ]
  },
  {
   "cell_type": "markdown",
   "id": "22b0c502",
   "metadata": {},
   "source": [
    "For this problem, I set a variable (day of the week) to be equal to a number input. \n",
    "\n",
    "I want the program to ask me a question about what day of the week is it so in the input I wrote; Enter a number from 1-7 to know what day it is. The question said to write a program that ask the user for a nmuber in the range off  1 through 7.\n",
    "\n",
    "Then I wrote several if statements, if the day of the week (which is my variable) is equal to a number from 1 - 7, then that number is what day its is. 1 = monday, 2 = tuesday... etc etc. I made different lines for each statement. \n",
    "\n",
    "What ever number that the user I enter, I made the program print the day. And if a number fell out of 1-7 I made the program print error. "
   ]
  },
  {
   "cell_type": "markdown",
   "id": "d266e0a7",
   "metadata": {},
   "source": [
    "### Question 5"
   ]
  },
  {
   "cell_type": "markdown",
   "id": "e4b89ad9",
   "metadata": {},
   "source": [
    "Mass and Weight\n",
    "\n",
    "Scientists measure an object’s mass in kilograms and its weight in newtons. If you know the amount of mass of an object in kilograms, you can calculate its weight in newtons with the following formula:\n",
    "\n",
    "weight = mass * 9.8\n",
    "\n",
    "Write a program that asks the user to enter an object’s mass, then calculates its weight. If the object weighs more than 500 newtons, display a message indicating that it is too heavy. If the object weighs less than 100 newtons, display a message indicating that it is too light."
   ]
  },
  {
   "cell_type": "code",
   "execution_count": 3,
   "id": "2f573cc2",
   "metadata": {},
   "outputs": [
    {
     "name": "stdout",
     "output_type": "stream",
     "text": [
      "What is the mass of the object? 79\n",
      "Object is too heavy\n"
     ]
    }
   ],
   "source": [
    "# New variable mass\n",
    "# Ask user question, wait for whole number response\n",
    "mass = int(input('What is the mass of the object? '))\n",
    "# Insert new formula\n",
    "weight = mass * 9.8\n",
    "# check if weight greater then 500, if so print statement\n",
    "if weight > 500:\n",
    "    print('Object is too heavy')\n",
    "# check if weight less then 100, if so print print statement\n",
    "else: \n",
    "    if weight < 100: \n",
    "        print('Object is too light')\n",
    "# print weight variable\n",
    "    else: \n",
    "        print(weight)"
   ]
  },
  {
   "cell_type": "markdown",
   "id": "6f862ebb",
   "metadata": {},
   "source": [
    "First I start with writing a program that ask to enter an objects mass. Just like we did in chapter 2 exercises. So I set my variable to being mass. Mass is going to be equal to whatever input the user types. Im going to type an whole number so I made sure to write an interger then input. \n",
    "\n",
    "Next well have to find out what the weight is for the object. The question already gives us the formula to calculate weight. I wrote it in the way python understands. \n",
    "\n",
    "Then I wrote an if statement according to the question.  If the object weighs more than 500 newtons, display a message indicating that it is too heavy, so I wrote in code form; if weight is greater than 500, output object is too heavy, and viceversa for if the object being too light. "
   ]
  },
  {
   "cell_type": "markdown",
   "id": "280fff73",
   "metadata": {},
   "source": [
    "### Question 16\n",
    "\n",
    "Wi-Fi Diagnostic Tree\n",
    "\n",
    "Figure 3-21 shows a simplified flowchart for troubleshooting a bad Wi-Fi connection. Use the flowchart to create a program that leads a person through the steps of fixing a bad Wi-Fi connection. Here is an example of the program’s output:\n",
    "\n",
    "\n",
    "Reboot the computer and try to connect. \n",
    "\n",
    "Did that fix the problem? no [Enter] \n",
    "\n",
    "Reboot the router and try to connect. \n",
    "\n",
    "Did that fix the problem? yes [Enter]\n",
    "\n",
    "\n",
    "\n",
    "#### Notice the program ends as soon as a solution is found to the problem. Here is another example of the program’s output:\n",
    "\n",
    "\n",
    "\n",
    "\n",
    "Reboot the computer and try to connect. \n",
    "\n",
    "Did that fix the problem? no  [Enter] \n",
    "\n",
    "Reboot the router and try to connect. \n",
    "\n",
    "Did that fix the problem? no  [Enter] \n",
    "\n",
    "Make sure the cables between the router and modem are plugged in firmly. \n",
    "\n",
    "Did that fix the problem? no  [Enter] \n",
    "\n",
    "Move the router to a new location. \n",
    "\n",
    "Did that fix the problem? no  [Enter] \n",
    "\n",
    "Get a new router."
   ]
  },
  {
   "cell_type": "code",
   "execution_count": 4,
   "id": "915d2e14",
   "metadata": {},
   "outputs": [
    {
     "name": "stdout",
     "output_type": "stream",
     "text": [
      "Reboot the computer and try to connect.\n",
      "Did that fix the problem? no\n",
      "Reboot the router and try to connect.\n",
      "Did that fix the problem? no\n",
      "Make sure the cables between the router and modem are plugged in firmly.\n",
      "Did that fix the problem? no\n",
      "Move the router to a new location.\n",
      "Did that fix the problem? no\n",
      "Get a new router.\n"
     ]
    }
   ],
   "source": [
    "# print the following statement \n",
    "print('Reboot the computer and try to connect.')\n",
    "# new variable (response), repsonse will be user input  \n",
    "response = input('Did that fix the problem? ')\n",
    "# stop the program \n",
    "if response == 'yes':    \n",
    "    'end'\n",
    "# continue running the program, ask new question, wait for response\n",
    "else: \n",
    "    if response == 'no':\n",
    "        print('Reboot the router and try to connect.')\n",
    "        response = input('Did that fix the problem? ')\n",
    "        # continue running the program, ask new question, wait for response\n",
    "        if response == 'no':\n",
    "            print('Make sure the cables between the router and modem are plugged in firmly.')\n",
    "            response = input('Did that fix the problem? ')\n",
    "            # continue running the program, ask new question, wait for response\n",
    "            if response == 'no':\n",
    "                print('Move the router to a new location.')\n",
    "                response = input('Did that fix the problem? ')\n",
    "                # if respnse still no, print following \n",
    "                if response == 'no':\n",
    "                    print('Get a new router.')"
   ]
  },
  {
   "cell_type": "markdown",
   "id": "78d579d6",
   "metadata": {},
   "source": [
    "I spent about 5 hours trying to solve this problem. I had so many mistakes from, missing quotation marks, missing colons, writing unnecessary else statements, and having to many input statements to where i was being asked the same question twice. Here is an examples of the code I mess up on. "
   ]
  },
  {
   "cell_type": "markdown",
   "id": "ba2f4b2d",
   "metadata": {},
   "source": [
    "print('Reboot the computer and try to connect. '), \n",
    "input('Did that fix the problem? ')\n",
    "if 'no':\n",
    "    print('Reboot the router and try to connect.')\n",
    "    input('Did that fix the problem? ')\n",
    "    if 'no':\n",
    "        print('Make sure the cables between the router and modem are plugged in firmly.')\n",
    "        input('Did that fix the problem? ')\n",
    "        if 'no':\n",
    "            print('Move the router to a new location.')\n",
    "            input('Did that fix the problem? ')\n",
    "            if 'no':\n",
    "                print('Get a new router.')\n",
    "            else:\n",
    "                if 'yes':\n",
    "                    'end'\n",
    "        else:\n",
    "            if 'yes':\n",
    "                'end'\n",
    "    else: \n",
    "        if 'yes':\n",
    "            'end'\n",
    "else:\n",
    "    if 'yes':\n",
    "        'end'"
   ]
  },
  {
   "cell_type": "markdown",
   "id": "deb25840",
   "metadata": {},
   "source": [
    "My thought process this was, I knew I needed a print statement and an input statement. I need the program to ask me questions and wait for my response. For the print statements I use the questions that were in the figure 3-21 example, the same for the input statements. \n",
    "\n",
    "Next if what took me hours to figure out, I needed my program to know if I said 'no' to ask another question and if I said 'yes' to stop. Looking at the figure 3-21 diagram helped me lot again to know I needed a 'if this happens go this way, or if this happens to stop'. In order for that to happen I had to make, yes and no equal to something. So thats where I wrote if a variable being 'response'. I made it to where if the response variable was equal to yes, to stop. And if the response variable was equal to no then continue asking the questions. "
   ]
  },
  {
   "cell_type": "markdown",
   "id": "37771eab",
   "metadata": {},
   "source": [
    "### Question 15"
   ]
  },
  {
   "cell_type": "markdown",
   "id": "3f246c8d",
   "metadata": {},
   "source": [
    "February Days\n",
    "\n",
    "The month of February normally has 28 days. But if it is a leap year, February has 29 days. Write a program that asks the user to enter a year. The program should then display the number of days in February that year. Use the following criteria to identify leap years:\n",
    "\n",
    "Determine whether the year is divisible by 100. If it is, then it is a leap year if and only if it is also divisible by 400. For example, 2000 is a leap year, but 2100 is not.\n",
    "\n",
    "If the year is not divisible by 100, then it is a leap year if and only if it is divisible by 4. For example, 2008 is a leap year, but 2009 is not.\n",
    "\n",
    "Here is a sample run of the program:\n",
    "\n",
    "Enter a year: 2008\n",
    "\n",
    "In 2008 February has 29 days."
   ]
  },
  {
   "cell_type": "code",
   "execution_count": 4,
   "id": "bab97771",
   "metadata": {},
   "outputs": [
    {
     "name": "stdout",
     "output_type": "stream",
     "text": [
      "Enter in a year 2100\n",
      "In 2100 February has 28 days.\n"
     ]
    }
   ],
   "source": [
    "# prompt user to enter in a year \n",
    "year = int(input('Enter in a year '))\n",
    "# check if year is divisible by 100 and check if year is divisible by 400, if so leap year and print statement  \n",
    "if year % 100 == 0:\n",
    "    if year % 400 == 0:\n",
    "        print('In', year, 'February has 29 days.')\n",
    "# else display statement \n",
    "    else:\n",
    "        print('In', year, 'February has 28 days.') \n",
    "# check if year is dividible by 4, if so leap year and print statement\n",
    "else:\n",
    "    if year % 100 != 0 and year % 4 == 0:\n",
    "        print('In', year, 'February has 29 days.')\n",
    "# else display statement\n",
    "    else: \n",
    "        print('In', year, 'February has 28 days.') "
   ]
  },
  {
   "cell_type": "markdown",
   "id": "5137db6d",
   "metadata": {},
   "source": [
    "I used the walk through video to get this question started. I start by making the program ask the user a prompt to enter a year. The year here is my variable. It is equal to the user's input. \n",
    "\n",
    "Next I struggle with the word divisible. Not remembering it meant to have a 2 numbers divided by one another and the outcome is 0. The walkthrough video explained this to me. At first my formula setup was year / 100 == 0. This was not working for me so I went back to chapter 2, section 2.7 to make sure I was using the corrct sign for division. Reading table 2-3, I learned that I was using the wrong sign. I then change the formula to year // 100 == 0, which still wasnt working. I went back to the walkthrough video and professor hinted at if and only theres a remainder of 0. Table 2-3 shows that using % gets the remainder. So then I changed the formula to year % 100 == 0 which worked. \n",
    "\n",
    "Then I setup all the if, else statements accordingly to question 15 wording. "
   ]
  },
  {
   "cell_type": "code",
   "execution_count": null,
   "id": "d7841ba0",
   "metadata": {},
   "outputs": [],
   "source": []
  }
 ],
 "metadata": {
  "kernelspec": {
   "display_name": "Python 3 (ipykernel)",
   "language": "python",
   "name": "python3"
  },
  "language_info": {
   "codemirror_mode": {
    "name": "ipython",
    "version": 3
   },
   "file_extension": ".py",
   "mimetype": "text/x-python",
   "name": "python",
   "nbconvert_exporter": "python",
   "pygments_lexer": "ipython3",
   "version": "3.11.4"
  }
 },
 "nbformat": 4,
 "nbformat_minor": 5
}
