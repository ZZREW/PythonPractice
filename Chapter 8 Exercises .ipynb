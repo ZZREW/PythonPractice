{
 "cells": [
  {
   "cell_type": "markdown",
   "id": "e2cdf49f",
   "metadata": {},
   "source": [
    "# Chapter 8 Exercises "
   ]
  },
  {
   "cell_type": "markdown",
   "id": "39036e23",
   "metadata": {},
   "source": [
    "### Algorithm Workbench"
   ]
  },
  {
   "cell_type": "markdown",
   "id": "d2c756ba",
   "metadata": {},
   "source": [
    "#### Question 1\n",
    "\n",
    "Assume choice references a string. The following if statement determines whether choice is equal to ‘Y’ or ‘y’: \n",
    "\n",
    "if choice == 'Y' or choice == 'y':\n",
    "\n",
    "Rewrite this statement so it only makes one comparison, and does not use the  operator. (Hint: use either the upper or lower methods.)"
   ]
  },
  {
   "cell_type": "code",
   "execution_count": null,
   "id": "ed8c61b2",
   "metadata": {},
   "outputs": [],
   "source": [
    "# Rewrite code \n",
    "letters = 'Y'"
   ]
  },
  {
   "cell_type": "code",
   "execution_count": null,
   "id": "4ddeba4b",
   "metadata": {},
   "outputs": [],
   "source": [
    "# Print \n",
    "print(letters, letters.lower())"
   ]
  },
  {
   "cell_type": "code",
   "execution_count": 4,
   "id": "ce68ea75",
   "metadata": {},
   "outputs": [
    {
     "name": "stdout",
     "output_type": "stream",
     "text": [
      "Y y\n"
     ]
    }
   ],
   "source": [
    "# Set Y == the variable letters\n",
    "letters = 'Y'\n",
    "# Print letters, add letter.lower to make display show in lower case too\n",
    "print(letters, letters.lower())"
   ]
  },
  {
   "cell_type": "markdown",
   "id": "35b70189",
   "metadata": {},
   "source": [
    "#### Question 2\n",
    "\n",
    "Write a loop that counts the number of space characters that appear in the string referenced by mystring. \n",
    "\n",
    "ch = character"
   ]
  },
  {
   "cell_type": "code",
   "execution_count": null,
   "id": "5f563368",
   "metadata": {},
   "outputs": [],
   "source": [
    "# Create funtion \n",
    "def main():"
   ]
  },
  {
   "cell_type": "code",
   "execution_count": null,
   "id": "c37905f3",
   "metadata": {},
   "outputs": [],
   "source": [
    "# Set mystring == to a user input\n",
    "mystring = input('Write a sentence: ')"
   ]
  },
  {
   "cell_type": "code",
   "execution_count": null,
   "id": "4dc6d7e2",
   "metadata": {},
   "outputs": [],
   "source": [
    "# Set count == 0, holds the count  \n",
    "count = 0 "
   ]
  },
  {
   "cell_type": "code",
   "execution_count": null,
   "id": "2db3f010",
   "metadata": {},
   "outputs": [],
   "source": [
    "# Write for loop that counts spaces \n",
    "for ch in mystring:\n",
    "    if ch == \" \":\n",
    "        count += 1"
   ]
  },
  {
   "cell_type": "code",
   "execution_count": null,
   "id": "47454ef5",
   "metadata": {},
   "outputs": [],
   "source": [
    "# Display count result \n",
    "print(f'The number of spaces that appear in mystring are {count} times.')"
   ]
  },
  {
   "cell_type": "code",
   "execution_count": 5,
   "id": "a051109d",
   "metadata": {},
   "outputs": [
    {
     "name": "stdout",
     "output_type": "stream",
     "text": [
      "Write a sentence so the spaces can be counted: Learning to code is challenging, but with hard work and dedication, anything is possible!\n",
      "The number of spaces that appear in mystring are 13 times.\n"
     ]
    }
   ],
   "source": [
    "def main():\n",
    "    # Set count == 0, holds the count \n",
    "    count = 0\n",
    "    # Set mystring == to a user input\n",
    "    mystring = input('Write a sentence so the spaces can be counted: ')\n",
    "    # Write for loop that counts spaces\n",
    "    for ch in mystring:\n",
    "        if ch == ' ':\n",
    "            count += 1\n",
    "    # Display count result \n",
    "    print(f'The number of spaces that appear in mystring are {count} times.')\n",
    "# Call funtion to run\n",
    "main()"
   ]
  },
  {
   "cell_type": "markdown",
   "id": "23e8ec82",
   "metadata": {},
   "source": [
    "For this problem, I had to set the count to a variable which I named count, set it to 0 to start off with. For mystring I set it equal to a user input. Then I wrote a for loop to count the empty space characters in the sentence. I finally displayed it all. "
   ]
  },
  {
   "cell_type": "markdown",
   "id": "948a417b",
   "metadata": {},
   "source": [
    "### Programming Exercises\n",
    "\n",
    "Question 1"
   ]
  },
  {
   "cell_type": "markdown",
   "id": "f6083ea7",
   "metadata": {},
   "source": [
    " Initials\n",
    " \n",
    "Write a program that gets a string containing a person’s first, middle, and last names, and displays their first, middle, and last initials. For example, if the user enters John William Smith, the program should display J. W. S."
   ]
  },
  {
   "cell_type": "code",
   "execution_count": null,
   "id": "659f64ff",
   "metadata": {},
   "outputs": [],
   "source": [
    "# Create funtion \n",
    "def main():"
   ]
  },
  {
   "cell_type": "code",
   "execution_count": null,
   "id": "96b78c6a",
   "metadata": {},
   "outputs": [],
   "source": [
    "# Have user create a string for name\n",
    "full_name = 'John William Smith'"
   ]
  },
  {
   "cell_type": "code",
   "execution_count": null,
   "id": "05ca31d7",
   "metadata": {},
   "outputs": [],
   "source": [
    "# Print the initials of the name\n",
    "print(full_name[0], full_name[5], full_name[13])"
   ]
  },
  {
   "cell_type": "code",
   "execution_count": null,
   "id": "22b5d670",
   "metadata": {},
   "outputs": [],
   "source": [
    "# Call funtion to run\n",
    "main()"
   ]
  },
  {
   "cell_type": "code",
   "execution_count": 13,
   "id": "0e638a5c",
   "metadata": {},
   "outputs": [
    {
     "name": "stdout",
     "output_type": "stream",
     "text": [
      "J . W . S .\n"
     ]
    }
   ],
   "source": [
    "# Create funtion \n",
    "def main():\n",
    "    # Have user create a string for name\n",
    "    full_name = 'John William Smith'\n",
    "    # Print the initials of the name\n",
    "    print(full_name[0], '.', full_name[5], '.', full_name[13], '.')\n",
    "# Call funtion to run\n",
    "main()"
   ]
  },
  {
   "cell_type": "markdown",
   "id": "eb36106b",
   "metadata": {},
   "source": [
    "For this problem I set the name John William Smith to a variable, fullname. Next I simply wrote a print statment that counted the number of spaces that were within the full name and print the space containing each of the first letters of each name, first, middle and last. "
   ]
  },
  {
   "cell_type": "markdown",
   "id": "0fae29b9",
   "metadata": {},
   "source": [
    "Question 2\n",
    "\n",
    "Sum of Digits in a String\n",
    "\n",
    "Write a program that asks the user to enter a series of single-digit numbers with nothing separating them. The program should display the sum of all the single digit numbers in the string. For example, if the user enters 2514, the method should return 12, which is the sum of 2, 5, 1, and 4."
   ]
  },
  {
   "cell_type": "code",
   "execution_count": null,
   "id": "db5533ac",
   "metadata": {},
   "outputs": [],
   "source": [
    "# Create funtion \n",
    "def main():"
   ]
  },
  {
   "cell_type": "code",
   "execution_count": 27,
   "id": "e71b93e4",
   "metadata": {},
   "outputs": [
    {
     "name": "stdout",
     "output_type": "stream",
     "text": [
      "Enter a series of numbers: 987654321\n"
     ]
    }
   ],
   "source": [
    "# Have program ask user for series of nums\n",
    "nums = input('Enter a series of numbers: ')"
   ]
  },
  {
   "cell_type": "code",
   "execution_count": null,
   "id": "5ed23825",
   "metadata": {},
   "outputs": [],
   "source": [
    "# Set count to 0, holds the count\n",
    "count = 0"
   ]
  },
  {
   "cell_type": "code",
   "execution_count": null,
   "id": "be988af0",
   "metadata": {},
   "outputs": [],
   "source": [
    "# Write for loop to count the nums and add them\n",
    "for ch in nums:\n",
    "    count += int(ch)"
   ]
  },
  {
   "cell_type": "code",
   "execution_count": null,
   "id": "4c5c3be1",
   "metadata": {},
   "outputs": [],
   "source": [
    "# Display the count sum\n",
    "print('The sum of the numbers is' count)"
   ]
  },
  {
   "cell_type": "code",
   "execution_count": 42,
   "id": "15d131cb",
   "metadata": {},
   "outputs": [
    {
     "name": "stdout",
     "output_type": "stream",
     "text": [
      "The sum of the numbers is 45\n"
     ]
    },
    {
     "data": {
      "text/plain": [
       "'987654321'"
      ]
     },
     "execution_count": 42,
     "metadata": {},
     "output_type": "execute_result"
    }
   ],
   "source": [
    "# Create funtion \n",
    "def main(nums):\n",
    "    # Have program ask user for series of nums\n",
    "    nums = input('Enter a series of numbers: ')\n",
    "# Set count to 0, holds the count\n",
    "count = 0\n",
    "# Write for loop to count the nums and add them\n",
    "for ch in nums:\n",
    "    count += int(ch)\n",
    "# Display the count sum\n",
    "print('The sum of the numbers is', count)\n",
    "nums"
   ]
  },
  {
   "cell_type": "markdown",
   "id": "f0573c38",
   "metadata": {},
   "source": [
    "For this problem I set a variable; nums equal to the user input. I then set variable count to 0 to start off. Next I wrote a for loop to have the program count the characters which are numbers and add each of them up. "
   ]
  },
  {
   "cell_type": "markdown",
   "id": "8b1e66b8",
   "metadata": {},
   "source": [
    "Question 3\n",
    "\n",
    "Date Printer\n",
    "\n",
    "Write a program that reads a string from the user containing a date in the form mm/dd/yyyy. It should print the date in the format March 12, 2018."
   ]
  },
  {
   "cell_type": "code",
   "execution_count": null,
   "id": "70ec61ff",
   "metadata": {},
   "outputs": [],
   "source": [
    "# Set months to number \n",
    "def get_month_name(month):\n",
    "    months = ['January', 'February', 'March', 'April', 'May', 'June', 'July', 'August', 'September', 'October', 'November', 'December']\n",
    "    return months[month - 1]"
   ]
  },
  {
   "cell_type": "markdown",
   "id": "73058cf6",
   "metadata": {},
   "source": [
    "I gather the code above from chat gpt and our chapter 7 exercises. "
   ]
  },
  {
   "cell_type": "code",
   "execution_count": null,
   "id": "298e1dc9",
   "metadata": {},
   "outputs": [],
   "source": [
    "# Create funtion\n",
    "def main():"
   ]
  },
  {
   "cell_type": "code",
   "execution_count": 14,
   "id": "9303ed9b",
   "metadata": {},
   "outputs": [
    {
     "name": "stdout",
     "output_type": "stream",
     "text": [
      "Enter todays date in format mm/dd/yyyy: 11/19/2023\n"
     ]
    }
   ],
   "source": [
    "# Have user input date in form mm/dd/yyyy, set it equal to variable\n",
    "date = input('Enter todays date in format mm/dd/yyyy: ')"
   ]
  },
  {
   "cell_type": "code",
   "execution_count": null,
   "id": "17fc0fee",
   "metadata": {},
   "outputs": [],
   "source": [
    "# Split the date \n",
    "month, day, year = map(int, date.split('/'))"
   ]
  },
  {
   "cell_type": "code",
   "execution_count": null,
   "id": "1609f62c",
   "metadata": {},
   "outputs": [],
   "source": [
    "# Covert month # to month name\n",
    "month_name = get_month_name(month)"
   ]
  },
  {
   "cell_type": "code",
   "execution_count": null,
   "id": "09703e83",
   "metadata": {},
   "outputs": [],
   "source": [
    "# Display the date in the questions format \n",
    "print(month_name, day, ',', year)"
   ]
  },
  {
   "cell_type": "code",
   "execution_count": 25,
   "id": "8897058f",
   "metadata": {},
   "outputs": [
    {
     "name": "stdout",
     "output_type": "stream",
     "text": [
      "Enter todays date in format mm/dd/yyyy: 11/19/2023\n",
      "November 19 , 2023\n"
     ]
    }
   ],
   "source": [
    "# Set months to number under funtion \n",
    "def get_month_name(month):\n",
    "    months = ['January', 'February', 'March', 'April', 'May', 'June', 'July', 'August', 'September', 'October', 'November', 'December']\n",
    "    return months[month - 1]\n",
    "# New function \n",
    "def main():\n",
    "    # Have user input date in form mm/dd/yyyy, set it equal to variable\n",
    "    date = input('Enter todays date in format mm/dd/yyyy: ')\n",
    "    # Split the date \n",
    "    month, day, year = map(int, date.split('/'))\n",
    "    # Covert month # to month name\n",
    "    month_name = get_month_name(month)\n",
    "    # Display the date in the questions format \n",
    "    print(month_name, day, ',', year)\n",
    "main()"
   ]
  },
  {
   "cell_type": "markdown",
   "id": "810dbd2a",
   "metadata": {},
   "source": [
    "For this question I first made a funtion to have a list of months, and set it equal to a number that will be converted back to the month name. I then made a new funtion to get the date from the user, I then split it and set it equal to a the month, day, and year. At the end I had the program display in the format that the question was asking. "
   ]
  },
  {
   "cell_type": "markdown",
   "id": "704284d7",
   "metadata": {},
   "source": [
    "Question 4\n",
    "\n",
    "Morse Code Converter\n",
    "\n",
    "Morse code is a code where each letter of the English alphabet, each digit, and various punctuation characters are represented by a series of dots and dashes. Table 8-4 shows part of the code\n",
    "\n",
    "Write a program that asks the user to enter a string, then converts that string to Morse code."
   ]
  },
  {
   "cell_type": "code",
   "execution_count": null,
   "id": "e36e11ea",
   "metadata": {},
   "outputs": [],
   "source": [
    "# Create funtion to run code\n",
    "def main():"
   ]
  },
  {
   "cell_type": "code",
   "execution_count": 43,
   "id": "170ef5fb",
   "metadata": {},
   "outputs": [
    {
     "name": "stdout",
     "output_type": "stream",
     "text": [
      "Enter in a sentence: So this is how to interpret morse code.\n"
     ]
    }
   ],
   "source": [
    "# Prompt the user for input\n",
    "string = input('Enter in a sentence: ')"
   ]
  },
  {
   "cell_type": "code",
   "execution_count": null,
   "id": "a7bcd8b3",
   "metadata": {},
   "outputs": [],
   "source": [
    "morse_code = {' ': ' ', 'G': '– – .', 'Q': '– – . –', 'comma': '– – . . – –', 'H': '. . . .', 'R': '. – .', 'period': '. – . – . –', 'I': '. .', 'S': '. . .', 'question_mark': '. . – – . .', 'J': '. – – –', 'T': '–', 'A': '. –', 'K': '– . –', 'U': '. . –', 'B': '– . . .', 'L': '. – . .', 'V': '. . . –', 'C': '– . – .', 'M': '– –', 'W': '. – –', 'D': '– . .', 'N': '– .', 'X': '– . . –', 'E': '.', 'O': '– – –', 'Y': '– . –', 'F': '. . – .', 'P': '. – – .', 'Z': '– – . .'}"
   ]
  },
  {
   "cell_type": "code",
   "execution_count": null,
   "id": "77e6537f",
   "metadata": {},
   "outputs": [],
   "source": [
    "# Write for loop\n",
    "for ch in string:\n",
    "    if ch in string == ch in morse_code:\n",
    "        print(morse_code)"
   ]
  },
  {
   "cell_type": "code",
   "execution_count": 3,
   "id": "f3a2b444",
   "metadata": {},
   "outputs": [
    {
     "name": "stdout",
     "output_type": "stream",
     "text": [
      "Enter in a sentence: So this is how to interpret morse code\n"
     ]
    }
   ],
   "source": [
    "# Create funtion to run code\n",
    "def main():\n",
    "    # Prompt the user for input\n",
    "    string = input('Enter in a sentence: ')\n",
    "    # Morse code \n",
    "    morse_code = {' ': ' ', 'G': '– – .', 'Q': '– – . –', 'comma': '– – . . – –', 'H': '. . . .', 'R': '. – .', 'period': '. – . – . –', 'I': '. .', 'S': '. . .', 'question_mark': '. . – – . .', 'J': '. – – –', 'T': '–', 'A': '. –', 'K': '– . –', 'U': '. . –', 'B': '– . . .', 'L': '. – . .', 'V': '. . . –', 'C': '– . – .', 'M': '– –', 'W': '. – –', 'D': '– . .', 'N': '– .', 'X': '– . . –', 'E': '.', 'O': '– – –', 'Y': '– . –', 'F': '. . – .', 'P': '. – – .', 'Z': '– – . .'}\n",
    " # Write for loop\n",
    "for ch in string:\n",
    "    if ch in string == ch in morse_code:\n",
    "        print(morse_code)\n",
    "main()"
   ]
  },
  {
   "cell_type": "markdown",
   "id": "f3df822b",
   "metadata": {},
   "source": [
    "Below is not my code, its from Chat GPT\n",
    "\n",
    "I couldnt figure out what to do, so I ask AI and this is the code it came up with mix a little with mine. "
   ]
  },
  {
   "cell_type": "code",
   "execution_count": 1,
   "id": "0f07c317",
   "metadata": {},
   "outputs": [
    {
     "name": "stdout",
     "output_type": "stream",
     "text": [
      "Enter in a sentence: So this is how to interpret morse code.\n",
      "Morse Code: . . . – – –   – . . . . . . . . .   . . . . .   . . . . – – – . – –   – – – –   . . – . – . . – . . – – . . – . . –   – – – – – . – . . . . .   – . – . – – – – . . .\n"
     ]
    }
   ],
   "source": [
    "string = input('Enter in a sentence: ').upper()\n",
    "morse_code1 = {' ': ' ', 'G': '– – .', 'Q': '– – . –', 'comma': '– – . . – –', 'H': '. . . .', 'R': '. – .', 'period': '. – . – . –', 'I': '. .', 'S': '. . .', 'question_mark': '. . – – . .', 'J': '. – – –', 'T': '–', 'A': '. –', 'K': '– . –', 'U': '. . –', 'B': '– . . .', 'L': '. – . .', 'V': '. . . –', 'C': '– . – .', 'M': '– –', 'W': '. – –', 'D': '– . .', 'N': '– .', 'X': '– . . –', 'E': '.', 'O': '– – –', 'Y': '– . –', 'F': '. . – .', 'P': '. – – .', 'Z': '– – . .'}\n",
    "morse_code = [morse_code1[ch] for ch in string if ch in morse_code1]\n",
    "morse_code_string = ' '.join(morse_code)\n",
    "print('Morse Code:', morse_code_string)"
   ]
  },
  {
   "cell_type": "code",
   "execution_count": null,
   "id": "246b1328",
   "metadata": {},
   "outputs": [],
   "source": []
  }
 ],
 "metadata": {
  "kernelspec": {
   "display_name": "Python 3 (ipykernel)",
   "language": "python",
   "name": "python3"
  },
  "language_info": {
   "codemirror_mode": {
    "name": "ipython",
    "version": 3
   },
   "file_extension": ".py",
   "mimetype": "text/x-python",
   "name": "python",
   "nbconvert_exporter": "python",
   "pygments_lexer": "ipython3",
   "version": "3.11.4"
  }
 },
 "nbformat": 4,
 "nbformat_minor": 5
}
