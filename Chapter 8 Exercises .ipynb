{
 "cells": [
  {
   "cell_type": "markdown",
   "id": "e2cdf49f",
   "metadata": {},
   "source": [
    "# Chapter 8 Exercises "
   ]
  },
  {
   "cell_type": "markdown",
   "id": "39036e23",
   "metadata": {},
   "source": [
    "### Algorithm Workbench"
   ]
  },
  {
   "cell_type": "markdown",
   "id": "d2c756ba",
   "metadata": {},
   "source": [
    "#### Question 1\n",
    "\n",
    "Assume choice references a string. The following if statement determines whether choice is equal to ‘Y’ or ‘y’: \n",
    "\n",
    "if choice == 'Y' or choice == 'y':\n",
    "\n",
    "Rewrite this statement so it only makes one comparison, and does not use the  operator. (Hint: use either the upper or lower methods.)"
   ]
  },
  {
   "cell_type": "code",
   "execution_count": null,
   "id": "ed8c61b2",
   "metadata": {},
   "outputs": [],
   "source": [
    "# Rewrite code \n",
    "letters = 'Y'"
   ]
  },
  {
   "cell_type": "code",
   "execution_count": null,
   "id": "4ddeba4b",
   "metadata": {},
   "outputs": [],
   "source": [
    "# Print \n",
    "print(letters, letters.lower())"
   ]
  },
  {
   "cell_type": "code",
   "execution_count": 4,
   "id": "ce68ea75",
   "metadata": {},
   "outputs": [
    {
     "name": "stdout",
     "output_type": "stream",
     "text": [
      "Y y\n"
     ]
    }
   ],
   "source": [
    "# Set Y == the variable letters\n",
    "letters = 'Y'\n",
    "# Print letters, add letter.lower to make display show in lower case too\n",
    "print(letters, letters.lower())"
   ]
  },
  {
   "cell_type": "markdown",
   "id": "35b70189",
   "metadata": {},
   "source": [
    "#### Question 2\n",
    "\n",
    "Write a loop that counts the number of space characters that appear in the string referenced by mystring. \n",
    "\n",
    "ch = character"
   ]
  },
  {
   "cell_type": "code",
   "execution_count": null,
   "id": "5f563368",
   "metadata": {},
   "outputs": [],
   "source": [
    "# Create funtion \n",
    "def main():"
   ]
  },
  {
   "cell_type": "code",
   "execution_count": null,
   "id": "c1cd9783",
   "metadata": {},
   "outputs": [],
   "source": [
    "# Set mystring == to a user input\n",
    "mystring = input('Write a sentence: ')"
   ]
  },
  {
   "cell_type": "code",
   "execution_count": null,
   "id": "e44ce1a1",
   "metadata": {},
   "outputs": [],
   "source": [
    "# Set count == 0, holds the count  \n",
    "count = 0 "
   ]
  },
  {
   "cell_type": "code",
   "execution_count": null,
   "id": "981e4c58",
   "metadata": {},
   "outputs": [],
   "source": [
    "# Write for loop that counts spaces \n",
    "for ch in mystring:\n",
    "    if ch == \" \":\n",
    "        count += 1"
   ]
  },
  {
   "cell_type": "code",
   "execution_count": null,
   "id": "bfa081d2",
   "metadata": {},
   "outputs": [],
   "source": [
    "# Display count result \n",
    "print(f'The number of spaces that appear in mystring are {count} times.')"
   ]
  },
  {
   "cell_type": "code",
   "execution_count": 5,
   "id": "1d0946ce",
   "metadata": {},
   "outputs": [
    {
     "name": "stdout",
     "output_type": "stream",
     "text": [
      "Write a sentence so the spaces can be counted: Learning to code is challenging, but with hard work and dedication, anything is possible!\n",
      "The number of spaces that appear in mystring are 13 times.\n"
     ]
    }
   ],
   "source": [
    "def main():\n",
    "    # Set count == 0, holds the count \n",
    "    count = 0\n",
    "    # Set mystring == to a user input\n",
    "    mystring = input('Write a sentence so the spaces can be counted: ')\n",
    "    # Write for loop that counts spaces\n",
    "    for ch in mystring:\n",
    "        if ch == ' ':\n",
    "            count += 1\n",
    "    # Display count result \n",
    "    print(f'The number of spaces that appear in mystring are {count} times.')\n",
    "# Call funtion to run\n",
    "main()"
   ]
  },
  {
   "cell_type": "markdown",
   "id": "53364bd1",
   "metadata": {},
   "source": [
    "For this problem, I had to set the count to a variable which I named count, set it to 0 to start off with. For mystring I set it equal to a user input. Then I wrote a for loop to count the empty space characters in the sentence. I finally displayed it all. "
   ]
  }
 ],
 "metadata": {
  "kernelspec": {
   "display_name": "Python 3 (ipykernel)",
   "language": "python",
   "name": "python3"
  },
  "language_info": {
   "codemirror_mode": {
    "name": "ipython",
    "version": 3
   },
   "file_extension": ".py",
   "mimetype": "text/x-python",
   "name": "python",
   "nbconvert_exporter": "python",
   "pygments_lexer": "ipython3",
   "version": "3.11.4"
  }
 },
 "nbformat": 4,
 "nbformat_minor": 5
}
