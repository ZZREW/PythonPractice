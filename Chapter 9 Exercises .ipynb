{
 "cells": [
  {
   "cell_type": "markdown",
   "id": "771dd035",
   "metadata": {},
   "source": [
    "# Chapter 9 Exercises "
   ]
  },
  {
   "cell_type": "markdown",
   "id": "36bcb745",
   "metadata": {},
   "source": [
    "Programming Exercises\n",
    "\n",
    "Quesion 1 \n",
    "\n",
    "Course information\n",
    "\n",
    "Write a program that creates a dictionary containing course numbers and the room numbers of the rooms where the courses meet. The dictionary should have the following keyvalue pairs:\n",
    "\n",
    "CS101, 3004\n",
    "CS102, 4501\n",
    "CS103, 6755\n",
    "NT110, 1244\n",
    "CM241, 1411\n",
    "\n",
    "The program should also create a dictionary containing course numbers and the names of the instructors that teach each course. The dictionary should have the following key-value pairs:\n",
    "\n",
    "CS101, Haynes\n",
    "CS102, Alvarado\n",
    "CS103, Rich\n",
    "NT110, Burke\n",
    "CM241, Lee\n",
    "\n",
    "The program should also create a dictionary containing course numbers and the meeting times of each course. The dictionary should have the following key-value pairs:\n",
    "\n",
    "CS101, 8:00 a.m.\n",
    "CS102, 9:00 a.m.\n",
    "CS103, 10:00 a.m.\n",
    "NT110, 11:00 a.m.\n",
    "CM241, 1:00 p.m.\n",
    "\n",
    "The program should let the user enter a course number, then it should display the course’s room number, instructor, and meeting time."
   ]
  },
  {
   "cell_type": "code",
   "execution_count": null,
   "id": "05a9d4a2",
   "metadata": {},
   "outputs": [],
   "source": [
    "# Creating funtion, to run program\n",
    "def main():"
   ]
  },
  {
   "cell_type": "code",
   "execution_count": 1,
   "id": "fa2bb6dc",
   "metadata": {},
   "outputs": [],
   "source": [
    "# Create dict\n",
    "room_number_dict = {'CS101': '3004', 'CS102': '4501', 'CS103': '6755', 'NT110': '1244', 'CM241': '1411'}"
   ]
  },
  {
   "cell_type": "code",
   "execution_count": 2,
   "id": "ae3058d7",
   "metadata": {},
   "outputs": [],
   "source": [
    "# Create dict for courses\n",
    "instructor_dict = {'CS101': 'Haynes', 'CS102': 'Alvardo', 'CS103': 'Rich', 'NT110': 'Burke', 'CM241': 'Lee'}"
   ]
  },
  {
   "cell_type": "code",
   "execution_count": 3,
   "id": "377b1699",
   "metadata": {},
   "outputs": [],
   "source": [
    "# Create dict for courses\n",
    "meeting_times_dict = {'CS101': '8:00 a.m.', 'CS102': '9:00 a.m.', 'CS103': '10:00 a.m.', 'NT110': '11:00 a.m.', 'CM241': '1:00 p.m.'}"
   ]
  },
  {
   "cell_type": "code",
   "execution_count": 5,
   "id": "9bb762be",
   "metadata": {},
   "outputs": [
    {
     "name": "stdout",
     "output_type": "stream",
     "text": [
      "Enter in your course: cs101\n"
     ]
    }
   ],
   "source": [
    "# Prompt the user, enter in course\n",
    "course_information = input('Enter in your course: ').upper()"
   ]
  },
  {
   "cell_type": "code",
   "execution_count": 6,
   "id": "908ab3d8",
   "metadata": {},
   "outputs": [
    {
     "ename": "NameError",
     "evalue": "name 'instructor_dict' is not defined",
     "output_type": "error",
     "traceback": [
      "\u001b[0;31m---------------------------------------------------------------------------\u001b[0m",
      "\u001b[0;31mNameError\u001b[0m                                 Traceback (most recent call last)",
      "Cell \u001b[0;32mIn[6], line 1\u001b[0m\n\u001b[0;32m----> 1\u001b[0m \u001b[38;5;28;01mif\u001b[39;00m course_information \u001b[38;5;129;01min\u001b[39;00m room_number_dict \u001b[38;5;129;01mand\u001b[39;00m course_information \u001b[38;5;129;01min\u001b[39;00m instructor_dict \u001b[38;5;129;01mand\u001b[39;00m course_information \u001b[38;5;129;01min\u001b[39;00m meeting_times_dict:\n\u001b[1;32m      2\u001b[0m     \u001b[38;5;28mprint\u001b[39m(\u001b[38;5;124m'\u001b[39m\u001b[38;5;124mRoom number is\u001b[39m\u001b[38;5;124m'\u001b[39m, room_number_dict[course_information])\n\u001b[1;32m      3\u001b[0m     \u001b[38;5;28mprint\u001b[39m(\u001b[38;5;124m'\u001b[39m\u001b[38;5;124mThe instructor is\u001b[39m\u001b[38;5;124m'\u001b[39m, instructor_dict[courseinformation])\n",
      "\u001b[0;31mNameError\u001b[0m: name 'instructor_dict' is not defined"
     ]
    }
   ],
   "source": [
    "if course_information in room_number_dict and course_information in instructor_dict and course_information in meeting_times_dict:\n",
    "    print('Room number is', room_number_dict[course_information])\n",
    "    print('The instructor is', instructor_dict[course_information])\n",
    "    print('Meeting at', meeting_times_dict[course_information])"
   ]
  },
  {
   "cell_type": "code",
   "execution_count": 7,
   "id": "65ca845a",
   "metadata": {},
   "outputs": [
    {
     "name": "stdout",
     "output_type": "stream",
     "text": [
      "Room number is 3004\n",
      "The instructor is Haynes\n",
      "Meeting at 8:00 a.m.\n"
     ]
    }
   ],
   "source": [
    "# Create dict for courses\n",
    "room_number_dict = {'CS101': '3004', 'CS102': '4501', 'CS103': '6755', 'NT110': '1244', 'CM241': '1411'}\n",
    "# Create dict for courses\n",
    "instructor_dict = {'CS101': 'Haynes', 'CS102': 'Alvardo', 'CS103': 'Rich', 'NT110': 'Burke', 'CM241': 'Lee'}\n",
    "# Create dict for courses\n",
    "meeting_times_dict = {'CS101': '8:00 a.m.', 'CS102': '9:00 a.m.', 'CS103': '10:00 a.m.', 'NT110': '11:00 a.m.', 'CM241': '1:00 p.m.'}\n",
    "# Write statment to get course information\n",
    "if course_information in room_number_dict and course_information in instructor_dict and course_information in meeting_times_dict:\n",
    "    print('Room number is', room_number_dict[course_information])\n",
    "    print('The instructor is', instructor_dict[course_information])\n",
    "    print('Meeting at', meeting_times_dict[course_information])"
   ]
  },
  {
   "cell_type": "code",
   "execution_count": 5,
   "id": "edc6bdb1",
   "metadata": {
    "scrolled": false
   },
   "outputs": [
    {
     "name": "stdout",
     "output_type": "stream",
     "text": [
      "Enter in your course: cm241\n",
      "Room number is 1411\n",
      "The instructor is Lee\n",
      "Meeting at 1:00 p.m.\n"
     ]
    }
   ],
   "source": [
    "# Store program in a funtion\n",
    "def main():\n",
    "    # Create dict for courses\n",
    "    room_number_dict = {'CS101': '3004', 'CS102': '4501', 'CS103': '6755', 'NT110': '1244', 'CM241': '1411'}\n",
    "    # Create dict for courses\n",
    "    instructor_dict = {'CS101': 'Haynes', 'CS102': 'Alvardo', 'CS103': 'Rich', 'NT110': 'Burke', 'CM241': 'Lee'}\n",
    "    # Create dict for courses\n",
    "    meeting_times_dict = {'CS101': '8:00 a.m.', 'CS102': '9:00 a.m.', 'CS103': '10:00 a.m.', 'NT110': '11:00 a.m.', 'CM241': '1:00 p.m.'}\n",
    "    # Prompt the user, enter in course\n",
    "    course_information = input('Enter in your course: ').upper()\n",
    "    # Write statment to get course information\n",
    "    if course_information in room_number_dict and course_information in instructor_dict and course_information in meeting_times_dict:\n",
    "        print('Room number is', room_number_dict[course_information])\n",
    "        print('The instructor is', instructor_dict[course_information])\n",
    "        print('Meeting at', meeting_times_dict[course_information])\n",
    "# Call to run \n",
    "main()"
   ]
  },
  {
   "cell_type": "code",
   "execution_count": null,
   "id": "06bf0404",
   "metadata": {},
   "outputs": [],
   "source": []
  }
 ],
 "metadata": {
  "kernelspec": {
   "display_name": "Python 3 (ipykernel)",
   "language": "python",
   "name": "python3"
  },
  "language_info": {
   "codemirror_mode": {
    "name": "ipython",
    "version": 3
   },
   "file_extension": ".py",
   "mimetype": "text/x-python",
   "name": "python",
   "nbconvert_exporter": "python",
   "pygments_lexer": "ipython3",
   "version": "3.11.4"
  }
 },
 "nbformat": 4,
 "nbformat_minor": 5
}
