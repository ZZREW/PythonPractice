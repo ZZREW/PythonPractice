{
 "cells": [
  {
   "cell_type": "markdown",
   "id": "ecd5cd45",
   "metadata": {},
   "source": [
    "# Chapter 7 Exercises "
   ]
  },
  {
   "cell_type": "markdown",
   "id": "e6fbc62b",
   "metadata": {},
   "source": [
    "### Algorithm Workbench"
   ]
  },
  {
   "cell_type": "markdown",
   "id": "d36725d7",
   "metadata": {},
   "source": [
    "#### Question 1\n",
    "\n",
    "Write a statement that creates a list with the following strings:\n",
    "Einstein, Newton, Copernicus, Kepler"
   ]
  },
  {
   "cell_type": "code",
   "execution_count": 1,
   "id": "9e3a3ff5",
   "metadata": {
    "scrolled": true
   },
   "outputs": [],
   "source": [
    "# Write statement to create list \n",
    "names = ['Einstein', 'Newton', 'Copernicus', 'Kepler']"
   ]
  },
  {
   "cell_type": "code",
   "execution_count": 2,
   "id": "2d1795b0",
   "metadata": {
    "scrolled": true
   },
   "outputs": [
    {
     "name": "stdout",
     "output_type": "stream",
     "text": [
      "['Einstein', 'Newton', 'Copernicus', 'Kepler']\n"
     ]
    }
   ],
   "source": [
    "print(names)"
   ]
  },
  {
   "cell_type": "markdown",
   "id": "22cc2861",
   "metadata": {},
   "source": [
    "For this question I reviewed the first few sections of the textbook to learn how to create a list, and then display it. I set names which is my variable equal to a sequence of names given by the textbook. "
   ]
  },
  {
   "cell_type": "markdown",
   "id": "db96d30d",
   "metadata": {},
   "source": [
    "#### Question 2 \n",
    "\n",
    "Assume names references a list. Write a for loop that displays each element of the list."
   ]
  },
  {
   "cell_type": "code",
   "execution_count": 3,
   "id": "22e00338",
   "metadata": {
    "scrolled": true
   },
   "outputs": [
    {
     "name": "stdout",
     "output_type": "stream",
     "text": [
      "Einstein\n",
      "Newton\n",
      "Copernicus\n",
      "Kepler\n"
     ]
    }
   ],
   "source": [
    "# Write for loop that refernce list in pervious question.\n",
    "for name in names:\n",
    "    print(name)"
   ]
  },
  {
   "cell_type": "markdown",
   "id": "97f8bb21",
   "metadata": {},
   "source": [
    "With this question I use the example from the textbook 'Iterating over a list with the for loop' to learn how to use the for loop to display the list. "
   ]
  },
  {
   "cell_type": "markdown",
   "id": "7281567d",
   "metadata": {},
   "source": [
    "### Programming Exercises "
   ]
  },
  {
   "cell_type": "markdown",
   "id": "f8a9d169",
   "metadata": {},
   "source": [
    "#### Question 1 "
   ]
  },
  {
   "cell_type": "markdown",
   "id": "e811e312",
   "metadata": {},
   "source": [
    "Total Sales\n",
    "\n",
    "Design a program that asks the user to enter a store’s sales for each day of the week. The amounts should be stored in a list. Use a loop to calculate the total sales for the week and display the result."
   ]
  },
  {
   "cell_type": "code",
   "execution_count": null,
   "id": "60d87fa8",
   "metadata": {},
   "outputs": [],
   "source": [
    "# Create funtion to run code\n",
    "def main():"
   ]
  },
  {
   "cell_type": "code",
   "execution_count": null,
   "id": "0bc67708",
   "metadata": {},
   "outputs": [],
   "source": [
    "# Create list of days\n",
    "days = ['Monday', 'Tuesday', 'Wednesday', 'Thursday', 'Friday', 'Saturday', 'Sunday']"
   ]
  },
  {
   "cell_type": "code",
   "execution_count": null,
   "id": "4112a6c1",
   "metadata": {},
   "outputs": [],
   "source": [
    "# Set sales equal to 0, to created empty list \n",
    "total = [0]"
   ]
  },
  {
   "cell_type": "code",
   "execution_count": null,
   "id": "e75eec59",
   "metadata": {},
   "outputs": [],
   "source": [
    "# Create for loop for the days of the week\n",
    "for day in days:"
   ]
  },
  {
   "cell_type": "code",
   "execution_count": null,
   "id": "13ba6de8",
   "metadata": {},
   "outputs": [],
   "source": [
    "# Create variable equal to user input for sales for each day\n",
    "daily_sales = int(input(f'Enter the total sales for {day}: '))"
   ]
  },
  {
   "cell_type": "code",
   "execution_count": null,
   "id": "c65f02e6",
   "metadata": {},
   "outputs": [],
   "source": [
    "# Add sales up from list \n",
    "total.append(daily_sales)"
   ]
  },
  {
   "cell_type": "code",
   "execution_count": null,
   "id": "06072e90",
   "metadata": {},
   "outputs": [],
   "source": [
    "# Get sum off all sales, set equal to variable\n",
    "total_sales = sum(total)"
   ]
  },
  {
   "cell_type": "code",
   "execution_count": null,
   "id": "1646c8b6",
   "metadata": {},
   "outputs": [],
   "source": [
    "# Print total\n",
    "print(f'The total sales for the week are: ${total_sales.2f}')"
   ]
  },
  {
   "cell_type": "code",
   "execution_count": 1,
   "id": "9b738ef3",
   "metadata": {},
   "outputs": [
    {
     "name": "stdout",
     "output_type": "stream",
     "text": [
      "Enter the total sales for Monday : 2943\n",
      "Enter the total sales for Tuesday : 2482\n",
      "Enter the total sales for Wednesday : 3200\n",
      "Enter the total sales for Thursday : 3771\n",
      "Enter the total sales for Friday : 5902\n",
      "Enter the total sales for Saturday : 7691\n",
      "Enter the total sales for Sunday : 4231\n",
      "The total sales for the week are: $30220.00\n"
     ]
    }
   ],
   "source": [
    "# Create funtion to run code\n",
    "def main():\n",
    "    # Create list of days\n",
    "    days = ['Monday ', 'Tuesday ', 'Wednesday ', 'Thursday ', 'Friday ', 'Saturday ', 'Sunday ']\n",
    "    # Set sales equal to 0, create empty list \n",
    "    total = [0]\n",
    "    # Create for loop for the days of the week\n",
    "    for day in days:\n",
    "        # Create variable equal to user input for sales for each day\n",
    "        daily_sales = int(input(f'Enter the total sales for {day}: '))\n",
    "        # Add sales up from list \n",
    "        total.append(daily_sales)\n",
    "    # Get sum off all sales, set equal to variable\n",
    "    total_sales = sum(total)\n",
    "    # Print total\n",
    "    print(f'The total sales for the week are: ${total_sales:.2f}')\n",
    "# Call main to run code\n",
    "main()"
   ]
  },
  {
   "cell_type": "markdown",
   "id": "cfcbf7d7",
   "metadata": {},
   "source": [
    "For this problem I first created a funtion to hold the program, Next I created a list of days under a variable named days, I listed each day out. I then set an accumulator to variable total to keep count of input. The question ask to use a loop so I created a for statement to loop a prompt for the user to input a sale total for each day set equal to new variable, and went through each day via for day in day code. I then append the total for everything to be added up and then wrote code for the sum then printed it."
   ]
  },
  {
   "cell_type": "markdown",
   "id": "f064fdc6",
   "metadata": {},
   "source": [
    "#### Question 14\n",
    "\n",
    "Expense Pie Chart\n",
    "\n",
    "Create a text file that contains your expenses for last month in the following categories:  \n",
    "\n",
    "Rent\n",
    "\n",
    "Gas\n",
    "\n",
    "Food\n",
    "\n",
    "Clothing\n",
    "\n",
    "Car payment\n",
    "\n",
    "Misc\n",
    "\n",
    "Write a Python program that reads the data from the file and uses  to plot a pie chart showing how you spend your money."
   ]
  },
  {
   "cell_type": "code",
   "execution_count": null,
   "id": "9a9597a4",
   "metadata": {},
   "outputs": [],
   "source": []
  }
 ],
 "metadata": {
  "kernelspec": {
   "display_name": "Python 3 (ipykernel)",
   "language": "python",
   "name": "python3"
  },
  "language_info": {
   "codemirror_mode": {
    "name": "ipython",
    "version": 3
   },
   "file_extension": ".py",
   "mimetype": "text/x-python",
   "name": "python",
   "nbconvert_exporter": "python",
   "pygments_lexer": "ipython3",
   "version": "3.11.4"
  }
 },
 "nbformat": 4,
 "nbformat_minor": 5
}
