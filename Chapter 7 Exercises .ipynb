{
 "cells": [
  {
   "cell_type": "markdown",
   "id": "6241f57f",
   "metadata": {},
   "source": [
    "# Chapter 7 Exercises "
   ]
  },
  {
   "cell_type": "markdown",
   "id": "902c6d9f",
   "metadata": {},
   "source": [
    "### Algorithm Workbench"
   ]
  },
  {
   "cell_type": "markdown",
   "id": "2a2ca8b9",
   "metadata": {},
   "source": [
    "#### Question 1\n",
    "\n",
    "Write a statement that creates a list with the following strings:\n",
    "Einstein, Newton, Copernicus, Kepler"
   ]
  },
  {
   "cell_type": "code",
   "execution_count": 1,
   "id": "5b4a3b08",
   "metadata": {
    "scrolled": true
   },
   "outputs": [],
   "source": [
    "# Write statement to create list \n",
    "names = ['Einstein', 'Newton', 'Copernicus', 'Kepler']"
   ]
  },
  {
   "cell_type": "code",
   "execution_count": 2,
   "id": "754d1d0c",
   "metadata": {
    "scrolled": true
   },
   "outputs": [
    {
     "name": "stdout",
     "output_type": "stream",
     "text": [
      "['Einstein', 'Newton', 'Copernicus', 'Kepler']\n"
     ]
    }
   ],
   "source": [
    "print(names)"
   ]
  },
  {
   "cell_type": "markdown",
   "id": "8b39508f",
   "metadata": {},
   "source": [
    "For this question I reviewed the first few sections of the textbook to learn how to create a list, and then display it. I set names which is my variable equal to a sequence of names given by the textbook. "
   ]
  },
  {
   "cell_type": "markdown",
   "id": "1d589a1f",
   "metadata": {},
   "source": [
    "#### Question 2 \n",
    "\n",
    "Assume names references a list. Write a for loop that displays each element of the list."
   ]
  },
  {
   "cell_type": "code",
   "execution_count": 3,
   "id": "7b7c8d94",
   "metadata": {
    "scrolled": true
   },
   "outputs": [
    {
     "name": "stdout",
     "output_type": "stream",
     "text": [
      "Einstein\n",
      "Newton\n",
      "Copernicus\n",
      "Kepler\n"
     ]
    }
   ],
   "source": [
    "# Write for loop that refernce list in pervious question.\n",
    "for name in names:\n",
    "    print(name)"
   ]
  },
  {
   "cell_type": "markdown",
   "id": "16cc542d",
   "metadata": {},
   "source": [
    "With this question I use the example from the textbook 'Iterating over a list with the for loop' to learn how to use the for loop to display the list. "
   ]
  },
  {
   "cell_type": "markdown",
   "id": "604d1925",
   "metadata": {},
   "source": [
    "### Programming Exercises "
   ]
  },
  {
   "cell_type": "markdown",
   "id": "9519a94a",
   "metadata": {},
   "source": [
    "#### Question 1 "
   ]
  },
  {
   "cell_type": "markdown",
   "id": "f35605bb",
   "metadata": {},
   "source": [
    "Total Sales\n",
    "\n",
    "Design a program that asks the user to enter a store’s sales for each day of the week. The amounts should be stored in a list. Use a loop to calculate the total sales for the week and display the result."
   ]
  },
  {
   "cell_type": "code",
   "execution_count": null,
   "id": "b78bef59",
   "metadata": {},
   "outputs": [],
   "source": [
    "# Create funtion to run code\n",
    "def main():"
   ]
  },
  {
   "cell_type": "code",
   "execution_count": null,
   "id": "db8d8a43",
   "metadata": {},
   "outputs": [],
   "source": [
    "# Create list of days\n",
    "days = ['Monday', 'Tuesday', 'Wednesday', 'Thursday', 'Friday', 'Saturday', 'Sunday']"
   ]
  },
  {
   "cell_type": "code",
   "execution_count": null,
   "id": "477a0ae2",
   "metadata": {},
   "outputs": [],
   "source": [
    "# Set sales equal to 0, to created empty list \n",
    "total = [0]"
   ]
  },
  {
   "cell_type": "code",
   "execution_count": null,
   "id": "3ede3c3e",
   "metadata": {},
   "outputs": [],
   "source": [
    "# Create for loop for the days of the week\n",
    "for day in days:"
   ]
  },
  {
   "cell_type": "code",
   "execution_count": null,
   "id": "271e864a",
   "metadata": {},
   "outputs": [],
   "source": [
    "# Create variable equal to user input for sales for each day\n",
    "daily_sales = int(input(f'Enter the total sales for {day}: '))"
   ]
  },
  {
   "cell_type": "code",
   "execution_count": null,
   "id": "a46ef2ef",
   "metadata": {},
   "outputs": [],
   "source": [
    "# Add sales up from list \n",
    "total.append(daily_sales)"
   ]
  },
  {
   "cell_type": "code",
   "execution_count": null,
   "id": "7fbf7c20",
   "metadata": {},
   "outputs": [],
   "source": [
    "# Get sum off all sales, set equal to variable\n",
    "total_sales = sum(total)"
   ]
  },
  {
   "cell_type": "code",
   "execution_count": null,
   "id": "f00a2228",
   "metadata": {},
   "outputs": [],
   "source": [
    "# Print total\n",
    "print(f'The total sales for the week are: ${total_sales.2f}')"
   ]
  },
  {
   "cell_type": "code",
   "execution_count": 1,
   "id": "e725804b",
   "metadata": {},
   "outputs": [
    {
     "name": "stdout",
     "output_type": "stream",
     "text": [
      "Enter the total sales for Monday : 2943\n",
      "Enter the total sales for Tuesday : 2482\n",
      "Enter the total sales for Wednesday : 3200\n",
      "Enter the total sales for Thursday : 3771\n",
      "Enter the total sales for Friday : 5902\n",
      "Enter the total sales for Saturday : 7691\n",
      "Enter the total sales for Sunday : 4231\n",
      "The total sales for the week are: $30220.00\n"
     ]
    }
   ],
   "source": [
    "# Create funtion to run code\n",
    "def main():\n",
    "    # Create list of days\n",
    "    days = ['Monday ', 'Tuesday ', 'Wednesday ', 'Thursday ', 'Friday ', 'Saturday ', 'Sunday ']\n",
    "    # Set sales equal to 0, create empty list \n",
    "    total = [0]\n",
    "    # Create for loop for the days of the week\n",
    "    for day in days:\n",
    "        # Create variable equal to user input for sales for each day\n",
    "        daily_sales = int(input(f'Enter the total sales for {day}: '))\n",
    "        # Add sales up from list \n",
    "        total.append(daily_sales)\n",
    "    # Get sum off all sales, set equal to variable\n",
    "    total_sales = sum(total)\n",
    "    # Print total\n",
    "    print(f'The total sales for the week are: ${total_sales:.2f}')\n",
    "# Call main to run code\n",
    "main()"
   ]
  },
  {
   "cell_type": "markdown",
   "id": "b8dcda9d",
   "metadata": {},
   "source": [
    "For this problem I first created a funtion to hold the program, Next I created a list of days under a variable named days, I listed each day out. I then set an accumulator to variable total to keep count of input. The question ask to use a loop so I created a for statement to loop a prompt for the user to input a sale total for each day set equal to new variable, and went through each day via for day in day code. I then append the total for everything to be added up and then wrote code for the sum then printed it."
   ]
  },
  {
   "cell_type": "markdown",
   "id": "ec12f14f",
   "metadata": {},
   "source": [
    "#### Question 14\n",
    "\n",
    "Expense Pie Chart\n",
    "\n",
    "Create a text file that contains your expenses for last month in the following categories:  \n",
    "\n",
    "Rent\n",
    "\n",
    "Gas\n",
    "\n",
    "Food\n",
    "\n",
    "Clothing\n",
    "\n",
    "Car payment\n",
    "\n",
    "Misc\n",
    "\n",
    "Write a Python program that reads the data from the file and uses  to plot a pie chart showing how you spend your money."
   ]
  },
  {
   "cell_type": "code",
   "execution_count": null,
   "id": "872bf084",
   "metadata": {},
   "outputs": [],
   "source": [
    "# Create funtion to store file\n",
    "def main():"
   ]
  },
  {
   "cell_type": "code",
   "execution_count": null,
   "id": "d1ad7e46",
   "metadata": {},
   "outputs": [],
   "source": [
    "# Create and open file \n",
    "expense = open('expense.txt', 'w')"
   ]
  },
  {
   "cell_type": "code",
   "execution_count": null,
   "id": "301f64b6",
   "metadata": {},
   "outputs": [],
   "source": [
    "# Write expenses in file\n",
    "expense.write('Rent: 2300\\n')\n",
    "expense.write('Gas: 160\\n')\n",
    "expense.write('Food: 400\\n')\n",
    "expense.write('Clothing: 50\\n')\n",
    "expense.write('Car Payment: 392\\n')\n",
    "expense.write('Misc: 100\\n')"
   ]
  },
  {
   "cell_type": "code",
   "execution_count": null,
   "id": "1123069b",
   "metadata": {},
   "outputs": [],
   "source": [
    "# Close file\n",
    "expense.close()"
   ]
  },
  {
   "cell_type": "code",
   "execution_count": 1,
   "id": "d7dc2e29",
   "metadata": {},
   "outputs": [],
   "source": [
    "# Run to have the file set\n",
    "def main():\n",
    "    expense = open('expense.txt', 'w')\n",
    "    expense.write('Rent: 2300\\n')\n",
    "    expense.write('Gas: 160\\n')\n",
    "    expense.write('Food: 400\\n')\n",
    "    expense.write('Clothing: 50\\n')\n",
    "    expense.write('Car Payment: 392\\n')\n",
    "    expense.write('Misc: 100\\n')\n",
    "    expense.close()\n",
    "main()"
   ]
  },
  {
   "cell_type": "code",
   "execution_count": 2,
   "id": "c281942d",
   "metadata": {},
   "outputs": [
    {
     "name": "stdout",
     "output_type": "stream",
     "text": [
      "Rent: 2300\n",
      "Gas: 160\n",
      "Food: 400\n",
      "Clothing: 50\n",
      "Car Payment: 392\n",
      "Misc: 100\n",
      "\n"
     ]
    }
   ],
   "source": [
    "# Read and display file\n",
    "def main2():\n",
    "    # Open file in read mode, set = to variable\n",
    "    read_expense = open('expense.txt', 'r')\n",
    "    # Read file contents, set to variable\n",
    "    file_contents = read_expense.read()\n",
    "    # Close file\n",
    "    read_expense.close()\n",
    "    # Print contents\n",
    "    print(file_contents)\n",
    "# Run function\n",
    "main2()"
   ]
  },
  {
   "cell_type": "code",
   "execution_count": null,
   "id": "afa91e28",
   "metadata": {},
   "outputs": [],
   "source": [
    "# Import pie funtion\n",
    "import matplotlib.pyplot as plt"
   ]
  },
  {
   "cell_type": "code",
   "execution_count": null,
   "id": "5e2a3586",
   "metadata": {},
   "outputs": [],
   "source": [
    "# Create new funtion \n",
    "def main3():"
   ]
  },
  {
   "cell_type": "code",
   "execution_count": null,
   "id": "df3412ee",
   "metadata": {},
   "outputs": [],
   "source": [
    "# Open file \n",
    "with open('expense.txt', 'r') as expense_list:"
   ]
  },
  {
   "cell_type": "code",
   "execution_count": null,
   "id": "8fefb56b",
   "metadata": {},
   "outputs": [],
   "source": [
    "# Create value list\n",
    "expenses = []"
   ]
  },
  {
   "cell_type": "code",
   "execution_count": null,
   "id": "8721fa03",
   "metadata": {},
   "outputs": [],
   "source": [
    "# Create pie chart from file\n",
    "plt.pie(expenses)"
   ]
  },
  {
   "cell_type": "code",
   "execution_count": null,
   "id": "d8e6562e",
   "metadata": {},
   "outputs": [],
   "source": [
    "# Show chart\n",
    "plt.show()"
   ]
  },
  {
   "cell_type": "code",
   "execution_count": 19,
   "id": "566d5b96",
   "metadata": {},
   "outputs": [
    {
     "ename": "ValueError",
     "evalue": "could not convert string to float: 'Misc: 100\\n'",
     "output_type": "error",
     "traceback": [
      "\u001b[0;31m---------------------------------------------------------------------------\u001b[0m",
      "\u001b[0;31mValueError\u001b[0m                                Traceback (most recent call last)",
      "Cell \u001b[0;32mIn[19], line 9\u001b[0m\n\u001b[1;32m      7\u001b[0m     plt\u001b[38;5;241m.\u001b[39mpie(expenses)\n\u001b[1;32m      8\u001b[0m     plt\u001b[38;5;241m.\u001b[39mshow()\n\u001b[0;32m----> 9\u001b[0m main3()\n",
      "Cell \u001b[0;32mIn[19], line 7\u001b[0m, in \u001b[0;36mmain3\u001b[0;34m()\u001b[0m\n\u001b[1;32m      5\u001b[0m     \u001b[38;5;28;01mfor\u001b[39;00m line \u001b[38;5;129;01min\u001b[39;00m expense_list:\n\u001b[1;32m      6\u001b[0m         expenses \u001b[38;5;241m=\u001b[39m line\n\u001b[0;32m----> 7\u001b[0m plt\u001b[38;5;241m.\u001b[39mpie(expenses)\n\u001b[1;32m      8\u001b[0m plt\u001b[38;5;241m.\u001b[39mshow()\n",
      "File \u001b[0;32m~/anaconda3/lib/python3.11/site-packages/matplotlib/pyplot.py:2799\u001b[0m, in \u001b[0;36mpie\u001b[0;34m(x, explode, labels, colors, autopct, pctdistance, shadow, labeldistance, startangle, radius, counterclock, wedgeprops, textprops, center, frame, rotatelabels, normalize, hatch, data)\u001b[0m\n\u001b[1;32m   2792\u001b[0m \u001b[38;5;129m@_copy_docstring_and_deprecators\u001b[39m(Axes\u001b[38;5;241m.\u001b[39mpie)\n\u001b[1;32m   2793\u001b[0m \u001b[38;5;28;01mdef\u001b[39;00m \u001b[38;5;21mpie\u001b[39m(\n\u001b[1;32m   2794\u001b[0m         x, explode\u001b[38;5;241m=\u001b[39m\u001b[38;5;28;01mNone\u001b[39;00m, labels\u001b[38;5;241m=\u001b[39m\u001b[38;5;28;01mNone\u001b[39;00m, colors\u001b[38;5;241m=\u001b[39m\u001b[38;5;28;01mNone\u001b[39;00m, autopct\u001b[38;5;241m=\u001b[39m\u001b[38;5;28;01mNone\u001b[39;00m,\n\u001b[0;32m   (...)\u001b[0m\n\u001b[1;32m   2797\u001b[0m         textprops\u001b[38;5;241m=\u001b[39m\u001b[38;5;28;01mNone\u001b[39;00m, center\u001b[38;5;241m=\u001b[39m(\u001b[38;5;241m0\u001b[39m, \u001b[38;5;241m0\u001b[39m), frame\u001b[38;5;241m=\u001b[39m\u001b[38;5;28;01mFalse\u001b[39;00m,\n\u001b[1;32m   2798\u001b[0m         rotatelabels\u001b[38;5;241m=\u001b[39m\u001b[38;5;28;01mFalse\u001b[39;00m, \u001b[38;5;241m*\u001b[39m, normalize\u001b[38;5;241m=\u001b[39m\u001b[38;5;28;01mTrue\u001b[39;00m, hatch\u001b[38;5;241m=\u001b[39m\u001b[38;5;28;01mNone\u001b[39;00m, data\u001b[38;5;241m=\u001b[39m\u001b[38;5;28;01mNone\u001b[39;00m):\n\u001b[0;32m-> 2799\u001b[0m     \u001b[38;5;28;01mreturn\u001b[39;00m gca()\u001b[38;5;241m.\u001b[39mpie(\n\u001b[1;32m   2800\u001b[0m         x, explode\u001b[38;5;241m=\u001b[39mexplode, labels\u001b[38;5;241m=\u001b[39mlabels, colors\u001b[38;5;241m=\u001b[39mcolors,\n\u001b[1;32m   2801\u001b[0m         autopct\u001b[38;5;241m=\u001b[39mautopct, pctdistance\u001b[38;5;241m=\u001b[39mpctdistance, shadow\u001b[38;5;241m=\u001b[39mshadow,\n\u001b[1;32m   2802\u001b[0m         labeldistance\u001b[38;5;241m=\u001b[39mlabeldistance, startangle\u001b[38;5;241m=\u001b[39mstartangle,\n\u001b[1;32m   2803\u001b[0m         radius\u001b[38;5;241m=\u001b[39mradius, counterclock\u001b[38;5;241m=\u001b[39mcounterclock,\n\u001b[1;32m   2804\u001b[0m         wedgeprops\u001b[38;5;241m=\u001b[39mwedgeprops, textprops\u001b[38;5;241m=\u001b[39mtextprops, center\u001b[38;5;241m=\u001b[39mcenter,\n\u001b[1;32m   2805\u001b[0m         frame\u001b[38;5;241m=\u001b[39mframe, rotatelabels\u001b[38;5;241m=\u001b[39mrotatelabels, normalize\u001b[38;5;241m=\u001b[39mnormalize,\n\u001b[1;32m   2806\u001b[0m         hatch\u001b[38;5;241m=\u001b[39mhatch, \u001b[38;5;241m*\u001b[39m\u001b[38;5;241m*\u001b[39m({\u001b[38;5;124m\"\u001b[39m\u001b[38;5;124mdata\u001b[39m\u001b[38;5;124m\"\u001b[39m: data} \u001b[38;5;28;01mif\u001b[39;00m data \u001b[38;5;129;01mis\u001b[39;00m \u001b[38;5;129;01mnot\u001b[39;00m \u001b[38;5;28;01mNone\u001b[39;00m \u001b[38;5;28;01melse\u001b[39;00m {}))\n",
      "File \u001b[0;32m~/anaconda3/lib/python3.11/site-packages/matplotlib/__init__.py:1442\u001b[0m, in \u001b[0;36m_preprocess_data.<locals>.inner\u001b[0;34m(ax, data, *args, **kwargs)\u001b[0m\n\u001b[1;32m   1439\u001b[0m \u001b[38;5;129m@functools\u001b[39m\u001b[38;5;241m.\u001b[39mwraps(func)\n\u001b[1;32m   1440\u001b[0m \u001b[38;5;28;01mdef\u001b[39;00m \u001b[38;5;21minner\u001b[39m(ax, \u001b[38;5;241m*\u001b[39margs, data\u001b[38;5;241m=\u001b[39m\u001b[38;5;28;01mNone\u001b[39;00m, \u001b[38;5;241m*\u001b[39m\u001b[38;5;241m*\u001b[39mkwargs):\n\u001b[1;32m   1441\u001b[0m     \u001b[38;5;28;01mif\u001b[39;00m data \u001b[38;5;129;01mis\u001b[39;00m \u001b[38;5;28;01mNone\u001b[39;00m:\n\u001b[0;32m-> 1442\u001b[0m         \u001b[38;5;28;01mreturn\u001b[39;00m func(ax, \u001b[38;5;241m*\u001b[39m\u001b[38;5;28mmap\u001b[39m(sanitize_sequence, args), \u001b[38;5;241m*\u001b[39m\u001b[38;5;241m*\u001b[39mkwargs)\n\u001b[1;32m   1444\u001b[0m     bound \u001b[38;5;241m=\u001b[39m new_sig\u001b[38;5;241m.\u001b[39mbind(ax, \u001b[38;5;241m*\u001b[39margs, \u001b[38;5;241m*\u001b[39m\u001b[38;5;241m*\u001b[39mkwargs)\n\u001b[1;32m   1445\u001b[0m     auto_label \u001b[38;5;241m=\u001b[39m (bound\u001b[38;5;241m.\u001b[39marguments\u001b[38;5;241m.\u001b[39mget(label_namer)\n\u001b[1;32m   1446\u001b[0m                   \u001b[38;5;129;01mor\u001b[39;00m bound\u001b[38;5;241m.\u001b[39mkwargs\u001b[38;5;241m.\u001b[39mget(label_namer))\n",
      "File \u001b[0;32m~/anaconda3/lib/python3.11/site-packages/matplotlib/axes/_axes.py:3191\u001b[0m, in \u001b[0;36mAxes.pie\u001b[0;34m(self, x, explode, labels, colors, autopct, pctdistance, shadow, labeldistance, startangle, radius, counterclock, wedgeprops, textprops, center, frame, rotatelabels, normalize, hatch)\u001b[0m\n\u001b[1;32m   3188\u001b[0m \u001b[38;5;28mself\u001b[39m\u001b[38;5;241m.\u001b[39mset_aspect(\u001b[38;5;124m'\u001b[39m\u001b[38;5;124mequal\u001b[39m\u001b[38;5;124m'\u001b[39m)\n\u001b[1;32m   3189\u001b[0m \u001b[38;5;66;03m# The use of float32 is \"historical\", but can't be changed without\u001b[39;00m\n\u001b[1;32m   3190\u001b[0m \u001b[38;5;66;03m# regenerating the test baselines.\u001b[39;00m\n\u001b[0;32m-> 3191\u001b[0m x \u001b[38;5;241m=\u001b[39m np\u001b[38;5;241m.\u001b[39masarray(x, np\u001b[38;5;241m.\u001b[39mfloat32)\n\u001b[1;32m   3192\u001b[0m \u001b[38;5;28;01mif\u001b[39;00m x\u001b[38;5;241m.\u001b[39mndim \u001b[38;5;241m>\u001b[39m \u001b[38;5;241m1\u001b[39m:\n\u001b[1;32m   3193\u001b[0m     \u001b[38;5;28;01mraise\u001b[39;00m \u001b[38;5;167;01mValueError\u001b[39;00m(\u001b[38;5;124m\"\u001b[39m\u001b[38;5;124mx must be 1D\u001b[39m\u001b[38;5;124m\"\u001b[39m)\n",
      "\u001b[0;31mValueError\u001b[0m: could not convert string to float: 'Misc: 100\\n'"
     ]
    },
    {
     "data": {
      "image/png": "[encoded data removed]",
      "text/plain": [
       "<Figure size 640x480 with 1 Axes>"
      ]
     },
     "metadata": {},
     "output_type": "display_data"
    }
   ],
   "source": [
    "import matplotlib.pyplot as plt\n",
    "expenses = []\n",
    "def main3():\n",
    "    with open('expense.txt', 'r') as expense_list:\n",
    "        for line in expense_list:\n",
    "            expenses = line\n",
    "    plt.pie(expenses)\n",
    "    plt.show()\n",
    "main3()"
   ]
  },
  {
   "cell_type": "markdown",
   "id": "a59814d0",
   "metadata": {},
   "source": [
    "I couldnt figure out how to get this promblem to work, it seems I was on the right track but couldnt execute. "
   ]
  },
  {
   "cell_type": "markdown",
   "id": "35c13bed",
   "metadata": {},
   "source": [
    "#### Question 2 \n",
    "\n",
    "Lottery Number Generator\n",
    "\n",
    "\n",
    "Design a program that generates a seven-digit lottery number. The program should generate seven random numbers, each in the range of 0 through 9, and assign each number to a list element. (Random numbers were discussed in Chapter 5.) Then write another loop that displays the contents of the list."
   ]
  },
  {
   "cell_type": "code",
   "execution_count": null,
   "id": "918bf9c9",
   "metadata": {},
   "outputs": [],
   "source": [
    "# Funtion to run program\n",
    "def main()"
   ]
  },
  {
   "cell_type": "code",
   "execution_count": null,
   "id": "d1c0a574",
   "metadata": {},
   "outputs": [],
   "source": [
    "# Randomize numbers\n",
    "import random"
   ]
  },
  {
   "cell_type": "code",
   "execution_count": null,
   "id": "64caaf3e",
   "metadata": {},
   "outputs": [],
   "source": [
    "# Variable set equal to a list of 7 \n",
    "numbers = [0] * 7"
   ]
  },
  {
   "cell_type": "code",
   "execution_count": null,
   "id": "4ec6b0f1",
   "metadata": {},
   "outputs": [],
   "source": [
    "# Create range of numbers from 0 - 9 \n",
    "for index in range(7):\n",
    "    numbers[index] = random.randint(0, 9)"
   ]
  },
  {
   "cell_type": "code",
   "execution_count": null,
   "id": "58143b29",
   "metadata": {},
   "outputs": [],
   "source": [
    "# Display numbers\n",
    "print(numbers)"
   ]
  },
  {
   "cell_type": "code",
   "execution_count": 24,
   "id": "5af70a39",
   "metadata": {},
   "outputs": [
    {
     "name": "stdout",
     "output_type": "stream",
     "text": [
      "[5, 2, 6, 7, 9, 5, 2]\n"
     ]
    }
   ],
   "source": [
    "# Funtion to run program\n",
    "def main():\n",
    "# Randomize numbers\n",
    "    import random\n",
    "# Variable set equal to a list of 7 \n",
    "numbers = [0] * 7\n",
    "# Create range of numbers from 0 - 9 \n",
    "for index in range(7):\n",
    "    numbers[index] = random.randint(0, 9)\n",
    "# Display numbers\n",
    "print(numbers)\n",
    "# Run program\n",
    "main()"
   ]
  },
  {
   "cell_type": "markdown",
   "id": "b47f182f",
   "metadata": {},
   "source": [
    "For this promblem I followed the video note 7-2. I frist import random to randomize numbers needed for the lottery. Next I set numbers as the varible set equal to a list of 7. I set that list to be random numbers ranging from 0 - 9 and finally ran the problem and had it to display. "
   ]
  },
  {
   "cell_type": "markdown",
   "id": "5869d2ba",
   "metadata": {},
   "source": [
    "#### Question 3\n",
    "\n",
    "Rainfall Statistics\n",
    "\n",
    "Design a program that lets the user enter the total rainfall for each of 12 months into a list. The program should calculate and display the total rainfall for the year, the average monthly rainfall, the months with the highest and lowest amounts."
   ]
  },
  {
   "cell_type": "code",
   "execution_count": null,
   "id": "762695f0",
   "metadata": {},
   "outputs": [],
   "source": [
    "# Funtion to run code\n",
    "def rain():"
   ]
  },
  {
   "cell_type": "code",
   "execution_count": 25,
   "id": "6275cff8",
   "metadata": {},
   "outputs": [],
   "source": [
    "# Create list of months\n",
    "months = ['January', 'February', 'March', 'April', 'May', 'June', 'July', 'August', 'September', 'October', 'November', 'December']"
   ]
  },
  {
   "cell_type": "code",
   "execution_count": null,
   "id": "26d200c7",
   "metadata": {},
   "outputs": [],
   "source": [
    "# Accumulator, create list\n",
    "total = []"
   ]
  },
  {
   "cell_type": "code",
   "execution_count": null,
   "id": "a3c13ef6",
   "metadata": {},
   "outputs": [],
   "source": [
    "# Create for loop for the months of the year\n",
    "for month in months:\n",
    "    monthly_rainfall = int(input(f'Enter the total rainfall for {month}: '))\n",
    "    total.append(monthly_rainfall)"
   ]
  },
  {
   "cell_type": "code",
   "execution_count": null,
   "id": "6d38392f",
   "metadata": {},
   "outputs": [],
   "source": [
    "# Get sum off all rainfall, set equal to variable\n",
    "total_rain_fall = sum(total)"
   ]
  },
  {
   "cell_type": "code",
   "execution_count": null,
   "id": "e13fcbe6",
   "metadata": {},
   "outputs": [],
   "source": [
    "# Display total\n",
    "print(f'The total rainfall for the year is: {total_rain_fall:.2f}', 'inches of rain')"
   ]
  },
  {
   "cell_type": "code",
   "execution_count": null,
   "id": "0ad5c3a8",
   "metadata": {},
   "outputs": [],
   "source": [
    "# Run program\n",
    "rain()"
   ]
  },
  {
   "cell_type": "code",
   "execution_count": 30,
   "id": "8b13983b",
   "metadata": {},
   "outputs": [
    {
     "name": "stdout",
     "output_type": "stream",
     "text": [
      "Enter the total rainfall for January: 32\n",
      "Enter the total rainfall for February: 27\n",
      "Enter the total rainfall for March: 49\n",
      "Enter the total rainfall for April: 63\n",
      "Enter the total rainfall for May: 51\n",
      "Enter the total rainfall for June: 41\n",
      "Enter the total rainfall for July: 30\n",
      "Enter the total rainfall for August: 22\n",
      "Enter the total rainfall for September: 36\n",
      "Enter the total rainfall for October: 45\n",
      "Enter the total rainfall for November: 38\n",
      "Enter the total rainfall for December: 24\n",
      "The total rainfall for the year is: 458.00 inches of rain\n"
     ]
    }
   ],
   "source": [
    "# Funtion to run code\n",
    "def rain():\n",
    "    # Create list of months\n",
    "    months = ['January', 'February', 'March', 'April', 'May', 'June', 'July', 'August', 'September', 'October', 'November', 'December']\n",
    "    # Accumulator, create list\n",
    "    total = []\n",
    "    # Create for loop for the months of the year\n",
    "    for month in months:\n",
    "        monthly_rainfall = int(input(f'Enter the total rainfall for {month}: '))\n",
    "        total.append(monthly_rainfall)\n",
    "    # Get sum off all rainfall, set equal to variable\n",
    "    total_rain_fall = sum(total)\n",
    "    # Display total\n",
    "    print(f'The total rainfall for the year is: {total_rain_fall:.2f}', 'inches of rain')\n",
    "# Run program\n",
    "rain()"
   ]
  },
  {
   "cell_type": "code",
   "execution_count": null,
   "id": "10bd4865",
   "metadata": {},
   "outputs": [],
   "source": [
    "# Max month rainfall\n",
    "max_month = monthly_rainfall.month(max(monthly_rainfall)) + 1\n",
    "print(f'Month with the heighest amount of rainfall is: {max_month}')"
   ]
  },
  {
   "cell_type": "code",
   "execution_count": 32,
   "id": "7dd4cd28",
   "metadata": {
    "scrolled": true
   },
   "outputs": [
    {
     "name": "stdout",
     "output_type": "stream",
     "text": [
      "Enter the total rainfall for January: 1\n",
      "Enter the total rainfall for February: 2\n",
      "Enter the total rainfall for March: 3\n",
      "Enter the total rainfall for April: 4\n",
      "Enter the total rainfall for May: 5\n",
      "Enter the total rainfall for June: 6\n",
      "Enter the total rainfall for July: 7\n",
      "Enter the total rainfall for August: 8\n",
      "Enter the total rainfall for September: 9\n",
      "Enter the total rainfall for October: 10\n",
      "Enter the total rainfall for November: 11\n",
      "Enter the total rainfall for December: 12\n"
     ]
    },
    {
     "ename": "AttributeError",
     "evalue": "'int' object has no attribute 'month'",
     "output_type": "error",
     "traceback": [
      "\u001b[0;31m---------------------------------------------------------------------------\u001b[0m",
      "\u001b[0;31mAttributeError\u001b[0m                            Traceback (most recent call last)",
      "Cell \u001b[0;32mIn[32], line 19\u001b[0m\n\u001b[1;32m     17\u001b[0m     \u001b[38;5;28mprint\u001b[39m(\u001b[38;5;124mf\u001b[39m\u001b[38;5;124m'\u001b[39m\u001b[38;5;124mThe total rainfall for the year is: \u001b[39m\u001b[38;5;132;01m{\u001b[39;00mtotal_rain_fall\u001b[38;5;132;01m:\u001b[39;00m\u001b[38;5;124m.2f\u001b[39m\u001b[38;5;132;01m}\u001b[39;00m\u001b[38;5;124m'\u001b[39m, \u001b[38;5;124m'\u001b[39m\u001b[38;5;124minches of rain\u001b[39m\u001b[38;5;124m'\u001b[39m)\n\u001b[1;32m     18\u001b[0m \u001b[38;5;66;03m# Run program\u001b[39;00m\n\u001b[0;32m---> 19\u001b[0m rain()\n",
      "Cell \u001b[0;32mIn[32], line 14\u001b[0m, in \u001b[0;36mrain\u001b[0;34m()\u001b[0m\n\u001b[1;32m     12\u001b[0m total_rain_fall \u001b[38;5;241m=\u001b[39m \u001b[38;5;28msum\u001b[39m(total)\n\u001b[1;32m     13\u001b[0m \u001b[38;5;66;03m# Max month rainfall\u001b[39;00m\n\u001b[0;32m---> 14\u001b[0m max_month \u001b[38;5;241m=\u001b[39m monthly_rainfall\u001b[38;5;241m.\u001b[39mmonth(\u001b[38;5;28mmax\u001b[39m(monthly_rainfall)) \u001b[38;5;241m+\u001b[39m \u001b[38;5;241m1\u001b[39m\n\u001b[1;32m     15\u001b[0m \u001b[38;5;28mprint\u001b[39m(\u001b[38;5;124mf\u001b[39m\u001b[38;5;124m'\u001b[39m\u001b[38;5;124mMonth with the heighest amount of rainfall is: \u001b[39m\u001b[38;5;132;01m{\u001b[39;00mmax_month\u001b[38;5;132;01m}\u001b[39;00m\u001b[38;5;124m'\u001b[39m)\n\u001b[1;32m     16\u001b[0m \u001b[38;5;66;03m# Display total\u001b[39;00m\n",
      "\u001b[0;31mAttributeError\u001b[0m: 'int' object has no attribute 'month'"
     ]
    }
   ],
   "source": [
    "# Funtion to run code\n",
    "def rain():\n",
    "    # Create list of months\n",
    "    months = ['January', 'February', 'March', 'April', 'May', 'June', 'July', 'August', 'September', 'October', 'November', 'December']\n",
    "    # Accumulator, create list\n",
    "    total = []\n",
    "    # Create for loop for the months of the year\n",
    "    for month in months:\n",
    "        monthly_rainfall = int(input(f'Enter the total rainfall for {month}: '))\n",
    "        total.append(monthly_rainfall)\n",
    "    # Get sum off all rainfall, set equal to variable\n",
    "    total_rain_fall = sum(total)\n",
    "    # Max month rainfall\n",
    "    max_month = monthly_rainfall.month(max(monthly_rainfall)) + 1\n",
    "    print(f'Month with the heighest amount of rainfall is: {max_month}')\n",
    "    # Display total\n",
    "    print(f'The total rainfall for the year is: {total_rain_fall:.2f}', 'inches of rain')\n",
    "# Run program\n",
    "rain()"
   ]
  },
  {
   "cell_type": "markdown",
   "id": "c289d501",
   "metadata": {},
   "source": [
    "For this problem I incorporated my code from question 1, I had to add on the average, max month and min month, but the code I was inputing was not working. "
   ]
  },
  {
   "cell_type": "code",
   "execution_count": null,
   "id": "73664f5a",
   "metadata": {},
   "outputs": [],
   "source": []
  }
 ],
 "metadata": {
  "kernelspec": {
   "display_name": "Python 3 (ipykernel)",
   "language": "python",
   "name": "python3"
  },
  "language_info": {
   "codemirror_mode": {
    "name": "ipython",
    "version": 3
   },
   "file_extension": ".py",
   "mimetype": "text/x-python",
   "name": "python",
   "nbconvert_exporter": "python",
   "pygments_lexer": "ipython3",
   "version": "3.11.4"
  }
 },
 "nbformat": 4,
 "nbformat_minor": 5
}
