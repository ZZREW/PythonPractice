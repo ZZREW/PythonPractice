{
 "cells": [
  {
   "cell_type": "markdown",
   "id": "2ee0966a",
   "metadata": {},
   "source": [
    "# Chapter 7 Exercises "
   ]
  },
  {
   "cell_type": "markdown",
   "id": "c17f91cf",
   "metadata": {},
   "source": [
    "### Algorithm Workbench"
   ]
  },
  {
   "cell_type": "markdown",
   "id": "65d5b72b",
   "metadata": {},
   "source": [
    "#### Question 1\n",
    "\n",
    "Write a statement that creates a list with the following strings:\n",
    "Einstein, Newton, Copernicus, Kepler"
   ]
  },
  {
   "cell_type": "code",
   "execution_count": 1,
   "id": "f66f5559",
   "metadata": {},
   "outputs": [],
   "source": [
    "# Write statement to create list \n",
    "names = ['Einstein', 'Newton', 'Copernicus', 'Kepler']"
   ]
  },
  {
   "cell_type": "code",
   "execution_count": 2,
   "id": "56cb377a",
   "metadata": {},
   "outputs": [
    {
     "name": "stdout",
     "output_type": "stream",
     "text": [
      "['Einstein', 'Newton', 'Copernicus', 'Kepler']\n"
     ]
    }
   ],
   "source": [
    "print(names)"
   ]
  },
  {
   "cell_type": "markdown",
   "id": "449b672b",
   "metadata": {},
   "source": [
    "For this question I reviewed the first few sections of the textbook to learn how to create a list, and then display it. I set names which is my variable equal to a sequence of names given by the textbook. "
   ]
  },
  {
   "cell_type": "markdown",
   "id": "ac4b8b6c",
   "metadata": {},
   "source": [
    "#### Question 2 \n",
    "\n",
    "Assume names references a list. Write a for loop that displays each element of the list."
   ]
  },
  {
   "cell_type": "code",
   "execution_count": 3,
   "id": "298378ec",
   "metadata": {},
   "outputs": [
    {
     "name": "stdout",
     "output_type": "stream",
     "text": [
      "Einstein\n",
      "Newton\n",
      "Copernicus\n",
      "Kepler\n"
     ]
    }
   ],
   "source": [
    "# Write for loop that refernce list in pervious question.\n",
    "for name in names:\n",
    "    print(name)"
   ]
  },
  {
   "cell_type": "markdown",
   "id": "9d19e702",
   "metadata": {},
   "source": [
    "With this question I use the example from the textbook 'Iterating over a list with the for loop' to learn how to use the for loop to display the list. "
   ]
  },
  {
   "cell_type": "markdown",
   "id": "1af117e4",
   "metadata": {},
   "source": [
    "### Programming Exercises "
   ]
  },
  {
   "cell_type": "code",
   "execution_count": null,
   "id": "8ad2f301",
   "metadata": {},
   "outputs": [],
   "source": []
  }
 ],
 "metadata": {
  "kernelspec": {
   "display_name": "Python 3 (ipykernel)",
   "language": "python",
   "name": "python3"
  },
  "language_info": {
   "codemirror_mode": {
    "name": "ipython",
    "version": 3
   },
   "file_extension": ".py",
   "mimetype": "text/x-python",
   "name": "python",
   "nbconvert_exporter": "python",
   "pygments_lexer": "ipython3",
   "version": "3.11.4"
  }
 },
 "nbformat": 4,
 "nbformat_minor": 5
}
