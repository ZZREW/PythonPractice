{
 "cells": [
  {
   "cell_type": "markdown",
   "id": "ba581747",
   "metadata": {},
   "source": [
    "# Chapter 2 Exercises \n",
    "\n",
    "## Algorithm Workbench - Question 1\n",
    "\n",
    "#### Write Python code that prompts the user to enter his or her height and assigns the user’s input to a variable named."
   ]
  },
  {
   "cell_type": "code",
   "execution_count": 1,
   "id": "2afd061e",
   "metadata": {
    "scrolled": true
   },
   "outputs": [
    {
     "name": "stdout",
     "output_type": "stream",
     "text": [
      "Enter your height:72 inches\n"
     ]
    },
    {
     "data": {
      "text/plain": [
       "'72 inches'"
      ]
     },
     "execution_count": 1,
     "metadata": {},
     "output_type": "execute_result"
    }
   ],
   "source": [
    "input(\"Enter your height:\")"
   ]
  },
  {
   "cell_type": "markdown",
   "id": "1aa26aec",
   "metadata": {},
   "source": [
    "According to chapter 2 text, inorder to interact with your code, it requires an users input. The text book says; \"Input is any data that the program receives while it is running.\" So i'll enter intput() which is my function (a piece of prewritten code that performs an operation)."
   ]
  },
  {
   "cell_type": "code",
   "execution_count": 2,
   "id": "56bd8a81",
   "metadata": {
    "scrolled": false
   },
   "outputs": [
    {
     "name": "stdout",
     "output_type": "stream",
     "text": [
      "Enter your height:72 inches\n"
     ]
    },
    {
     "ename": "ValueError",
     "evalue": "invalid literal for int() with base 10: '72 inches'",
     "output_type": "error",
     "traceback": [
      "\u001b[0;31m---------------------------------------------------------------------------\u001b[0m",
      "\u001b[0;31mValueError\u001b[0m                                Traceback (most recent call last)",
      "Cell \u001b[0;32mIn[2], line 1\u001b[0m\n\u001b[0;32m----> 1\u001b[0m height \u001b[38;5;241m=\u001b[39m \u001b[38;5;28mint\u001b[39m(\u001b[38;5;28minput\u001b[39m(\u001b[38;5;124m'\u001b[39m\u001b[38;5;124mEnter your height:\u001b[39m\u001b[38;5;124m'\u001b[39m))\n\u001b[1;32m      2\u001b[0m \u001b[38;5;28mprint\u001b[39m(height)\n",
      "\u001b[0;31mValueError\u001b[0m: invalid literal for int() with base 10: '72 inches'"
     ]
    }
   ],
   "source": [
    "height = int(input('Enter your height:'))\n",
    "print(height)"
   ]
  },
  {
   "cell_type": "markdown",
   "id": "e67a6c43",
   "metadata": {},
   "source": [
    "Our assigment wants us to assign the user input to a variable name. Since its asking for our height, the variable name will be \"Height\". My height will equal the outcome of my input. I added \"int\" because in this case my height will be a whole number. If I did my height in cm, i'd have a decimal inwhich i'd use a float. "
   ]
  },
  {
   "cell_type": "markdown",
   "id": "be22c0a5",
   "metadata": {},
   "source": [
    "I believe I got an error because I typed the word inches at the end, I'll rerun the code without it. "
   ]
  },
  {
   "cell_type": "code",
   "execution_count": 3,
   "id": "bcbc3b21",
   "metadata": {
    "scrolled": true
   },
   "outputs": [
    {
     "name": "stdout",
     "output_type": "stream",
     "text": [
      "Enter your height:72\n",
      "72\n"
     ]
    }
   ],
   "source": [
    "height = int(input('Enter your height:'))\n",
    "print(height)"
   ]
  },
  {
   "cell_type": "markdown",
   "id": "5a47b276",
   "metadata": {},
   "source": [
    "Got it to work!! Gonna try to play around now"
   ]
  },
  {
   "cell_type": "code",
   "execution_count": 4,
   "id": "de400bd6",
   "metadata": {},
   "outputs": [
    {
     "name": "stdout",
     "output_type": "stream",
     "text": [
      "What is your name?Andrew\n",
      "Enter your height:72\n",
      "(name) is (height) inches tall\n"
     ]
    }
   ],
   "source": [
    "name = input('What is your name?')\n",
    "height = int(input('Enter your height:'))\n",
    "print('(name) is (height) inches tall')"
   ]
  },
  {
   "cell_type": "markdown",
   "id": "18f1cb6e",
   "metadata": {},
   "source": [
    "I'm actually unsure why the code didn't work, maybe you guys can tell me what I did wrong"
   ]
  },
  {
   "cell_type": "code",
   "execution_count": 5,
   "id": "93be2c67",
   "metadata": {},
   "outputs": [
    {
     "name": "stdout",
     "output_type": "stream",
     "text": [
      "What is your name?Andrew\n",
      "Enter your height:72\n",
      "Andrew is 72 inches tall\n"
     ]
    }
   ],
   "source": [
    "name = input('What is your name?')\n",
    "height = int(input('Enter your height:'))\n",
    "print(name, 'is', height, 'inches tall')"
   ]
  },
  {
   "cell_type": "markdown",
   "id": "0fa6c40a",
   "metadata": {},
   "source": [
    "Went back through the text, figured out i need some commas in there. Im sure theres a better way of writing that code to. "
   ]
  },
  {
   "cell_type": "markdown",
   "id": "d6cc0402",
   "metadata": {},
   "source": [
    "## Programming Exercises - Question 1\n",
    "\n",
    "#### Write a program that displays the following information for a student:  \n",
    "Name\n",
    "\n",
    "Address, with city, state, and ZIP\n",
    "\n",
    "Telephone number\n",
    "\n",
    "College major"
   ]
  },
  {
   "cell_type": "code",
   "execution_count": 6,
   "id": "e5e20740",
   "metadata": {},
   "outputs": [
    {
     "name": "stdout",
     "output_type": "stream",
     "text": [
      "What is the student name:Cameron Calero\n",
      "Enter current address:2045 Heliport LoopRiverfolk, IN 43286\n",
      "Enter your phone number:812-555-1212\n",
      "What is your major?Aviation Technician\n",
      "Student Information:\n",
      "Cameron Calero\n",
      "2045 Heliport LoopRiverfolk, IN 43286\n",
      "812-555-1212\n",
      "Aviation Technician\n"
     ]
    }
   ],
   "source": [
    "name = input('What is the student name:')\n",
    "address = input('Enter current address:')\n",
    "telephone_number = input('Enter your phone number:')\n",
    "college_major = input('What is your major?')\n",
    "print(\"Student Information:\")\n",
    "print(name)\n",
    "print(address)\n",
    "print(telephone_number)\n",
    "print(college_major)"
   ]
  },
  {
   "cell_type": "markdown",
   "id": "dac12240",
   "metadata": {},
   "source": [
    "For this problem I gave each variable a name, Student name = name, Student address = address, Student number = telephone_number, Student major = college_major. \n",
    "\n",
    "I put each variable = to an input because the assignment wants us to enter information in. \n",
    "\n",
    "To interact with the program, input() has to be written, within input I wrote the question I want the program to ask me. \n",
    "\n",
    "I also want the program to write back what I input so I put 'print' followed by the variable I want the program to print out. I added print(Student Information) as the title to what will be printed. We learned to use print in our first coding exercises "
   ]
  },
  {
   "cell_type": "markdown",
   "id": "bfe89008",
   "metadata": {},
   "source": [
    "## Question 13\n",
    "\n",
    "### A vineyard owner is planting several new rows of grapevines, and needs to know how many grapevines to plant in each row. She has determined that after measuring the length of a future row, she can use the following formula to calculate the number of vines that will fit in the row, along with the trellis end-post assemblies that will need to be constructed at each end of the row:\n",
    "\n",
    "V = R - 2E/S\n",
    "\n",
    "The terms in the formula are:\n",
    "\n",
    "V is the number of grapevines that will fit in the row.\n",
    "\n",
    "R is the length of the row, in feet.\n",
    "\n",
    "E is the amount of space, in feet, used by an end-post assembly.\n",
    "\n",
    "S is the space between vines, in feet.\n",
    "\n",
    "### Write a program that makes the calculation for the vineyard owner. The program should ask the user to input the following:  \n",
    "\n",
    "The length of the row, in feet\n",
    "\n",
    "The amount of space used by an end-post assembly, in feet\n",
    "\n",
    "The amount of space between the vines, in feet\n",
    "\n",
    "Once the input data has been entered, the program should calculate and display the number of grapevines that will fit in the row."
   ]
  },
  {
   "cell_type": "code",
   "execution_count": 1,
   "id": "6ddfecec",
   "metadata": {},
   "outputs": [
    {
     "name": "stdout",
     "output_type": "stream",
     "text": [
      "Enter length of the row, in feet:4534\n",
      "Enter the amount of space used by an end-post assembly, in feet:543\n",
      "Enter the amount of space between the vines, in feet:34.5\n",
      "99.94202898550725\n"
     ]
    }
   ],
   "source": [
    "r = float(input('Enter length of the row, in feet:'))\n",
    "e = float(input('Enter the amount of space used by an end-post assembly, in feet:'))\n",
    "s = float(input('Enter the amount of space between the vines, in feet:'))\n",
    "v = (r - 2 * e) / s\n",
    "print(v)"
   ]
  },
  {
   "cell_type": "markdown",
   "id": "6370366c",
   "metadata": {},
   "source": [
    "For this code I first wrote out all of the variable's, what each one was equal to. So I basically copied and pasted from the text book becasue it gives us the variables, r,e, and s. \n",
    "\n",
    "The vairables are equal to whatever input I create, so I wrote down for the program to ask me what each varible was. Thats where you see \"Enter the 'blank' in feet\" \n",
    "\n",
    "I use a float() instead of a int() because with this type of formula, subtracting, multiplying, and dividing I knew the outcome could be a decimal. Our textbook says int are whole number and floats are decimals\n",
    "\n",
    "I typed in random numbers into each output. \n",
    "\n",
    "We had to slove for 'v' so all I did was rewrite the formula the text book gives us into the code, the text tells us to use specific symbols for each form of operation. - = subtraction * = multiplication / = divison. \n",
    "\n",
    "At the end I wanted the program to print the answer so I typed print(v). "
   ]
  },
  {
   "cell_type": "code",
   "execution_count": null,
   "id": "d9a8bb4a",
   "metadata": {},
   "outputs": [],
   "source": []
  }
 ],
 "metadata": {
  "kernelspec": {
   "display_name": "Python 3 (ipykernel)",
   "language": "python",
   "name": "python3"
  },
  "language_info": {
   "codemirror_mode": {
    "name": "ipython",
    "version": 3
   },
   "file_extension": ".py",
   "mimetype": "text/x-python",
   "name": "python",
   "nbconvert_exporter": "python",
   "pygments_lexer": "ipython3",
   "version": "3.11.4"
  }
 },
 "nbformat": 4,
 "nbformat_minor": 5
}
